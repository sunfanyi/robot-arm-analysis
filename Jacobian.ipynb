{
 "cells": [
  {
   "cell_type": "markdown",
   "id": "3442264a",
   "metadata": {},
   "source": [
    "# 4 Degree of Freedom Robot Arm"
   ]
  },
  {
   "cell_type": "code",
   "execution_count": 1,
   "id": "ee69fa75",
   "metadata": {},
   "outputs": [],
   "source": [
    "import time\n",
    "import numpy as np\n",
    "from sympy import *\n",
    "import matplotlib.pyplot as plt\n",
    "from mpl_toolkits import mplot3d\n",
    "from IPython.display import display, Math\n",
    "\n",
    "from tools import *"
   ]
  },
  {
   "cell_type": "markdown",
   "id": "814b6ef7",
   "metadata": {},
   "source": [
    "## Variables and settings"
   ]
  },
  {
   "cell_type": "code",
   "execution_count": 2,
   "id": "15340500",
   "metadata": {},
   "outputs": [],
   "source": [
    "# Constants\n",
    "l0 = symbols('l_0')\n",
    "l2 = symbols('l_2')\n",
    "l3 = symbols('l_3')\n",
    "l4 = symbols('l_4')\n",
    "le = symbols('l_e')\n",
    "\n",
    "# Variables\n",
    "t = symbols('t')\n",
    "theta2 = Function(r\"\\theta_2\")(t)\n",
    "theta2_dot = diff(theta2, t)\n",
    "theta2_ddot = diff(theta2, t, t)\n",
    "\n",
    "theta3 = Function(r\"\\theta_3\")(t)\n",
    "theta3_dot = diff(theta3, t)\n",
    "theta3_ddot = diff(theta3, t, t)\n",
    "\n",
    "theta4 = Function(r\"\\theta_4\")(t)\n",
    "theta4_dot = diff(theta4, t)\n",
    "theta4_ddot = diff(theta4, t, t)\n",
    "\n",
    "d1 = Function('d_1')(t)\n",
    "d1_dot = diff(d1, t)\n",
    "d1_ddot = diff(d1, t, t)\n",
    "\n",
    "\n",
    "alias = {}\n",
    "# display as x dot instead of dx/dt, and ignore dependency (t)\n",
    "alias.update({theta2: symbols(r\"\\theta_2\"),\n",
    "              theta2_dot: symbols(r\"\\dot{\\theta_2}\"),\n",
    "              theta2_ddot: symbols(r\"\\ddot{\\theta_2}\"),\n",
    "              theta3: symbols(r\"\\theta_3\"),\n",
    "              theta3_dot: symbols(r\"\\dot{\\theta_3}\"),\n",
    "              theta3_ddot: symbols(r\"\\ddot{\\theta_3}\"),\n",
    "              theta4: symbols(r\"\\theta_4\"),\n",
    "              theta4_dot: symbols(r\"\\dot{\\theta_4}\"),\n",
    "              theta4_ddot: symbols(r\"\\ddot{\\theta_4}\"),\n",
    "              d1: symbols(r\"d_1\"),\n",
    "              d1_dot: symbols(r\"\\dot{d_1}\"),\n",
    "              d1_ddot: symbols(r\"\\ddot{d_1}\"),}) \n",
    "\n",
    "# display cos(theta) as c\\theta, sin(theta) as s\\theta\n",
    "alias.update({sin(theta2): symbols(r\"s\\theta_2\"),\n",
    "              cos(theta2): symbols(r\"c\\theta_2\"),\n",
    "              sin(theta3): symbols(r\"s\\theta_3\"),\n",
    "              cos(theta3): symbols(r\"c\\theta_3\"),\n",
    "              sin(theta4): symbols(r\"s\\theta_4\"),\n",
    "              cos(theta4): symbols(r\"c\\theta_4\")})"
   ]
  },
  {
   "cell_type": "markdown",
   "id": "f4613f4b",
   "metadata": {},
   "source": [
    "## Transformation Metrics (see forward_kinematics.py)"
   ]
  },
  {
   "cell_type": "code",
   "execution_count": 3,
   "id": "51db3104",
   "metadata": {},
   "outputs": [],
   "source": [
    "R01, T01, P01 = get_trans_mat(0, 0, l0+d1, 0, return_P=True)\n",
    "R12, T12, P12 = get_trans_mat(0, 0, 0, theta2, return_P=True)\n",
    "R23, T23, P23 = get_trans_mat(l2, 90, 0, theta3+pi/2, return_P=True)\n",
    "R34, T34, P34 = get_trans_mat(0, 90, l3, theta4, return_P=True)\n",
    "R4e, T4e, P4e = get_trans_mat(-le, 0, l4, 0, return_P=True)\n",
    "\n",
    "R10 = R01.T\n",
    "R21 = R12.T\n",
    "R32 = R23.T\n",
    "R43 = R34.T\n",
    "Re4 = R4e.T\n",
    "\n",
    "R0e = R01 * R12 * R23 * R34 * R4e\n",
    "T0e = T01 * T12 * T23 * T34 * T4e"
   ]
  },
  {
   "cell_type": "markdown",
   "id": "a138c9ba",
   "metadata": {},
   "source": [
    "## Velocity Metrices"
   ]
  },
  {
   "cell_type": "code",
   "execution_count": 4,
   "id": "5558b45c",
   "metadata": {},
   "outputs": [
    {
     "name": "stdout",
     "output_type": "stream",
     "text": [
      "Frame 0 (Base)\n"
     ]
    },
    {
     "data": {
      "text/latex": [
       "$\\displaystyle ^0\\Omega_{0}$"
      ],
      "text/plain": [
       "^0\\Omega_0"
      ]
     },
     "metadata": {},
     "output_type": "display_data"
    },
    {
     "data": {
      "text/latex": [
       "$\\displaystyle \\left[\\begin{matrix}0\\\\0\\\\0\\end{matrix}\\right]$"
      ],
      "text/plain": [
       "Matrix([\n",
       "[0],\n",
       "[0],\n",
       "[0]])"
      ]
     },
     "metadata": {},
     "output_type": "display_data"
    },
    {
     "data": {
      "text/latex": [
       "$\\displaystyle ^0V_{0}$"
      ],
      "text/plain": [
       "^0V_0"
      ]
     },
     "metadata": {},
     "output_type": "display_data"
    },
    {
     "data": {
      "text/latex": [
       "$\\displaystyle \\left[\\begin{matrix}0\\\\0\\\\0\\end{matrix}\\right]$"
      ],
      "text/plain": [
       "Matrix([\n",
       "[0],\n",
       "[0],\n",
       "[0]])"
      ]
     },
     "metadata": {},
     "output_type": "display_data"
    },
    {
     "name": "stdout",
     "output_type": "stream",
     "text": [
      "Frame 1\n"
     ]
    },
    {
     "data": {
      "text/latex": [
       "$\\displaystyle ^1\\Omega_{1}$"
      ],
      "text/plain": [
       "^1\\Omega_1"
      ]
     },
     "metadata": {},
     "output_type": "display_data"
    },
    {
     "data": {
      "text/latex": [
       "$\\displaystyle \\left[\\begin{matrix}0\\\\0\\\\0\\end{matrix}\\right]$"
      ],
      "text/plain": [
       "Matrix([\n",
       "[0],\n",
       "[0],\n",
       "[0]])"
      ]
     },
     "metadata": {},
     "output_type": "display_data"
    },
    {
     "data": {
      "text/latex": [
       "$\\displaystyle ^1V_{1}$"
      ],
      "text/plain": [
       "^1V_1"
      ]
     },
     "metadata": {},
     "output_type": "display_data"
    },
    {
     "data": {
      "text/latex": [
       "$\\displaystyle \\left[\\begin{matrix}0\\\\0\\\\\\dot{d_1}\\end{matrix}\\right]$"
      ],
      "text/plain": [
       "Matrix([\n",
       "[        0],\n",
       "[        0],\n",
       "[\\dot{d_1}]])"
      ]
     },
     "metadata": {},
     "output_type": "display_data"
    },
    {
     "name": "stdout",
     "output_type": "stream",
     "text": [
      "Frame 2\n"
     ]
    },
    {
     "data": {
      "text/latex": [
       "$\\displaystyle ^2\\Omega_{2}$"
      ],
      "text/plain": [
       "^2\\Omega_2"
      ]
     },
     "metadata": {},
     "output_type": "display_data"
    },
    {
     "data": {
      "text/latex": [
       "$\\displaystyle \\left[\\begin{matrix}0\\\\0\\\\\\dot{\\theta_2}\\end{matrix}\\right]$"
      ],
      "text/plain": [
       "Matrix([\n",
       "[             0],\n",
       "[             0],\n",
       "[\\dot{\\theta_2}]])"
      ]
     },
     "metadata": {},
     "output_type": "display_data"
    },
    {
     "data": {
      "text/latex": [
       "$\\displaystyle ^2V_{2}$"
      ],
      "text/plain": [
       "^2V_2"
      ]
     },
     "metadata": {},
     "output_type": "display_data"
    },
    {
     "data": {
      "text/latex": [
       "$\\displaystyle \\left[\\begin{matrix}0\\\\0\\\\\\dot{d_1}\\end{matrix}\\right]$"
      ],
      "text/plain": [
       "Matrix([\n",
       "[        0],\n",
       "[        0],\n",
       "[\\dot{d_1}]])"
      ]
     },
     "metadata": {},
     "output_type": "display_data"
    },
    {
     "name": "stdout",
     "output_type": "stream",
     "text": [
      "Frame 3\n"
     ]
    },
    {
     "data": {
      "text/latex": [
       "$\\displaystyle ^3\\Omega_{3}$"
      ],
      "text/plain": [
       "^3\\Omega_3"
      ]
     },
     "metadata": {},
     "output_type": "display_data"
    },
    {
     "data": {
      "text/latex": [
       "$\\displaystyle \\left[\\begin{matrix}\\dot{\\theta_2} c\\theta_{3}\\\\- \\dot{\\theta_2} s\\theta_{3}\\\\\\dot{\\theta_3}\\end{matrix}\\right]$"
      ],
      "text/plain": [
       "Matrix([\n",
       "[ \\dot{\\theta_2}*c\\theta_3],\n",
       "[-\\dot{\\theta_2}*s\\theta_3],\n",
       "[           \\dot{\\theta_3}]])"
      ]
     },
     "metadata": {},
     "output_type": "display_data"
    },
    {
     "data": {
      "text/latex": [
       "$\\displaystyle ^3V_{3}$"
      ],
      "text/plain": [
       "^3V_3"
      ]
     },
     "metadata": {},
     "output_type": "display_data"
    },
    {
     "data": {
      "text/latex": [
       "$\\displaystyle \\left[\\begin{matrix}\\dot{d_1} c\\theta_{3}\\\\- \\dot{d_1} s\\theta_{3}\\\\- \\dot{\\theta_2} l_{2}\\end{matrix}\\right]$"
      ],
      "text/plain": [
       "Matrix([\n",
       "[ \\dot{d_1}*c\\theta_3],\n",
       "[-\\dot{d_1}*s\\theta_3],\n",
       "[ -\\dot{\\theta_2}*l_2]])"
      ]
     },
     "metadata": {},
     "output_type": "display_data"
    },
    {
     "name": "stdout",
     "output_type": "stream",
     "text": [
      "Frame 4\n"
     ]
    },
    {
     "data": {
      "text/latex": [
       "$\\displaystyle ^4\\Omega_{4}$"
      ],
      "text/plain": [
       "^4\\Omega_4"
      ]
     },
     "metadata": {},
     "output_type": "display_data"
    },
    {
     "data": {
      "text/latex": [
       "$\\displaystyle \\left[\\begin{matrix}\\dot{\\theta_2} c\\theta_{3} c\\theta_{4} + \\dot{\\theta_3} s\\theta_{4}\\\\- \\dot{\\theta_2} c\\theta_{3} s\\theta_{4} + \\dot{\\theta_3} c\\theta_{4}\\\\\\dot{\\theta_2} s\\theta_{3} + \\dot{\\theta_4}\\end{matrix}\\right]$"
      ],
      "text/plain": [
       "Matrix([\n",
       "[ \\dot{\\theta_2}*c\\theta_3*c\\theta_4 + \\dot{\\theta_3}*s\\theta_4],\n",
       "[-\\dot{\\theta_2}*c\\theta_3*s\\theta_4 + \\dot{\\theta_3}*c\\theta_4],\n",
       "[                     \\dot{\\theta_2}*s\\theta_3 + \\dot{\\theta_4}]])"
      ]
     },
     "metadata": {},
     "output_type": "display_data"
    },
    {
     "data": {
      "text/latex": [
       "$\\displaystyle ^4V_{4}$"
      ],
      "text/plain": [
       "^4V_4"
      ]
     },
     "metadata": {},
     "output_type": "display_data"
    },
    {
     "data": {
      "text/latex": [
       "$\\displaystyle \\left[\\begin{matrix}- \\dot{\\theta_2} s\\theta_{4} \\left(c\\theta_{3} l_{3} + l_{2}\\right) + c\\theta_{4} \\left(\\dot{\\theta_3} l_{3} + \\dot{d_1} c\\theta_{3}\\right)\\\\- \\dot{\\theta_2} c\\theta_{4} \\left(c\\theta_{3} l_{3} + l_{2}\\right) - s\\theta_{4} \\left(\\dot{\\theta_3} l_{3} + \\dot{d_1} c\\theta_{3}\\right)\\\\\\dot{d_1} s\\theta_{3}\\end{matrix}\\right]$"
      ],
      "text/plain": [
       "Matrix([\n",
       "[-\\dot{\\theta_2}*s\\theta_4*(c\\theta_3*l_3 + l_2) + c\\theta_4*(\\dot{\\theta_3}*l_3 + \\dot{d_1}*c\\theta_3)],\n",
       "[-\\dot{\\theta_2}*c\\theta_4*(c\\theta_3*l_3 + l_2) - s\\theta_4*(\\dot{\\theta_3}*l_3 + \\dot{d_1}*c\\theta_3)],\n",
       "[                                                                                   \\dot{d_1}*s\\theta_3]])"
      ]
     },
     "metadata": {},
     "output_type": "display_data"
    },
    {
     "name": "stdout",
     "output_type": "stream",
     "text": [
      "Frame e (end effector)\n"
     ]
    },
    {
     "data": {
      "text/latex": [
       "$\\displaystyle ^e\\Omega_{e}$"
      ],
      "text/plain": [
       "^e\\Omega_e"
      ]
     },
     "metadata": {},
     "output_type": "display_data"
    },
    {
     "data": {
      "text/latex": [
       "$\\displaystyle \\left[\\begin{matrix}\\dot{\\theta_2} c\\theta_{3} c\\theta_{4} + \\dot{\\theta_3} s\\theta_{4}\\\\- \\dot{\\theta_2} c\\theta_{3} s\\theta_{4} + \\dot{\\theta_3} c\\theta_{4}\\\\\\dot{\\theta_2} s\\theta_{3} + \\dot{\\theta_4}\\end{matrix}\\right]$"
      ],
      "text/plain": [
       "Matrix([\n",
       "[ \\dot{\\theta_2}*c\\theta_3*c\\theta_4 + \\dot{\\theta_3}*s\\theta_4],\n",
       "[-\\dot{\\theta_2}*c\\theta_3*s\\theta_4 + \\dot{\\theta_3}*c\\theta_4],\n",
       "[                     \\dot{\\theta_2}*s\\theta_3 + \\dot{\\theta_4}]])"
      ]
     },
     "metadata": {},
     "output_type": "display_data"
    },
    {
     "data": {
      "text/latex": [
       "$\\displaystyle ^eV_{e}$"
      ],
      "text/plain": [
       "^eV_e"
      ]
     },
     "metadata": {},
     "output_type": "display_data"
    },
    {
     "data": {
      "text/latex": [
       "$\\displaystyle \\left[\\begin{matrix}- \\dot{\\theta_2} s\\theta_{4} \\left(c\\theta_{3} l_{3} + l_{2}\\right) + c\\theta_{4} \\left(\\dot{\\theta_3} l_{3} + \\dot{d_1} c\\theta_{3}\\right) - l_{4} \\left(\\dot{\\theta_2} c\\theta_{3} s\\theta_{4} - \\dot{\\theta_3} c\\theta_{4}\\right)\\\\- \\dot{\\theta_2} c\\theta_{4} \\left(c\\theta_{3} l_{3} + l_{2}\\right) - l_{4} \\left(\\dot{\\theta_2} c\\theta_{3} c\\theta_{4} + \\dot{\\theta_3} s\\theta_{4}\\right) - l_{e} \\left(\\dot{\\theta_2} s\\theta_{3} + \\dot{\\theta_4}\\right) - s\\theta_{4} \\left(\\dot{\\theta_3} l_{3} + \\dot{d_1} c\\theta_{3}\\right)\\\\\\dot{d_1} s\\theta_{3} - l_{e} \\left(\\dot{\\theta_2} c\\theta_{3} s\\theta_{4} - \\dot{\\theta_3} c\\theta_{4}\\right)\\end{matrix}\\right]$"
      ],
      "text/plain": [
       "Matrix([\n",
       "[                                                  -\\dot{\\theta_2}*s\\theta_4*(c\\theta_3*l_3 + l_2) + c\\theta_4*(\\dot{\\theta_3}*l_3 + \\dot{d_1}*c\\theta_3) - l_4*(\\dot{\\theta_2}*c\\theta_3*s\\theta_4 - \\dot{\\theta_3}*c\\theta_4)],\n",
       "[-\\dot{\\theta_2}*c\\theta_4*(c\\theta_3*l_3 + l_2) - l_4*(\\dot{\\theta_2}*c\\theta_3*c\\theta_4 + \\dot{\\theta_3}*s\\theta_4) - l_e*(\\dot{\\theta_2}*s\\theta_3 + \\dot{\\theta_4}) - s\\theta_4*(\\dot{\\theta_3}*l_3 + \\dot{d_1}*c\\theta_3)],\n",
       "[                                                                                                                                     \\dot{d_1}*s\\theta_3 - l_e*(\\dot{\\theta_2}*c\\theta_3*s\\theta_4 - \\dot{\\theta_3}*c\\theta_4)]])"
      ]
     },
     "metadata": {},
     "output_type": "display_data"
    }
   ],
   "source": [
    "print('Frame 0 (Base)')\n",
    "W00 = zeros(3, 1)\n",
    "symprint('\\Omega', 0, 0)\n",
    "matprint(W00, alias)\n",
    "V00 = zeros(3, 1)\n",
    "symprint('V', 0, 0)\n",
    "matprint(V00, alias)\n",
    "\n",
    "print('Frame 1')\n",
    "W11 = R10 * W00\n",
    "symprint('\\Omega', 1, 1)\n",
    "matprint(W11, alias)\n",
    "V11 = R10 * (V00 + W00.cross(P01)) + Matrix([0, 0, d1_dot])\n",
    "symprint('V', 1, 1)\n",
    "matprint(V11, alias)\n",
    "\n",
    "print('Frame 2')\n",
    "W22 = R21 * W11 + Matrix([0, 0, theta2_dot])\n",
    "symprint('\\Omega', 2, 2)\n",
    "matprint(W22, alias)\n",
    "V22 = R21 * (V11 + W11.cross(P12))\n",
    "symprint('V', 2, 2)\n",
    "matprint(V22, alias)\n",
    "\n",
    "print('Frame 3')\n",
    "W33 = R32 * W22 + Matrix([0, 0, theta3_dot])\n",
    "symprint('\\Omega', 3, 3)\n",
    "matprint(W33, alias)\n",
    "V33 = R32 * (V22 + W22.cross(P23))\n",
    "symprint('V', 3, 3)\n",
    "matprint(V33, alias)\n",
    "\n",
    "print('Frame 4')\n",
    "W44 = R43 * W33 + Matrix([0, 0, theta4_dot])\n",
    "W44.simplify()\n",
    "symprint('\\Omega', 4, 4)\n",
    "matprint(W44, alias)\n",
    "V44 = R43 * (V33 + W33.cross(P34))\n",
    "V44.simplify()\n",
    "symprint('V', 4, 4)\n",
    "matprint(V44, alias)\n",
    "\n",
    "print('Frame e (end effector)')\n",
    "Wee = Re4 * W44\n",
    "Wee.simplify()\n",
    "symprint('\\Omega', 'e', 'e')\n",
    "matprint(Wee, alias)\n",
    "Vee = Re4 * (V44 + W44.cross(P4e))\n",
    "Vee.simplify()\n",
    "symprint('V', 'e', 'e')\n",
    "matprint(Vee, alias)"
   ]
  },
  {
   "cell_type": "markdown",
   "id": "59003275",
   "metadata": {},
   "source": [
    "### The Jacobian of velocities of the end effector in frame {e} is:"
   ]
  },
  {
   "cell_type": "code",
   "execution_count": 5,
   "id": "8ec81124",
   "metadata": {},
   "outputs": [
    {
     "data": {
      "text/latex": [
       "$\\displaystyle ^eJ_{e}$"
      ],
      "text/plain": [
       "^eJ_e"
      ]
     },
     "metadata": {},
     "output_type": "display_data"
    },
    {
     "data": {
      "text/latex": [
       "$\\displaystyle \\left[\\begin{matrix}c\\theta_{3} c\\theta_{4} & - c\\theta_{3} l_{4} s\\theta_{4} + s\\theta_{4} \\left(- c\\theta_{3} l_{3} - l_{2}\\right) & c\\theta_{4} l_{3} + c\\theta_{4} l_{4} & 0\\\\- c\\theta_{3} s\\theta_{4} & - c\\theta_{3} c\\theta_{4} l_{4} + c\\theta_{4} \\left(- c\\theta_{3} l_{3} - l_{2}\\right) - l_{e} s\\theta_{3} & - l_{3} s\\theta_{4} - l_{4} s\\theta_{4} & - l_{e}\\\\s\\theta_{3} & - c\\theta_{3} l_{e} s\\theta_{4} & c\\theta_{4} l_{e} & 0\\\\0 & c\\theta_{3} c\\theta_{4} & s\\theta_{4} & 0\\\\0 & - c\\theta_{3} s\\theta_{4} & c\\theta_{4} & 0\\\\0 & s\\theta_{3} & 0 & 1\\end{matrix}\\right]$"
      ],
      "text/plain": [
       "Matrix([\n",
       "[ c\\theta_3*c\\theta_4,                 -c\\theta_3*l_4*s\\theta_4 + s\\theta_4*(-c\\theta_3*l_3 - l_2),  c\\theta_4*l_3 + c\\theta_4*l_4,    0],\n",
       "[-c\\theta_3*s\\theta_4, -c\\theta_3*c\\theta_4*l_4 + c\\theta_4*(-c\\theta_3*l_3 - l_2) - l_e*s\\theta_3, -l_3*s\\theta_4 - l_4*s\\theta_4, -l_e],\n",
       "[           s\\theta_3,                                                    -c\\theta_3*l_e*s\\theta_4,                  c\\theta_4*l_e,    0],\n",
       "[                   0,                                                         c\\theta_3*c\\theta_4,                      s\\theta_4,    0],\n",
       "[                   0,                                                        -c\\theta_3*s\\theta_4,                      c\\theta_4,    0],\n",
       "[                   0,                                                                   s\\theta_3,                              0,    1]])"
      ]
     },
     "metadata": {},
     "output_type": "display_data"
    }
   ],
   "source": [
    "Jee = Matrix([[Vee[0].diff(d1_dot), Vee[0].diff(theta2_dot), Vee[0].diff(theta3_dot), Vee[0].diff(theta4_dot)],\n",
    "              [Vee[1].diff(d1_dot), Vee[1].diff(theta2_dot), Vee[1].diff(theta3_dot), Vee[1].diff(theta4_dot)],\n",
    "              [Vee[2].diff(d1_dot), Vee[2].diff(theta2_dot), Vee[2].diff(theta3_dot), Vee[2].diff(theta4_dot)],\n",
    "              [Wee[0].diff(d1_dot), Wee[0].diff(theta2_dot), Wee[0].diff(theta3_dot), Wee[0].diff(theta4_dot)],\n",
    "              [Wee[1].diff(d1_dot), Wee[1].diff(theta2_dot), Wee[1].diff(theta3_dot), Wee[1].diff(theta4_dot)],\n",
    "              [Wee[2].diff(d1_dot), Wee[2].diff(theta2_dot), Wee[2].diff(theta3_dot), Wee[2].diff(theta4_dot)]])\n",
    "\n",
    "symprint('J', 'e', 'e')\n",
    "matprint(Jee, alias)"
   ]
  },
  {
   "cell_type": "markdown",
   "id": "18fe5eb9",
   "metadata": {},
   "source": [
    "### Therefore the Jacobian of velocities of the end effector in frame {0} is:"
   ]
  },
  {
   "cell_type": "code",
   "execution_count": 6,
   "id": "6ab1cedf",
   "metadata": {},
   "outputs": [
    {
     "data": {
      "text/latex": [
       "$\\displaystyle ^0J_{e}$"
      ],
      "text/plain": [
       "^0J_e"
      ]
     },
     "metadata": {},
     "output_type": "display_data"
    },
    {
     "data": {
      "text/latex": [
       "$\\displaystyle \\left[\\begin{matrix}c\\theta_{2} c\\theta_{3} s\\theta_{3} + c\\theta_{3} c\\theta_{4} \\left(- c\\theta_{2} c\\theta_{4} s\\theta_{3} + s\\theta_{2} s\\theta_{4}\\right) - c\\theta_{3} s\\theta_{4} \\left(c\\theta_{2} s\\theta_{3} s\\theta_{4} + c\\theta_{4} s\\theta_{2}\\right) & - c\\theta_{2} c\\theta_{3}^{2} l_{e} s\\theta_{4} + \\left(- c\\theta_{2} c\\theta_{4} s\\theta_{3} + s\\theta_{2} s\\theta_{4}\\right) \\left(- c\\theta_{3} l_{4} s\\theta_{4} + s\\theta_{4} \\left(- c\\theta_{3} l_{3} - l_{2}\\right)\\right) + \\left(c\\theta_{2} s\\theta_{3} s\\theta_{4} + c\\theta_{4} s\\theta_{2}\\right) \\left(- c\\theta_{3} c\\theta_{4} l_{4} + c\\theta_{4} \\left(- c\\theta_{3} l_{3} - l_{2}\\right) - l_{e} s\\theta_{3}\\right) & c\\theta_{2} c\\theta_{3} c\\theta_{4} l_{e} + \\left(c\\theta_{4} l_{3} + c\\theta_{4} l_{4}\\right) \\left(- c\\theta_{2} c\\theta_{4} s\\theta_{3} + s\\theta_{2} s\\theta_{4}\\right) + \\left(- l_{3} s\\theta_{4} - l_{4} s\\theta_{4}\\right) \\left(c\\theta_{2} s\\theta_{3} s\\theta_{4} + c\\theta_{4} s\\theta_{2}\\right) & - l_{e} \\left(c\\theta_{2} s\\theta_{3} s\\theta_{4} + c\\theta_{4} s\\theta_{2}\\right)\\\\c\\theta_{3} c\\theta_{4} \\left(- c\\theta_{2} s\\theta_{4} - c\\theta_{4} s\\theta_{2} s\\theta_{3}\\right) + c\\theta_{3} s\\theta_{2} s\\theta_{3} - c\\theta_{3} s\\theta_{4} \\left(- c\\theta_{2} c\\theta_{4} + s\\theta_{2} s\\theta_{3} s\\theta_{4}\\right) & - c\\theta_{3}^{2} l_{e} s\\theta_{2} s\\theta_{4} + \\left(- c\\theta_{2} c\\theta_{4} + s\\theta_{2} s\\theta_{3} s\\theta_{4}\\right) \\left(- c\\theta_{3} c\\theta_{4} l_{4} + c\\theta_{4} \\left(- c\\theta_{3} l_{3} - l_{2}\\right) - l_{e} s\\theta_{3}\\right) + \\left(- c\\theta_{2} s\\theta_{4} - c\\theta_{4} s\\theta_{2} s\\theta_{3}\\right) \\left(- c\\theta_{3} l_{4} s\\theta_{4} + s\\theta_{4} \\left(- c\\theta_{3} l_{3} - l_{2}\\right)\\right) & c\\theta_{3} c\\theta_{4} l_{e} s\\theta_{2} + \\left(- c\\theta_{2} c\\theta_{4} + s\\theta_{2} s\\theta_{3} s\\theta_{4}\\right) \\left(- l_{3} s\\theta_{4} - l_{4} s\\theta_{4}\\right) + \\left(- c\\theta_{2} s\\theta_{4} - c\\theta_{4} s\\theta_{2} s\\theta_{3}\\right) \\left(c\\theta_{4} l_{3} + c\\theta_{4} l_{4}\\right) & - l_{e} \\left(- c\\theta_{2} c\\theta_{4} + s\\theta_{2} s\\theta_{3} s\\theta_{4}\\right)\\\\c\\theta_{3}^{2} c\\theta_{4}^{2} + c\\theta_{3}^{2} s\\theta_{4}^{2} + s\\theta_{3}^{2} & c\\theta_{3} c\\theta_{4} \\left(- c\\theta_{3} l_{4} s\\theta_{4} + s\\theta_{4} \\left(- c\\theta_{3} l_{3} - l_{2}\\right)\\right) - c\\theta_{3} l_{e} s\\theta_{3} s\\theta_{4} - c\\theta_{3} s\\theta_{4} \\left(- c\\theta_{3} c\\theta_{4} l_{4} + c\\theta_{4} \\left(- c\\theta_{3} l_{3} - l_{2}\\right) - l_{e} s\\theta_{3}\\right) & c\\theta_{3} c\\theta_{4} \\left(c\\theta_{4} l_{3} + c\\theta_{4} l_{4}\\right) - c\\theta_{3} s\\theta_{4} \\left(- l_{3} s\\theta_{4} - l_{4} s\\theta_{4}\\right) + c\\theta_{4} l_{e} s\\theta_{3} & c\\theta_{3} l_{e} s\\theta_{4}\\\\0 & c\\theta_{2} c\\theta_{3} s\\theta_{3} + c\\theta_{3} c\\theta_{4} \\left(- c\\theta_{2} c\\theta_{4} s\\theta_{3} + s\\theta_{2} s\\theta_{4}\\right) - c\\theta_{3} s\\theta_{4} \\left(c\\theta_{2} s\\theta_{3} s\\theta_{4} + c\\theta_{4} s\\theta_{2}\\right) & c\\theta_{4} \\left(c\\theta_{2} s\\theta_{3} s\\theta_{4} + c\\theta_{4} s\\theta_{2}\\right) + s\\theta_{4} \\left(- c\\theta_{2} c\\theta_{4} s\\theta_{3} + s\\theta_{2} s\\theta_{4}\\right) & c\\theta_{2} c\\theta_{3}\\\\0 & c\\theta_{3} c\\theta_{4} \\left(- c\\theta_{2} s\\theta_{4} - c\\theta_{4} s\\theta_{2} s\\theta_{3}\\right) + c\\theta_{3} s\\theta_{2} s\\theta_{3} - c\\theta_{3} s\\theta_{4} \\left(- c\\theta_{2} c\\theta_{4} + s\\theta_{2} s\\theta_{3} s\\theta_{4}\\right) & c\\theta_{4} \\left(- c\\theta_{2} c\\theta_{4} + s\\theta_{2} s\\theta_{3} s\\theta_{4}\\right) + s\\theta_{4} \\left(- c\\theta_{2} s\\theta_{4} - c\\theta_{4} s\\theta_{2} s\\theta_{3}\\right) & c\\theta_{3} s\\theta_{2}\\\\0 & c\\theta_{3}^{2} c\\theta_{4}^{2} + c\\theta_{3}^{2} s\\theta_{4}^{2} + s\\theta_{3}^{2} & 0 & s\\theta_{3}\\end{matrix}\\right]$"
      ],
      "text/plain": [
       "Matrix([\n",
       "[ c\\theta_2*c\\theta_3*s\\theta_3 + c\\theta_3*c\\theta_4*(-c\\theta_2*c\\theta_4*s\\theta_3 + s\\theta_2*s\\theta_4) - c\\theta_3*s\\theta_4*(c\\theta_2*s\\theta_3*s\\theta_4 + c\\theta_4*s\\theta_2),  -c\\theta_2*c\\theta_3**2*l_e*s\\theta_4 + (-c\\theta_2*c\\theta_4*s\\theta_3 + s\\theta_2*s\\theta_4)*(-c\\theta_3*l_4*s\\theta_4 + s\\theta_4*(-c\\theta_3*l_3 - l_2)) + (c\\theta_2*s\\theta_3*s\\theta_4 + c\\theta_4*s\\theta_2)*(-c\\theta_3*c\\theta_4*l_4 + c\\theta_4*(-c\\theta_3*l_3 - l_2) - l_e*s\\theta_3),  c\\theta_2*c\\theta_3*c\\theta_4*l_e + (c\\theta_4*l_3 + c\\theta_4*l_4)*(-c\\theta_2*c\\theta_4*s\\theta_3 + s\\theta_2*s\\theta_4) + (-l_3*s\\theta_4 - l_4*s\\theta_4)*(c\\theta_2*s\\theta_3*s\\theta_4 + c\\theta_4*s\\theta_2),  -l_e*(c\\theta_2*s\\theta_3*s\\theta_4 + c\\theta_4*s\\theta_2)],\n",
       "[c\\theta_3*c\\theta_4*(-c\\theta_2*s\\theta_4 - c\\theta_4*s\\theta_2*s\\theta_3) + c\\theta_3*s\\theta_2*s\\theta_3 - c\\theta_3*s\\theta_4*(-c\\theta_2*c\\theta_4 + s\\theta_2*s\\theta_3*s\\theta_4), -c\\theta_3**2*l_e*s\\theta_2*s\\theta_4 + (-c\\theta_2*c\\theta_4 + s\\theta_2*s\\theta_3*s\\theta_4)*(-c\\theta_3*c\\theta_4*l_4 + c\\theta_4*(-c\\theta_3*l_3 - l_2) - l_e*s\\theta_3) + (-c\\theta_2*s\\theta_4 - c\\theta_4*s\\theta_2*s\\theta_3)*(-c\\theta_3*l_4*s\\theta_4 + s\\theta_4*(-c\\theta_3*l_3 - l_2)), c\\theta_3*c\\theta_4*l_e*s\\theta_2 + (-c\\theta_2*c\\theta_4 + s\\theta_2*s\\theta_3*s\\theta_4)*(-l_3*s\\theta_4 - l_4*s\\theta_4) + (-c\\theta_2*s\\theta_4 - c\\theta_4*s\\theta_2*s\\theta_3)*(c\\theta_4*l_3 + c\\theta_4*l_4), -l_e*(-c\\theta_2*c\\theta_4 + s\\theta_2*s\\theta_3*s\\theta_4)],\n",
       "[                                                                                                                   c\\theta_3**2*c\\theta_4**2 + c\\theta_3**2*s\\theta_4**2 + s\\theta_3**2,                                                                           c\\theta_3*c\\theta_4*(-c\\theta_3*l_4*s\\theta_4 + s\\theta_4*(-c\\theta_3*l_3 - l_2)) - c\\theta_3*l_e*s\\theta_3*s\\theta_4 - c\\theta_3*s\\theta_4*(-c\\theta_3*c\\theta_4*l_4 + c\\theta_4*(-c\\theta_3*l_3 - l_2) - l_e*s\\theta_3),                                                                                 c\\theta_3*c\\theta_4*(c\\theta_4*l_3 + c\\theta_4*l_4) - c\\theta_3*s\\theta_4*(-l_3*s\\theta_4 - l_4*s\\theta_4) + c\\theta_4*l_e*s\\theta_3,                                     c\\theta_3*l_e*s\\theta_4],\n",
       "[                                                                                                                                                                                      0,                                                                                                              c\\theta_2*c\\theta_3*s\\theta_3 + c\\theta_3*c\\theta_4*(-c\\theta_2*c\\theta_4*s\\theta_3 + s\\theta_2*s\\theta_4) - c\\theta_3*s\\theta_4*(c\\theta_2*s\\theta_3*s\\theta_4 + c\\theta_4*s\\theta_2),                                                                                   c\\theta_4*(c\\theta_2*s\\theta_3*s\\theta_4 + c\\theta_4*s\\theta_2) + s\\theta_4*(-c\\theta_2*c\\theta_4*s\\theta_3 + s\\theta_2*s\\theta_4),                                         c\\theta_2*c\\theta_3],\n",
       "[                                                                                                                                                                                      0,                                                                                                             c\\theta_3*c\\theta_4*(-c\\theta_2*s\\theta_4 - c\\theta_4*s\\theta_2*s\\theta_3) + c\\theta_3*s\\theta_2*s\\theta_3 - c\\theta_3*s\\theta_4*(-c\\theta_2*c\\theta_4 + s\\theta_2*s\\theta_3*s\\theta_4),                                                                                  c\\theta_4*(-c\\theta_2*c\\theta_4 + s\\theta_2*s\\theta_3*s\\theta_4) + s\\theta_4*(-c\\theta_2*s\\theta_4 - c\\theta_4*s\\theta_2*s\\theta_3),                                         c\\theta_3*s\\theta_2],\n",
       "[                                                                                                                                                                                      0,                                                                                                                                                                                                                                c\\theta_3**2*c\\theta_4**2 + c\\theta_3**2*s\\theta_4**2 + s\\theta_3**2,                                                                                                                                                                                                                    0,                                                   s\\theta_3]])"
      ]
     },
     "metadata": {},
     "output_type": "display_data"
    },
    {
     "name": "stdout",
     "output_type": "stream",
     "text": [
      "After apply .simplify():\n"
     ]
    },
    {
     "data": {
      "text/latex": [
       "$\\displaystyle ^0J_{e}$"
      ],
      "text/plain": [
       "^0J_e"
      ]
     },
     "metadata": {},
     "output_type": "display_data"
    },
    {
     "data": {
      "text/latex": [
       "$\\displaystyle \\left[\\begin{matrix}0 & - c\\theta_{2} l_{e} s\\theta_{4} - c\\theta_{3} l_{3} s\\theta_{2} - c\\theta_{3} l_{4} s\\theta_{2} - c\\theta_{4} l_{e} s\\theta_{2} s\\theta_{3} - l_{2} s\\theta_{2} & c\\theta_{2} \\left(c\\theta_{3} c\\theta_{4} l_{e} - l_{3} s\\theta_{3} - l_{4} s\\theta_{3}\\right) & - l_{e} \\left(c\\theta_{2} s\\theta_{3} s\\theta_{4} + c\\theta_{4} s\\theta_{2}\\right)\\\\0 & c\\theta_{2} c\\theta_{3} l_{3} + c\\theta_{2} c\\theta_{3} l_{4} + c\\theta_{2} c\\theta_{4} l_{e} s\\theta_{3} + c\\theta_{2} l_{2} - l_{e} s\\theta_{2} s\\theta_{4} & s\\theta_{2} \\left(c\\theta_{3} c\\theta_{4} l_{e} - l_{3} s\\theta_{3} - l_{4} s\\theta_{3}\\right) & l_{e} \\left(c\\theta_{2} c\\theta_{4} - s\\theta_{2} s\\theta_{3} s\\theta_{4}\\right)\\\\1 & 0 & c\\theta_{3} l_{3} + c\\theta_{3} l_{4} + c\\theta_{4} l_{e} s\\theta_{3} & c\\theta_{3} l_{e} s\\theta_{4}\\\\0 & 0 & s\\theta_{2} & c\\theta_{2} c\\theta_{3}\\\\0 & 0 & - c\\theta_{2} & c\\theta_{3} s\\theta_{2}\\\\0 & 1 & 0 & s\\theta_{3}\\end{matrix}\\right]$"
      ],
      "text/plain": [
       "Matrix([\n",
       "[0, -c\\theta_2*l_e*s\\theta_4 - c\\theta_3*l_3*s\\theta_2 - c\\theta_3*l_4*s\\theta_2 - c\\theta_4*l_e*s\\theta_2*s\\theta_3 - l_2*s\\theta_2, c\\theta_2*(c\\theta_3*c\\theta_4*l_e - l_3*s\\theta_3 - l_4*s\\theta_3), -l_e*(c\\theta_2*s\\theta_3*s\\theta_4 + c\\theta_4*s\\theta_2)],\n",
       "[0,  c\\theta_2*c\\theta_3*l_3 + c\\theta_2*c\\theta_3*l_4 + c\\theta_2*c\\theta_4*l_e*s\\theta_3 + c\\theta_2*l_2 - l_e*s\\theta_2*s\\theta_4, s\\theta_2*(c\\theta_3*c\\theta_4*l_e - l_3*s\\theta_3 - l_4*s\\theta_3),  l_e*(c\\theta_2*c\\theta_4 - s\\theta_2*s\\theta_3*s\\theta_4)],\n",
       "[1,                                                                                                                                0,             c\\theta_3*l_3 + c\\theta_3*l_4 + c\\theta_4*l_e*s\\theta_3,                                    c\\theta_3*l_e*s\\theta_4],\n",
       "[0,                                                                                                                                0,                                                           s\\theta_2,                                        c\\theta_2*c\\theta_3],\n",
       "[0,                                                                                                                                0,                                                          -c\\theta_2,                                        c\\theta_3*s\\theta_2],\n",
       "[0,                                                                                                                                1,                                                                   0,                                                  s\\theta_3]])"
      ]
     },
     "metadata": {},
     "output_type": "display_data"
    }
   ],
   "source": [
    "J0e = Matrix([[R0e, zeros(3)], [zeros(3), R0e]]) * Jee\n",
    "symprint('J', 0, 'e')\n",
    "matprint(J0e, alias)\n",
    "\n",
    "print('After apply .simplify():')\n",
    "J0e.simplify()\n",
    "symprint('J', 0, 'e')\n",
    "matprint(J0e, alias)"
   ]
  },
  {
   "cell_type": "code",
   "execution_count": 7,
   "id": "9ab74537",
   "metadata": {},
   "outputs": [
    {
     "data": {
      "text/latex": [
       "$\\displaystyle \\left[\\begin{matrix}- c\\theta_{2} c\\theta_{4} s\\theta_{3} + s\\theta_{2} s\\theta_{4} & c\\theta_{2} s\\theta_{3} s\\theta_{4} + c\\theta_{4} s\\theta_{2} & c\\theta_{2} c\\theta_{3} & 0 & 0 & 0\\\\- c\\theta_{2} s\\theta_{4} - c\\theta_{4} s\\theta_{2} s\\theta_{3} & - c\\theta_{2} c\\theta_{4} + s\\theta_{2} s\\theta_{3} s\\theta_{4} & c\\theta_{3} s\\theta_{2} & 0 & 0 & 0\\\\c\\theta_{3} c\\theta_{4} & - c\\theta_{3} s\\theta_{4} & s\\theta_{3} & 0 & 0 & 0\\\\0 & 0 & 0 & - c\\theta_{2} c\\theta_{4} s\\theta_{3} + s\\theta_{2} s\\theta_{4} & c\\theta_{2} s\\theta_{3} s\\theta_{4} + c\\theta_{4} s\\theta_{2} & c\\theta_{2} c\\theta_{3}\\\\0 & 0 & 0 & - c\\theta_{2} s\\theta_{4} - c\\theta_{4} s\\theta_{2} s\\theta_{3} & - c\\theta_{2} c\\theta_{4} + s\\theta_{2} s\\theta_{3} s\\theta_{4} & c\\theta_{3} s\\theta_{2}\\\\0 & 0 & 0 & c\\theta_{3} c\\theta_{4} & - c\\theta_{3} s\\theta_{4} & s\\theta_{3}\\end{matrix}\\right]$"
      ],
      "text/plain": [
       "Matrix([\n",
       "[-c\\theta_2*c\\theta_4*s\\theta_3 + s\\theta_2*s\\theta_4,  c\\theta_2*s\\theta_3*s\\theta_4 + c\\theta_4*s\\theta_2, c\\theta_2*c\\theta_3,                                                    0,                                                    0,                   0],\n",
       "[-c\\theta_2*s\\theta_4 - c\\theta_4*s\\theta_2*s\\theta_3, -c\\theta_2*c\\theta_4 + s\\theta_2*s\\theta_3*s\\theta_4, c\\theta_3*s\\theta_2,                                                    0,                                                    0,                   0],\n",
       "[                                 c\\theta_3*c\\theta_4,                                 -c\\theta_3*s\\theta_4,           s\\theta_3,                                                    0,                                                    0,                   0],\n",
       "[                                                   0,                                                    0,                   0, -c\\theta_2*c\\theta_4*s\\theta_3 + s\\theta_2*s\\theta_4,  c\\theta_2*s\\theta_3*s\\theta_4 + c\\theta_4*s\\theta_2, c\\theta_2*c\\theta_3],\n",
       "[                                                   0,                                                    0,                   0, -c\\theta_2*s\\theta_4 - c\\theta_4*s\\theta_2*s\\theta_3, -c\\theta_2*c\\theta_4 + s\\theta_2*s\\theta_3*s\\theta_4, c\\theta_3*s\\theta_2],\n",
       "[                                                   0,                                                    0,                   0,                                  c\\theta_3*c\\theta_4,                                 -c\\theta_3*s\\theta_4,           s\\theta_3]])"
      ]
     },
     "execution_count": 7,
     "metadata": {},
     "output_type": "execute_result"
    }
   ],
   "source": [
    "Matrix([[R0e, zeros(3)], [zeros(3), R0e]]).subs(alias)"
   ]
  },
  {
   "cell_type": "markdown",
   "id": "7f6633b5",
   "metadata": {},
   "source": [
    "## Try another method: get $^0V_e$ and $^0\\Omega_e$ from $^0R_e$ and apply differentiation"
   ]
  },
  {
   "cell_type": "code",
   "execution_count": 8,
   "id": "00385de1",
   "metadata": {},
   "outputs": [
    {
     "data": {
      "text/latex": [
       "$\\displaystyle ^0V_{e}$"
      ],
      "text/plain": [
       "^0V_e"
      ]
     },
     "metadata": {},
     "output_type": "display_data"
    },
    {
     "data": {
      "text/latex": [
       "$\\displaystyle \\left[\\begin{matrix}- \\dot{\\theta_2} c\\theta_{2} l_{e} s\\theta_{4} - \\dot{\\theta_2} c\\theta_{3} l_{3} s\\theta_{2} - \\dot{\\theta_2} c\\theta_{3} l_{4} s\\theta_{2} - \\dot{\\theta_2} c\\theta_{4} l_{e} s\\theta_{2} s\\theta_{3} - \\dot{\\theta_2} l_{2} s\\theta_{2} + \\dot{\\theta_3} c\\theta_{2} c\\theta_{3} c\\theta_{4} l_{e} - \\dot{\\theta_3} c\\theta_{2} l_{3} s\\theta_{3} - \\dot{\\theta_3} c\\theta_{2} l_{4} s\\theta_{3} - \\dot{\\theta_4} c\\theta_{2} l_{e} s\\theta_{3} s\\theta_{4} - \\dot{\\theta_4} c\\theta_{4} l_{e} s\\theta_{2}\\\\\\dot{\\theta_2} c\\theta_{2} c\\theta_{3} l_{3} + \\dot{\\theta_2} c\\theta_{2} c\\theta_{3} l_{4} + \\dot{\\theta_2} c\\theta_{2} c\\theta_{4} l_{e} s\\theta_{3} + \\dot{\\theta_2} c\\theta_{2} l_{2} - \\dot{\\theta_2} l_{e} s\\theta_{2} s\\theta_{4} + \\dot{\\theta_3} c\\theta_{3} c\\theta_{4} l_{e} s\\theta_{2} - \\dot{\\theta_3} l_{3} s\\theta_{2} s\\theta_{3} - \\dot{\\theta_3} l_{4} s\\theta_{2} s\\theta_{3} + \\dot{\\theta_4} c\\theta_{2} c\\theta_{4} l_{e} - \\dot{\\theta_4} l_{e} s\\theta_{2} s\\theta_{3} s\\theta_{4}\\\\\\dot{\\theta_3} c\\theta_{3} l_{3} + \\dot{\\theta_3} c\\theta_{3} l_{4} + \\dot{\\theta_3} c\\theta_{4} l_{e} s\\theta_{3} + \\dot{\\theta_4} c\\theta_{3} l_{e} s\\theta_{4} + \\dot{d_1}\\end{matrix}\\right]$"
      ],
      "text/plain": [
       "Matrix([\n",
       "[-\\dot{\\theta_2}*c\\theta_2*l_e*s\\theta_4 - \\dot{\\theta_2}*c\\theta_3*l_3*s\\theta_2 - \\dot{\\theta_2}*c\\theta_3*l_4*s\\theta_2 - \\dot{\\theta_2}*c\\theta_4*l_e*s\\theta_2*s\\theta_3 - \\dot{\\theta_2}*l_2*s\\theta_2 + \\dot{\\theta_3}*c\\theta_2*c\\theta_3*c\\theta_4*l_e - \\dot{\\theta_3}*c\\theta_2*l_3*s\\theta_3 - \\dot{\\theta_3}*c\\theta_2*l_4*s\\theta_3 - \\dot{\\theta_4}*c\\theta_2*l_e*s\\theta_3*s\\theta_4 - \\dot{\\theta_4}*c\\theta_4*l_e*s\\theta_2],\n",
       "[ \\dot{\\theta_2}*c\\theta_2*c\\theta_3*l_3 + \\dot{\\theta_2}*c\\theta_2*c\\theta_3*l_4 + \\dot{\\theta_2}*c\\theta_2*c\\theta_4*l_e*s\\theta_3 + \\dot{\\theta_2}*c\\theta_2*l_2 - \\dot{\\theta_2}*l_e*s\\theta_2*s\\theta_4 + \\dot{\\theta_3}*c\\theta_3*c\\theta_4*l_e*s\\theta_2 - \\dot{\\theta_3}*l_3*s\\theta_2*s\\theta_3 - \\dot{\\theta_3}*l_4*s\\theta_2*s\\theta_3 + \\dot{\\theta_4}*c\\theta_2*c\\theta_4*l_e - \\dot{\\theta_4}*l_e*s\\theta_2*s\\theta_3*s\\theta_4],\n",
       "[                                                                                                                                                                                                                                                                                   \\dot{\\theta_3}*c\\theta_3*l_3 + \\dot{\\theta_3}*c\\theta_3*l_4 + \\dot{\\theta_3}*c\\theta_4*l_e*s\\theta_3 + \\dot{\\theta_4}*c\\theta_3*l_e*s\\theta_4 + \\dot{d_1}]])"
      ]
     },
     "metadata": {},
     "output_type": "display_data"
    },
    {
     "data": {
      "text/latex": [
       "$\\displaystyle ^0W_{e}$"
      ],
      "text/plain": [
       "^0W_e"
      ]
     },
     "metadata": {},
     "output_type": "display_data"
    },
    {
     "data": {
      "text/latex": [
       "$\\displaystyle \\left[\\begin{matrix}\\dot{\\theta_3} s\\theta_{2} + \\dot{\\theta_4} c\\theta_{2} c\\theta_{3}\\\\- \\dot{\\theta_3} c\\theta_{2} + \\dot{\\theta_4} c\\theta_{3} s\\theta_{2}\\\\\\dot{\\theta_2} + \\dot{\\theta_4} s\\theta_{3}\\end{matrix}\\right]$"
      ],
      "text/plain": [
       "Matrix([\n",
       "[ \\dot{\\theta_3}*s\\theta_2 + \\dot{\\theta_4}*c\\theta_2*c\\theta_3],\n",
       "[-\\dot{\\theta_3}*c\\theta_2 + \\dot{\\theta_4}*c\\theta_3*s\\theta_2],\n",
       "[                     \\dot{\\theta_2} + \\dot{\\theta_4}*s\\theta_3]])"
      ]
     },
     "metadata": {},
     "output_type": "display_data"
    }
   ],
   "source": [
    "V0e = R0e * Vee\n",
    "V0e.simplify()\n",
    "symprint('V', 0, 'e')\n",
    "matprint(V0e, alias)\n",
    "\n",
    "W0e = R0e * Wee\n",
    "W0e.simplify()\n",
    "symprint('W', 0, 'e')\n",
    "matprint(W0e, alias)"
   ]
  },
  {
   "cell_type": "code",
   "execution_count": 9,
   "id": "5f9ae00c",
   "metadata": {},
   "outputs": [
    {
     "data": {
      "text/latex": [
       "$\\displaystyle ^0J_{e}$"
      ],
      "text/plain": [
       "^0J_e"
      ]
     },
     "metadata": {},
     "output_type": "display_data"
    },
    {
     "data": {
      "text/latex": [
       "$\\displaystyle \\left[\\begin{matrix}0 & - c\\theta_{2} l_{e} s\\theta_{4} - c\\theta_{3} l_{3} s\\theta_{2} - c\\theta_{3} l_{4} s\\theta_{2} - c\\theta_{4} l_{e} s\\theta_{2} s\\theta_{3} - l_{2} s\\theta_{2} & c\\theta_{2} \\left(c\\theta_{3} c\\theta_{4} l_{e} - l_{3} s\\theta_{3} - l_{4} s\\theta_{3}\\right) & - l_{e} \\left(c\\theta_{2} s\\theta_{3} s\\theta_{4} + c\\theta_{4} s\\theta_{2}\\right)\\\\0 & c\\theta_{2} c\\theta_{3} l_{3} + c\\theta_{2} c\\theta_{3} l_{4} + c\\theta_{2} c\\theta_{4} l_{e} s\\theta_{3} + c\\theta_{2} l_{2} - l_{e} s\\theta_{2} s\\theta_{4} & s\\theta_{2} \\left(c\\theta_{3} c\\theta_{4} l_{e} - l_{3} s\\theta_{3} - l_{4} s\\theta_{3}\\right) & l_{e} \\left(c\\theta_{2} c\\theta_{4} - s\\theta_{2} s\\theta_{3} s\\theta_{4}\\right)\\\\1 & 0 & c\\theta_{3} l_{3} + c\\theta_{3} l_{4} + c\\theta_{4} l_{e} s\\theta_{3} & c\\theta_{3} l_{e} s\\theta_{4}\\\\0 & 0 & s\\theta_{2} & c\\theta_{2} c\\theta_{3}\\\\0 & 0 & - c\\theta_{2} & c\\theta_{3} s\\theta_{2}\\\\0 & 1 & 0 & s\\theta_{3}\\end{matrix}\\right]$"
      ],
      "text/plain": [
       "Matrix([\n",
       "[0, -c\\theta_2*l_e*s\\theta_4 - c\\theta_3*l_3*s\\theta_2 - c\\theta_3*l_4*s\\theta_2 - c\\theta_4*l_e*s\\theta_2*s\\theta_3 - l_2*s\\theta_2, c\\theta_2*(c\\theta_3*c\\theta_4*l_e - l_3*s\\theta_3 - l_4*s\\theta_3), -l_e*(c\\theta_2*s\\theta_3*s\\theta_4 + c\\theta_4*s\\theta_2)],\n",
       "[0,  c\\theta_2*c\\theta_3*l_3 + c\\theta_2*c\\theta_3*l_4 + c\\theta_2*c\\theta_4*l_e*s\\theta_3 + c\\theta_2*l_2 - l_e*s\\theta_2*s\\theta_4, s\\theta_2*(c\\theta_3*c\\theta_4*l_e - l_3*s\\theta_3 - l_4*s\\theta_3),  l_e*(c\\theta_2*c\\theta_4 - s\\theta_2*s\\theta_3*s\\theta_4)],\n",
       "[1,                                                                                                                                0,             c\\theta_3*l_3 + c\\theta_3*l_4 + c\\theta_4*l_e*s\\theta_3,                                    c\\theta_3*l_e*s\\theta_4],\n",
       "[0,                                                                                                                                0,                                                           s\\theta_2,                                        c\\theta_2*c\\theta_3],\n",
       "[0,                                                                                                                                0,                                                          -c\\theta_2,                                        c\\theta_3*s\\theta_2],\n",
       "[0,                                                                                                                                1,                                                                   0,                                                  s\\theta_3]])"
      ]
     },
     "metadata": {},
     "output_type": "display_data"
    }
   ],
   "source": [
    "J0e = Matrix([[V0e[0].diff(d1_dot), V0e[0].diff(theta2_dot), V0e[0].diff(theta3_dot), V0e[0].diff(theta4_dot)],\n",
    "              [V0e[1].diff(d1_dot), V0e[1].diff(theta2_dot), V0e[1].diff(theta3_dot), V0e[1].diff(theta4_dot)],\n",
    "              [V0e[2].diff(d1_dot), V0e[2].diff(theta2_dot), V0e[2].diff(theta3_dot), V0e[2].diff(theta4_dot)],\n",
    "              [W0e[0].diff(d1_dot), W0e[0].diff(theta2_dot), W0e[0].diff(theta3_dot), W0e[0].diff(theta4_dot)],\n",
    "              [W0e[1].diff(d1_dot), W0e[1].diff(theta2_dot), W0e[1].diff(theta3_dot), W0e[1].diff(theta4_dot)],\n",
    "              [W0e[2].diff(d1_dot), W0e[2].diff(theta2_dot), W0e[2].diff(theta3_dot), W0e[2].diff(theta4_dot)]])\n",
    "J0e.simplify()\n",
    "symprint('J', 0, 'e')\n",
    "matprint(J0e, alias)"
   ]
  },
  {
   "cell_type": "markdown",
   "id": "b608b6de",
   "metadata": {},
   "source": [
    "### Same results obtained!"
   ]
  },
  {
   "cell_type": "code",
   "execution_count": null,
   "id": "fdcc87a7",
   "metadata": {},
   "outputs": [],
   "source": []
  }
 ],
 "metadata": {
  "kernelspec": {
   "display_name": "Python 3 (ipykernel)",
   "language": "python",
   "name": "python3"
  },
  "language_info": {
   "codemirror_mode": {
    "name": "ipython",
    "version": 3
   },
   "file_extension": ".py",
   "mimetype": "text/x-python",
   "name": "python",
   "nbconvert_exporter": "python",
   "pygments_lexer": "ipython3",
   "version": "3.9.13"
  }
 },
 "nbformat": 4,
 "nbformat_minor": 5
}
