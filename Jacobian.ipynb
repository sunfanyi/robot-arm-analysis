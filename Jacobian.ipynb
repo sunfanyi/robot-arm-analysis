{
 "cells": [
  {
   "cell_type": "markdown",
   "id": "3442264a",
   "metadata": {},
   "source": [
    "# 4 Degree of Freedom Robot Arm"
   ]
  },
  {
   "cell_type": "code",
   "execution_count": 1,
   "id": "ee69fa75",
   "metadata": {},
   "outputs": [],
   "source": [
    "import time\n",
    "import numpy as np\n",
    "from sympy import *\n",
    "import matplotlib.pyplot as plt\n",
    "from mpl_toolkits import mplot3d\n",
    "from IPython.display import display, Math\n",
    "\n",
    "from tools import *"
   ]
  },
  {
   "cell_type": "markdown",
   "id": "814b6ef7",
   "metadata": {},
   "source": [
    "# Variables and settings"
   ]
  },
  {
   "cell_type": "code",
   "execution_count": null,
   "id": "2d5bb428",
   "metadata": {},
   "outputs": [],
   "source": []
  }
 ],
 "metadata": {
  "kernelspec": {
   "display_name": "Python 3 (ipykernel)",
   "language": "python",
   "name": "python3"
  },
  "language_info": {
   "codemirror_mode": {
    "name": "ipython",
    "version": 3
   },
   "file_extension": ".py",
   "mimetype": "text/x-python",
   "name": "python",
   "nbconvert_exporter": "python",
   "pygments_lexer": "ipython3",
   "version": "3.9.13"
  }
 },
 "nbformat": 4,
 "nbformat_minor": 5
}
