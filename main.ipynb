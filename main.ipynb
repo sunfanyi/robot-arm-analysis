{
 "cells": [
  {
   "cell_type": "markdown",
   "id": "72bca269",
   "metadata": {},
   "source": [
    "# 4 Degree of Freedom Robot Arm"
   ]
  },
  {
   "cell_type": "code",
   "execution_count": 1,
   "id": "ee69fa75",
   "metadata": {},
   "outputs": [],
   "source": [
    "import sys\n",
    "import numpy as np\n",
    "from sympy import *\n",
    "\n",
    "from tools import *"
   ]
  },
  {
   "cell_type": "markdown",
   "id": "814b6ef7",
   "metadata": {},
   "source": [
    "## Variables and settings"
   ]
  },
  {
   "cell_type": "code",
   "execution_count": 2,
   "id": "c5df00cf",
   "metadata": {},
   "outputs": [],
   "source": [
    "# Constants\n",
    "l0 = symbols('l_0')\n",
    "l2 = symbols('l_2')\n",
    "l3 = symbols('l_3')\n",
    "l4 = symbols('l_4')\n",
    "le = symbols('l_e')\n",
    "\n",
    "\n",
    "# Variables\n",
    "t = symbols('t')\n",
    "theta2 = Function(r\"\\theta_2\")(t)\n",
    "theta2_dot = diff(theta2, t)\n",
    "theta2_ddot = diff(theta2, t, t)\n",
    "\n",
    "theta3 = Function(r\"\\theta_3\")(t)\n",
    "theta3_dot = diff(theta3, t)\n",
    "theta3_ddot = diff(theta3, t, t)\n",
    "\n",
    "theta4 = Function(r\"\\theta_4\")(t)\n",
    "theta4_dot = diff(theta4, t)\n",
    "theta4_ddot = diff(theta4, t, t)\n",
    "\n",
    "d1 = Function('d_1')(t)\n",
    "d1_dot = diff(d1, t)\n",
    "d1_ddot = diff(d1, t, t)\n",
    "\n",
    "\n",
    "alias = {}\n",
    "# display as x dot instead of dx/dt, and ignore dependency (t)\n",
    "alias.update({theta2: symbols(r\"\\theta_2\"),\n",
    "              theta2_dot: symbols(r\"\\dot{\\theta_2}\"),\n",
    "              theta2_ddot: symbols(r\"\\ddot{\\theta_2}\"),\n",
    "              theta3: symbols(r\"\\theta_3\"),\n",
    "              theta3_dot: symbols(r\"\\dot{\\theta_3}\"),\n",
    "              theta3_ddot: symbols(r\"\\ddot{\\theta_3}\"),\n",
    "              theta4: symbols(r\"\\theta_4\"),\n",
    "              theta4_dot: symbols(r\"\\dot{\\theta_4}\"),\n",
    "              theta4_ddot: symbols(r\"\\ddot{\\theta_4}\"),\n",
    "              d1: symbols(r\"d_1\"),\n",
    "              d1_dot: symbols(r\"\\dot{d_1}\"),\n",
    "              d1_ddot: symbols(r\"\\ddot{d_1}\"),})\n",
    "\n",
    "# display cos(theta) as c\\theta, sin(theta) as s\\theta\n",
    "alias.update({sin(theta2): symbols(r\"s\\theta_2\"),\n",
    "              cos(theta2): symbols(r\"c\\theta_2\"),\n",
    "              sin(theta3): symbols(r\"s\\theta_3\"),\n",
    "              cos(theta3): symbols(r\"c\\theta_3\"),\n",
    "              sin(theta4): symbols(r\"s\\theta_4\"),\n",
    "              cos(theta4): symbols(r\"c\\theta_4\")})"
   ]
  },
  {
   "cell_type": "markdown",
   "id": "ae8724ac",
   "metadata": {},
   "source": [
    "## Forward Kinematics"
   ]
  },
  {
   "cell_type": "code",
   "execution_count": 5,
   "id": "6c023716",
   "metadata": {},
   "outputs": [
    {
     "data": {
      "text/latex": [
       "$\\displaystyle ^0T_{1}$"
      ],
      "text/plain": [
       "^0T_1"
      ]
     },
     "metadata": {},
     "output_type": "display_data"
    },
    {
     "data": {
      "text/latex": [
       "$\\displaystyle \\left[\\begin{matrix}1 & 0 & 0 & 0\\\\0 & 1 & 0 & 0\\\\0 & 0 & 1 & d_{1} + l_{0}\\\\0 & 0 & 0 & 1\\end{matrix}\\right]$"
      ],
      "text/plain": [
       "Matrix([\n",
       "[1, 0, 0,         0],\n",
       "[0, 1, 0,         0],\n",
       "[0, 0, 1, d_1 + l_0],\n",
       "[0, 0, 0,         1]])"
      ]
     },
     "metadata": {},
     "output_type": "display_data"
    },
    {
     "data": {
      "text/latex": [
       "$\\displaystyle ^1T_{2}$"
      ],
      "text/plain": [
       "^1T_2"
      ]
     },
     "metadata": {},
     "output_type": "display_data"
    },
    {
     "data": {
      "text/latex": [
       "$\\displaystyle \\left[\\begin{matrix}c\\theta_{2} & - s\\theta_{2} & 0 & 0\\\\s\\theta_{2} & c\\theta_{2} & 0 & 0\\\\0 & 0 & 1 & 0\\\\0 & 0 & 0 & 1\\end{matrix}\\right]$"
      ],
      "text/plain": [
       "Matrix([\n",
       "[c\\theta_2, -s\\theta_2, 0, 0],\n",
       "[s\\theta_2,  c\\theta_2, 0, 0],\n",
       "[        0,          0, 1, 0],\n",
       "[        0,          0, 0, 1]])"
      ]
     },
     "metadata": {},
     "output_type": "display_data"
    },
    {
     "data": {
      "text/latex": [
       "$\\displaystyle ^2T_{3}$"
      ],
      "text/plain": [
       "^2T_3"
      ]
     },
     "metadata": {},
     "output_type": "display_data"
    },
    {
     "data": {
      "text/latex": [
       "$\\displaystyle \\left[\\begin{matrix}c\\theta_{3} & - s\\theta_{3} & 0 & l_{2}\\\\0 & 0 & -1 & 0\\\\s\\theta_{3} & c\\theta_{3} & 0 & 0\\\\0 & 0 & 0 & 1\\end{matrix}\\right]$"
      ],
      "text/plain": [
       "Matrix([\n",
       "[c\\theta_3, -s\\theta_3,  0, l_2],\n",
       "[        0,          0, -1,   0],\n",
       "[s\\theta_3,  c\\theta_3,  0,   0],\n",
       "[        0,          0,  0,   1]])"
      ]
     },
     "metadata": {},
     "output_type": "display_data"
    },
    {
     "data": {
      "text/latex": [
       "$\\displaystyle ^3T_{4}$"
      ],
      "text/plain": [
       "^3T_4"
      ]
     },
     "metadata": {},
     "output_type": "display_data"
    },
    {
     "data": {
      "text/latex": [
       "$\\displaystyle \\left[\\begin{matrix}c\\theta_{4} & - s\\theta_{4} & 0 & 0\\\\0 & 0 & -1 & 0\\\\s\\theta_{4} & c\\theta_{4} & 0 & l_{3}\\\\0 & 0 & 0 & 1\\end{matrix}\\right]$"
      ],
      "text/plain": [
       "Matrix([\n",
       "[c\\theta_4, -s\\theta_4,  0,   0],\n",
       "[        0,          0, -1,   0],\n",
       "[s\\theta_4,  c\\theta_4,  0, l_3],\n",
       "[        0,          0,  0,   1]])"
      ]
     },
     "metadata": {},
     "output_type": "display_data"
    },
    {
     "data": {
      "text/latex": [
       "$\\displaystyle ^4T_{e}$"
      ],
      "text/plain": [
       "^4T_e"
      ]
     },
     "metadata": {},
     "output_type": "display_data"
    },
    {
     "data": {
      "text/latex": [
       "$\\displaystyle \\left[\\begin{matrix}1 & 0 & 0 & - l_{e}\\\\0 & 1 & 0 & 0\\\\0 & 0 & 1 & l_{4}\\\\0 & 0 & 0 & 1\\end{matrix}\\right]$"
      ],
      "text/plain": [
       "Matrix([\n",
       "[1, 0, 0, -l_e],\n",
       "[0, 1, 0,    0],\n",
       "[0, 0, 1,  l_4],\n",
       "[0, 0, 0,    1]])"
      ]
     },
     "metadata": {},
     "output_type": "display_data"
    }
   ],
   "source": [
    "R01, T01 = get_trans_mat(0, 0, l0+d1, 0)\n",
    "symprint('T', 0, 1)\n",
    "matprint(T01, alias)\n",
    "\n",
    "R12, T12 = get_trans_mat(0, 0, 0, theta2)\n",
    "symprint('T', 1, 2)\n",
    "matprint(T12, alias)\n",
    "\n",
    "R23, T23 = get_trans_mat(l2, 90, 0, theta3)\n",
    "symprint('T', 2, 3)\n",
    "matprint(T23, alias)\n",
    "\n",
    "R34, T34 = get_trans_mat(0, 90, l3, theta4)\n",
    "symprint('T', 3, 4)\n",
    "matprint(T34, alias)\n",
    "\n",
    "R4e, T4e = get_trans_mat(-le, 0, l4, 0)\n",
    "symprint('T', 4, 'e')\n",
    "matprint(T4e, alias)\n"
   ]
  },
  {
   "cell_type": "code",
   "execution_count": 8,
   "id": "f06ef710",
   "metadata": {},
   "outputs": [
    {
     "data": {
      "text/latex": [
       "$\\displaystyle ^0T_{4}$"
      ],
      "text/plain": [
       "^0T_4"
      ]
     },
     "metadata": {},
     "output_type": "display_data"
    },
    {
     "data": {
      "text/latex": [
       "$\\displaystyle \\left[\\begin{matrix}c\\theta_{2} c\\theta_{3} c\\theta_{4} + s\\theta_{2} s\\theta_{4} & - c\\theta_{2} c\\theta_{3} s\\theta_{4} + c\\theta_{4} s\\theta_{2} & c\\theta_{2} s\\theta_{3} & c\\theta_{2} l_{2} + l_{3} s\\theta_{2}\\\\- c\\theta_{2} s\\theta_{4} + c\\theta_{3} c\\theta_{4} s\\theta_{2} & - c\\theta_{2} c\\theta_{4} - c\\theta_{3} s\\theta_{2} s\\theta_{4} & s\\theta_{2} s\\theta_{3} & - c\\theta_{2} l_{3} + l_{2} s\\theta_{2}\\\\c\\theta_{4} s\\theta_{3} & - s\\theta_{3} s\\theta_{4} & - c\\theta_{3} & d_{1} + l_{0}\\\\0 & 0 & 0 & 1\\end{matrix}\\right]$"
      ],
      "text/plain": [
       "Matrix([\n",
       "[ c\\theta_2*c\\theta_3*c\\theta_4 + s\\theta_2*s\\theta_4, -c\\theta_2*c\\theta_3*s\\theta_4 + c\\theta_4*s\\theta_2, c\\theta_2*s\\theta_3,  c\\theta_2*l_2 + l_3*s\\theta_2],\n",
       "[-c\\theta_2*s\\theta_4 + c\\theta_3*c\\theta_4*s\\theta_2, -c\\theta_2*c\\theta_4 - c\\theta_3*s\\theta_2*s\\theta_4, s\\theta_2*s\\theta_3, -c\\theta_2*l_3 + l_2*s\\theta_2],\n",
       "[                                 c\\theta_4*s\\theta_3,                                 -s\\theta_3*s\\theta_4,          -c\\theta_3,                      d_1 + l_0],\n",
       "[                                                   0,                                                    0,                   0,                              1]])"
      ]
     },
     "metadata": {},
     "output_type": "display_data"
    },
    {
     "data": {
      "text/latex": [
       "$\\displaystyle ^0T_{e}$"
      ],
      "text/plain": [
       "^0T_e"
      ]
     },
     "metadata": {},
     "output_type": "display_data"
    },
    {
     "data": {
      "text/latex": [
       "$\\displaystyle \\left[\\begin{matrix}c\\theta_{2} c\\theta_{3} c\\theta_{4} + s\\theta_{2} s\\theta_{4} & - c\\theta_{2} c\\theta_{3} s\\theta_{4} + c\\theta_{4} s\\theta_{2} & c\\theta_{2} s\\theta_{3} & c\\theta_{2} l_{2} + c\\theta_{2} l_{4} s\\theta_{3} + l_{3} s\\theta_{2} - l_{e} \\left(c\\theta_{2} c\\theta_{3} c\\theta_{4} + s\\theta_{2} s\\theta_{4}\\right)\\\\- c\\theta_{2} s\\theta_{4} + c\\theta_{3} c\\theta_{4} s\\theta_{2} & - c\\theta_{2} c\\theta_{4} - c\\theta_{3} s\\theta_{2} s\\theta_{4} & s\\theta_{2} s\\theta_{3} & - c\\theta_{2} l_{3} + l_{2} s\\theta_{2} + l_{4} s\\theta_{2} s\\theta_{3} - l_{e} \\left(- c\\theta_{2} s\\theta_{4} + c\\theta_{3} c\\theta_{4} s\\theta_{2}\\right)\\\\c\\theta_{4} s\\theta_{3} & - s\\theta_{3} s\\theta_{4} & - c\\theta_{3} & - c\\theta_{3} l_{4} - c\\theta_{4} l_{e} s\\theta_{3} + d_{1} + l_{0}\\\\0 & 0 & 0 & 1\\end{matrix}\\right]$"
      ],
      "text/plain": [
       "Matrix([\n",
       "[ c\\theta_2*c\\theta_3*c\\theta_4 + s\\theta_2*s\\theta_4, -c\\theta_2*c\\theta_3*s\\theta_4 + c\\theta_4*s\\theta_2, c\\theta_2*s\\theta_3,   c\\theta_2*l_2 + c\\theta_2*l_4*s\\theta_3 + l_3*s\\theta_2 - l_e*(c\\theta_2*c\\theta_3*c\\theta_4 + s\\theta_2*s\\theta_4)],\n",
       "[-c\\theta_2*s\\theta_4 + c\\theta_3*c\\theta_4*s\\theta_2, -c\\theta_2*c\\theta_4 - c\\theta_3*s\\theta_2*s\\theta_4, s\\theta_2*s\\theta_3, -c\\theta_2*l_3 + l_2*s\\theta_2 + l_4*s\\theta_2*s\\theta_3 - l_e*(-c\\theta_2*s\\theta_4 + c\\theta_3*c\\theta_4*s\\theta_2)],\n",
       "[                                 c\\theta_4*s\\theta_3,                                 -s\\theta_3*s\\theta_4,          -c\\theta_3,                                                                  -c\\theta_3*l_4 - c\\theta_4*l_e*s\\theta_3 + d_1 + l_0],\n",
       "[                                                   0,                                                    0,                   0,                                                                                                                     1]])"
      ]
     },
     "metadata": {},
     "output_type": "display_data"
    }
   ],
   "source": [
    "T04 = T01 * T12 * T23 * T34\n",
    "T04.simplify()\n",
    "symprint('T', 0, 4)\n",
    "matprint(T04, alias)\n",
    "\n",
    "T0e = T04 * T4e\n",
    "T0e.simplify()\n",
    "symprint('T', 0, 'e')\n",
    "matprint(T0e, alias)"
   ]
  },
  {
   "cell_type": "code",
   "execution_count": null,
   "id": "b51fda3c",
   "metadata": {},
   "outputs": [],
   "source": []
  }
 ],
 "metadata": {
  "kernelspec": {
   "display_name": "Python 3 (ipykernel)",
   "language": "python",
   "name": "python3"
  },
  "language_info": {
   "codemirror_mode": {
    "name": "ipython",
    "version": 3
   },
   "file_extension": ".py",
   "mimetype": "text/x-python",
   "name": "python",
   "nbconvert_exporter": "python",
   "pygments_lexer": "ipython3",
   "version": "3.9.13"
  }
 },
 "nbformat": 4,
 "nbformat_minor": 5
}
