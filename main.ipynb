{
 "cells": [
  {
   "cell_type": "markdown",
   "id": "3442264a",
   "metadata": {},
   "source": [
    "# 4 Degree of Freedom Robot Arm"
   ]
  },
  {
   "cell_type": "code",
   "execution_count": 1,
   "id": "ee69fa75",
   "metadata": {},
   "outputs": [],
   "source": [
    "import sys\n",
    "import numpy as np\n",
    "from sympy import *\n",
    "import time\n",
    "import matplotlib.pyplot as plt\n",
    "from mpl_toolkits import mplot3d\n",
    "from IPython.display import display, Math\n",
    "\n",
    "from tools import *"
   ]
  },
  {
   "cell_type": "markdown",
   "id": "814b6ef7",
   "metadata": {},
   "source": [
    "# Variables and settings"
   ]
  },
  {
   "cell_type": "code",
   "execution_count": 2,
   "id": "c5df00cf",
   "metadata": {},
   "outputs": [],
   "source": [
    "# Constants\n",
    "l0 = symbols('l_0')\n",
    "l2 = symbols('l_2')\n",
    "l3 = symbols('l_3')\n",
    "l4 = symbols('l_4')\n",
    "le = symbols('l_e')\n",
    "l0_val = 5\n",
    "l2_val = 20\n",
    "l3_val = 15\n",
    "l4_val = 5\n",
    "le_val = 3\n",
    "\n",
    "\n",
    "# Variables\n",
    "t = symbols('t')\n",
    "theta2 = Function(r\"\\theta_2\")(t)\n",
    "theta2_dot = diff(theta2, t)\n",
    "theta2_ddot = diff(theta2, t, t)\n",
    "\n",
    "theta3 = Function(r\"\\theta_3\")(t)\n",
    "theta3_dot = diff(theta3, t)\n",
    "theta3_ddot = diff(theta3, t, t)\n",
    "\n",
    "theta4 = Function(r\"\\theta_4\")(t)\n",
    "theta4_dot = diff(theta4, t)\n",
    "theta4_ddot = diff(theta4, t, t)\n",
    "\n",
    "d1 = Function('d_1')(t)\n",
    "d1_dot = diff(d1, t)\n",
    "d1_ddot = diff(d1, t, t)\n",
    "\n",
    "\n",
    "alias = {}\n",
    "# display as x dot instead of dx/dt, and ignore dependency (t)\n",
    "alias.update({theta2: symbols(r\"\\theta_2\"),\n",
    "              theta2_dot: symbols(r\"\\dot{\\theta_2}\"),\n",
    "              theta2_ddot: symbols(r\"\\ddot{\\theta_2}\"),\n",
    "              theta3: symbols(r\"\\theta_3\"),\n",
    "              theta3_dot: symbols(r\"\\dot{\\theta_3}\"),\n",
    "              theta3_ddot: symbols(r\"\\ddot{\\theta_3}\"),\n",
    "              theta4: symbols(r\"\\theta_4\"),\n",
    "              theta4_dot: symbols(r\"\\dot{\\theta_4}\"),\n",
    "              theta4_ddot: symbols(r\"\\ddot{\\theta_4}\"),\n",
    "              d1: symbols(r\"d_1\"),\n",
    "              d1_dot: symbols(r\"\\dot{d_1}\"),\n",
    "              d1_ddot: symbols(r\"\\ddot{d_1}\"),}) \n",
    "\n",
    "# display cos(theta) as c\\theta, sin(theta) as s\\theta\n",
    "alias.update({sin(theta2): symbols(r\"s\\theta_2\"),\n",
    "              cos(theta2): symbols(r\"c\\theta_2\"),\n",
    "              sin(theta3): symbols(r\"s\\theta_3\"),\n",
    "              cos(theta3): symbols(r\"c\\theta_3\"),\n",
    "              sin(theta4): symbols(r\"s\\theta_4\"),\n",
    "              cos(theta4): symbols(r\"c\\theta_4\")})"
   ]
  },
  {
   "cell_type": "markdown",
   "id": "ae8724ac",
   "metadata": {},
   "source": [
    "# Forward Kinematics"
   ]
  },
  {
   "cell_type": "code",
   "execution_count": 3,
   "id": "6c023716",
   "metadata": {},
   "outputs": [
    {
     "data": {
      "text/latex": [
       "$\\displaystyle ^0T_{1}$"
      ],
      "text/plain": [
       "^0T_1"
      ]
     },
     "metadata": {},
     "output_type": "display_data"
    },
    {
     "data": {
      "text/latex": [
       "$\\displaystyle \\left[\\begin{matrix}1 & 0 & 0 & 0\\\\0 & 1 & 0 & 0\\\\0 & 0 & 1 & d_{1} + l_{0}\\\\0 & 0 & 0 & 1\\end{matrix}\\right]$"
      ],
      "text/plain": [
       "Matrix([\n",
       "[1, 0, 0,         0],\n",
       "[0, 1, 0,         0],\n",
       "[0, 0, 1, d_1 + l_0],\n",
       "[0, 0, 0,         1]])"
      ]
     },
     "metadata": {},
     "output_type": "display_data"
    },
    {
     "data": {
      "text/latex": [
       "$\\displaystyle ^1T_{2}$"
      ],
      "text/plain": [
       "^1T_2"
      ]
     },
     "metadata": {},
     "output_type": "display_data"
    },
    {
     "data": {
      "text/latex": [
       "$\\displaystyle \\left[\\begin{matrix}c\\theta_{2} & - s\\theta_{2} & 0 & 0\\\\s\\theta_{2} & c\\theta_{2} & 0 & 0\\\\0 & 0 & 1 & 0\\\\0 & 0 & 0 & 1\\end{matrix}\\right]$"
      ],
      "text/plain": [
       "Matrix([\n",
       "[c\\theta_2, -s\\theta_2, 0, 0],\n",
       "[s\\theta_2,  c\\theta_2, 0, 0],\n",
       "[        0,          0, 1, 0],\n",
       "[        0,          0, 0, 1]])"
      ]
     },
     "metadata": {},
     "output_type": "display_data"
    },
    {
     "data": {
      "text/latex": [
       "$\\displaystyle ^2T_{3}$"
      ],
      "text/plain": [
       "^2T_3"
      ]
     },
     "metadata": {},
     "output_type": "display_data"
    },
    {
     "data": {
      "text/latex": [
       "$\\displaystyle \\left[\\begin{matrix}- s\\theta_{3} & - c\\theta_{3} & 0 & l_{2}\\\\0 & 0 & -1 & 0\\\\c\\theta_{3} & - s\\theta_{3} & 0 & 0\\\\0 & 0 & 0 & 1\\end{matrix}\\right]$"
      ],
      "text/plain": [
       "Matrix([\n",
       "[-s\\theta_3, -c\\theta_3,  0, l_2],\n",
       "[         0,          0, -1,   0],\n",
       "[ c\\theta_3, -s\\theta_3,  0,   0],\n",
       "[         0,          0,  0,   1]])"
      ]
     },
     "metadata": {},
     "output_type": "display_data"
    },
    {
     "data": {
      "text/latex": [
       "$\\displaystyle ^3T_{4}$"
      ],
      "text/plain": [
       "^3T_4"
      ]
     },
     "metadata": {},
     "output_type": "display_data"
    },
    {
     "data": {
      "text/latex": [
       "$\\displaystyle \\left[\\begin{matrix}c\\theta_{4} & - s\\theta_{4} & 0 & 0\\\\0 & 0 & -1 & - l_{3}\\\\s\\theta_{4} & c\\theta_{4} & 0 & 0\\\\0 & 0 & 0 & 1\\end{matrix}\\right]$"
      ],
      "text/plain": [
       "Matrix([\n",
       "[c\\theta_4, -s\\theta_4,  0,    0],\n",
       "[        0,          0, -1, -l_3],\n",
       "[s\\theta_4,  c\\theta_4,  0,    0],\n",
       "[        0,          0,  0,    1]])"
      ]
     },
     "metadata": {},
     "output_type": "display_data"
    },
    {
     "data": {
      "text/latex": [
       "$\\displaystyle ^4T_{e}$"
      ],
      "text/plain": [
       "^4T_e"
      ]
     },
     "metadata": {},
     "output_type": "display_data"
    },
    {
     "data": {
      "text/latex": [
       "$\\displaystyle \\left[\\begin{matrix}1 & 0 & 0 & - l_{e}\\\\0 & 1 & 0 & 0\\\\0 & 0 & 1 & l_{4}\\\\0 & 0 & 0 & 1\\end{matrix}\\right]$"
      ],
      "text/plain": [
       "Matrix([\n",
       "[1, 0, 0, -l_e],\n",
       "[0, 1, 0,    0],\n",
       "[0, 0, 1,  l_4],\n",
       "[0, 0, 0,    1]])"
      ]
     },
     "metadata": {},
     "output_type": "display_data"
    }
   ],
   "source": [
    "# 1\n",
    "\n",
    "R01, T01 = get_trans_mat(0, 0, l0+d1, 0)\n",
    "symprint('T', 0, 1)\n",
    "matprint(T01, alias)\n",
    "\n",
    "R12, T12 = get_trans_mat(0, 0, 0, theta2)\n",
    "symprint('T', 1, 2)\n",
    "matprint(T12, alias)\n",
    "\n",
    "R23, T23 = get_trans_mat(l2, 90, 0, theta3+pi/2)\n",
    "symprint('T', 2, 3)\n",
    "matprint(T23, alias)\n",
    "\n",
    "R34, T34 = get_trans_mat(0, 90, l3, theta4)\n",
    "symprint('T', 3, 4)\n",
    "matprint(T34, alias)\n",
    "\n",
    "R4e, T4e = get_trans_mat(-le, 0, l4, 0)\n",
    "symprint('T', 4, 'e')\n",
    "matprint(T4e, alias)\n",
    "\n",
    "\n",
    "# 2. moving frame (seems wrong)\n",
    "\n",
    "# R01, T01 = get_trans_mat(0, 0, l0+d1, 0)\n",
    "# symprint('T', 0, 1)\n",
    "# matprint(T01, alias)\n",
    "\n",
    "# R12, T12 = get_trans_mat(l2, 0, 0, theta2)\n",
    "# symprint('T', 1, 2)\n",
    "# matprint(T12, alias)\n",
    "\n",
    "# R23, T23 = get_trans_mat(l3, 90, 0, theta3+pi/2)\n",
    "# symprint('T', 2, 3)\n",
    "# matprint(T23, alias)\n",
    "\n",
    "# R34, T34 = get_trans_mat(0, 90, 0, theta4)\n",
    "# symprint('T', 3, 4)\n",
    "# matprint(T34, alias)\n",
    "\n",
    "# R4e, T4e = get_trans_mat(-le, 0, l4, 0)\n",
    "# symprint('T', 4, 'e')\n",
    "# matprint(T4e, alias)\n"
   ]
  },
  {
   "cell_type": "code",
   "execution_count": 4,
   "id": "0da52c52",
   "metadata": {},
   "outputs": [
    {
     "data": {
      "text/latex": [
       "$\\displaystyle ^0T_{4}$"
      ],
      "text/plain": [
       "^0T_4"
      ]
     },
     "metadata": {},
     "output_type": "display_data"
    },
    {
     "data": {
      "text/latex": [
       "$\\displaystyle \\left[\\begin{matrix}- c\\theta_{2} c\\theta_{4} s\\theta_{3} + s\\theta_{2} s\\theta_{4} & c\\theta_{2} s\\theta_{3} s\\theta_{4} + c\\theta_{4} s\\theta_{2} & c\\theta_{2} c\\theta_{3} & c\\theta_{2} \\left(c\\theta_{3} l_{3} + l_{2}\\right)\\\\- c\\theta_{2} s\\theta_{4} - c\\theta_{4} s\\theta_{2} s\\theta_{3} & - c\\theta_{2} c\\theta_{4} + s\\theta_{2} s\\theta_{3} s\\theta_{4} & c\\theta_{3} s\\theta_{2} & s\\theta_{2} \\left(c\\theta_{3} l_{3} + l_{2}\\right)\\\\c\\theta_{3} c\\theta_{4} & - c\\theta_{3} s\\theta_{4} & s\\theta_{3} & d_{1} + l_{0} + l_{3} s\\theta_{3}\\\\0 & 0 & 0 & 1\\end{matrix}\\right]$"
      ],
      "text/plain": [
       "Matrix([\n",
       "[-c\\theta_2*c\\theta_4*s\\theta_3 + s\\theta_2*s\\theta_4,  c\\theta_2*s\\theta_3*s\\theta_4 + c\\theta_4*s\\theta_2, c\\theta_2*c\\theta_3, c\\theta_2*(c\\theta_3*l_3 + l_2)],\n",
       "[-c\\theta_2*s\\theta_4 - c\\theta_4*s\\theta_2*s\\theta_3, -c\\theta_2*c\\theta_4 + s\\theta_2*s\\theta_3*s\\theta_4, c\\theta_3*s\\theta_2, s\\theta_2*(c\\theta_3*l_3 + l_2)],\n",
       "[                                 c\\theta_3*c\\theta_4,                                 -c\\theta_3*s\\theta_4,           s\\theta_3,       d_1 + l_0 + l_3*s\\theta_3],\n",
       "[                                                   0,                                                    0,                   0,                               1]])"
      ]
     },
     "metadata": {},
     "output_type": "display_data"
    },
    {
     "data": {
      "text/latex": [
       "$\\displaystyle ^0T_{e}$"
      ],
      "text/plain": [
       "^0T_e"
      ]
     },
     "metadata": {},
     "output_type": "display_data"
    },
    {
     "data": {
      "text/latex": [
       "$\\displaystyle \\left[\\begin{matrix}- c\\theta_{2} c\\theta_{4} s\\theta_{3} + s\\theta_{2} s\\theta_{4} & c\\theta_{2} s\\theta_{3} s\\theta_{4} + c\\theta_{4} s\\theta_{2} & c\\theta_{2} c\\theta_{3} & c\\theta_{2} c\\theta_{3} l_{4} + c\\theta_{2} \\left(c\\theta_{3} l_{3} + l_{2}\\right) - l_{e} \\left(- c\\theta_{2} c\\theta_{4} s\\theta_{3} + s\\theta_{2} s\\theta_{4}\\right)\\\\- c\\theta_{2} s\\theta_{4} - c\\theta_{4} s\\theta_{2} s\\theta_{3} & - c\\theta_{2} c\\theta_{4} + s\\theta_{2} s\\theta_{3} s\\theta_{4} & c\\theta_{3} s\\theta_{2} & c\\theta_{3} l_{4} s\\theta_{2} + l_{e} \\left(c\\theta_{2} s\\theta_{4} + c\\theta_{4} s\\theta_{2} s\\theta_{3}\\right) + s\\theta_{2} \\left(c\\theta_{3} l_{3} + l_{2}\\right)\\\\c\\theta_{3} c\\theta_{4} & - c\\theta_{3} s\\theta_{4} & s\\theta_{3} & - c\\theta_{3} c\\theta_{4} l_{e} + d_{1} + l_{0} + l_{3} s\\theta_{3} + l_{4} s\\theta_{3}\\\\0 & 0 & 0 & 1\\end{matrix}\\right]$"
      ],
      "text/plain": [
       "Matrix([\n",
       "[-c\\theta_2*c\\theta_4*s\\theta_3 + s\\theta_2*s\\theta_4,  c\\theta_2*s\\theta_3*s\\theta_4 + c\\theta_4*s\\theta_2, c\\theta_2*c\\theta_3, c\\theta_2*c\\theta_3*l_4 + c\\theta_2*(c\\theta_3*l_3 + l_2) - l_e*(-c\\theta_2*c\\theta_4*s\\theta_3 + s\\theta_2*s\\theta_4)],\n",
       "[-c\\theta_2*s\\theta_4 - c\\theta_4*s\\theta_2*s\\theta_3, -c\\theta_2*c\\theta_4 + s\\theta_2*s\\theta_3*s\\theta_4, c\\theta_3*s\\theta_2,  c\\theta_3*l_4*s\\theta_2 + l_e*(c\\theta_2*s\\theta_4 + c\\theta_4*s\\theta_2*s\\theta_3) + s\\theta_2*(c\\theta_3*l_3 + l_2)],\n",
       "[                                 c\\theta_3*c\\theta_4,                                 -c\\theta_3*s\\theta_4,           s\\theta_3,                                                   -c\\theta_3*c\\theta_4*l_e + d_1 + l_0 + l_3*s\\theta_3 + l_4*s\\theta_3],\n",
       "[                                                   0,                                                    0,                   0,                                                                                                                      1]])"
      ]
     },
     "metadata": {},
     "output_type": "display_data"
    }
   ],
   "source": [
    "T04 = T01 * T12 * T23 * T34\n",
    "T04.simplify()\n",
    "symprint('T', 0, 4)\n",
    "matprint(T04, alias)\n",
    "\n",
    "T0e = T04 * T4e\n",
    "T0e.simplify()\n",
    "symprint('T', 0, 'e')\n",
    "matprint(T0e, alias)"
   ]
  },
  {
   "cell_type": "markdown",
   "id": "52061aba",
   "metadata": {},
   "source": [
    "## Cartesian Workspace"
   ]
  },
  {
   "cell_type": "code",
   "execution_count": 5,
   "id": "b73d904a",
   "metadata": {},
   "outputs": [
    {
     "data": {
      "text/latex": [
       "$\\displaystyle ^eP_{Oe}$"
      ],
      "text/plain": [
       "^eP_Oe"
      ]
     },
     "metadata": {},
     "output_type": "display_data"
    },
    {
     "data": {
      "text/latex": [
       "$\\displaystyle \\left[\\begin{matrix}0\\\\0\\\\0\\\\1\\end{matrix}\\right]$"
      ],
      "text/plain": [
       "Matrix([\n",
       "[0],\n",
       "[0],\n",
       "[0],\n",
       "[1]])"
      ]
     },
     "metadata": {},
     "output_type": "display_data"
    },
    {
     "data": {
      "text/latex": [
       "$\\displaystyle ^0P_{Oe}$"
      ],
      "text/plain": [
       "^0P_Oe"
      ]
     },
     "metadata": {},
     "output_type": "display_data"
    },
    {
     "data": {
      "text/latex": [
       "$\\displaystyle \\left[\\begin{matrix}c\\theta_{2} c\\theta_{3} l_{4} + c\\theta_{2} \\left(c\\theta_{3} l_{3} + l_{2}\\right) - l_{e} \\left(- c\\theta_{2} c\\theta_{4} s\\theta_{3} + s\\theta_{2} s\\theta_{4}\\right)\\\\c\\theta_{3} l_{4} s\\theta_{2} + l_{e} \\left(c\\theta_{2} s\\theta_{4} + c\\theta_{4} s\\theta_{2} s\\theta_{3}\\right) + s\\theta_{2} \\left(c\\theta_{3} l_{3} + l_{2}\\right)\\\\- c\\theta_{3} c\\theta_{4} l_{e} + d_{1} + l_{0} + l_{3} s\\theta_{3} + l_{4} s\\theta_{3}\\\\1\\end{matrix}\\right]$"
      ],
      "text/plain": [
       "Matrix([\n",
       "[c\\theta_2*c\\theta_3*l_4 + c\\theta_2*(c\\theta_3*l_3 + l_2) - l_e*(-c\\theta_2*c\\theta_4*s\\theta_3 + s\\theta_2*s\\theta_4)],\n",
       "[ c\\theta_3*l_4*s\\theta_2 + l_e*(c\\theta_2*s\\theta_4 + c\\theta_4*s\\theta_2*s\\theta_3) + s\\theta_2*(c\\theta_3*l_3 + l_2)],\n",
       "[                                                  -c\\theta_3*c\\theta_4*l_e + d_1 + l_0 + l_3*s\\theta_3 + l_4*s\\theta_3],\n",
       "[                                                                                                                     1]])"
      ]
     },
     "metadata": {},
     "output_type": "display_data"
    }
   ],
   "source": [
    "Pee = Matrix([0, 0, 0, 1])\n",
    "symprint('P', 'e', 'Oe')\n",
    "matprint(Pee, alias)\n",
    "\n",
    "P0e = T0e * Pee\n",
    "P0e.simplify()\n",
    "symprint('P', '0', 'Oe')\n",
    "matprint(P0e, alias)"
   ]
  },
  {
   "cell_type": "code",
   "execution_count": 6,
   "id": "a05e4c34",
   "metadata": {},
   "outputs": [
    {
     "name": "stdout",
     "output_type": "stream",
     "text": [
      "Joint 1 position:\n"
     ]
    },
    {
     "data": {
      "text/latex": [
       "$\\displaystyle \\left[\\begin{matrix}0\\\\0\\\\0\\\\1\\end{matrix}\\right]$"
      ],
      "text/plain": [
       "Matrix([\n",
       "[0],\n",
       "[0],\n",
       "[0],\n",
       "[1]])"
      ]
     },
     "metadata": {},
     "output_type": "display_data"
    },
    {
     "name": "stdout",
     "output_type": "stream",
     "text": [
      "Joint 2 position:\n"
     ]
    },
    {
     "data": {
      "text/latex": [
       "$\\displaystyle \\left[\\begin{matrix}0\\\\0\\\\45\\\\1\\end{matrix}\\right]$"
      ],
      "text/plain": [
       "Matrix([\n",
       "[ 0],\n",
       "[ 0],\n",
       "[45],\n",
       "[ 1]])"
      ]
     },
     "metadata": {},
     "output_type": "display_data"
    },
    {
     "name": "stdout",
     "output_type": "stream",
     "text": [
      "Joint 3 position:\n"
     ]
    },
    {
     "data": {
      "text/latex": [
       "$\\displaystyle \\left[\\begin{matrix}1.22464679914735 \\cdot 10^{-15}\\\\20.0\\\\45\\\\1\\end{matrix}\\right]$"
      ],
      "text/plain": [
       "Matrix([\n",
       "[1.22464679914735e-15],\n",
       "[                20.0],\n",
       "[                  45],\n",
       "[                   1]])"
      ]
     },
     "metadata": {},
     "output_type": "display_data"
    },
    {
     "name": "stdout",
     "output_type": "stream",
     "text": [
      "Joint 4 position:\n"
     ]
    },
    {
     "data": {
      "text/latex": [
       "$\\displaystyle \\left[\\begin{matrix}1.68388934882761 \\cdot 10^{-15}\\\\27.5\\\\57.9903810567666\\\\1\\end{matrix}\\right]$"
      ],
      "text/plain": [
       "Matrix([\n",
       "[1.68388934882761e-15],\n",
       "[                27.5],\n",
       "[    57.9903810567666],\n",
       "[                   1]])"
      ]
     },
     "metadata": {},
     "output_type": "display_data"
    },
    {
     "name": "stdout",
     "output_type": "stream",
     "text": [
      "Joint 5 position:\n"
     ]
    },
    {
     "data": {
      "text/latex": [
       "$\\displaystyle \\left[\\begin{matrix}2.73084456401818 \\cdot 10^{-15}\\\\32.5980762113533\\\\60.8205080756888\\\\1\\end{matrix}\\right]$"
      ],
      "text/plain": [
       "Matrix([\n",
       "[2.73084456401818e-15],\n",
       "[    32.5980762113533],\n",
       "[    60.8205080756888],\n",
       "[                   1]])"
      ]
     },
     "metadata": {},
     "output_type": "display_data"
    },
    {
     "data": {
      "image/png": "[encoded data removed]",
      "text/plain": [
       "<Figure size 800x600 with 1 Axes>"
      ]
     },
     "metadata": {},
     "output_type": "display_data"
    }
   ],
   "source": [
    "# Assign Variables\n",
    "d_theta = 30\n",
    "theta2_range = np.arange(-30, 90 + d_theta, d_theta)\n",
    "# theta2_range = [0]\n",
    "theta3_range = np.arange(-60, 60 + d_theta, d_theta)\n",
    "# theta3_range = [0]\n",
    "theta4_range = np.arange(0, 360 + d_theta*2, d_theta*2)\n",
    "# theta4_range = [0]\n",
    "# d1_range = np.arange(0, 40 + 5, 5)\n",
    "d1_range = [40]\n",
    "\n",
    "ax = plt.figure(figsize=[8, 6]).add_subplot(projection='3d')\n",
    "\n",
    "for d1_val in d1_range:\n",
    "    for theta2_val in theta2_range:\n",
    "        theta2_val = theta2_val * np.pi / 180\n",
    "        for theta3_val in theta3_range:\n",
    "            theta3_val = theta3_val * np.pi / 180\n",
    "            for theta4_val in theta4_range:\n",
    "                theta4_val = theta4_val * np.pi / 180\n",
    "                values = {l0: l0_val, l2: l2_val, l3: l3_val, l4: l4_val, le: le_val, \n",
    "                          theta2: theta2_val, theta3: theta3_val, theta4: theta4_val, \n",
    "                          d1: d1_val}\n",
    "                end_pos = P0e.subs(values)\n",
    "#                 ax.plot3D(end_pos[0], end_pos[1], end_pos[2], 'r.')\n",
    "                ax.scatter(end_pos[0], end_pos[1], end_pos[2], s=10, c='r', marker='.')\n",
    "\n",
    "Pii_pos = Matrix([0, 0, 0, 1])\n",
    "P01_pos = (T01 * Pii_pos).subs(values)\n",
    "P02_pos = (T01 * T12 * Pii_pos).subs(values)\n",
    "P03_pos = (T01 * T12 * T23 * Pii_pos).subs(values)\n",
    "P04_pos = (T01 * T12 * T23 * T34 * Pii_pos).subs(values)\n",
    "\n",
    "\n",
    "plot_links(ax, [Pii_pos, P01_pos, P02_pos, P03_pos, P04_pos, end_pos],\n",
    "           show_coor=False)\n",
    "\n",
    "joint_print([Pii_pos, P01_pos, P03_pos, P04_pos, end_pos], alias)\n",
    "\n",
    "ax.set_xlabel('x')\n",
    "ax.set_ylabel('y')\n",
    "ax.set_zlabel('z')\n",
    "x_max = l2_val + l3_val + l4_val\n",
    "z_max = d1_range[-1] + l0_val + le_val\n",
    "ax.set_xlim([-x_max*1, x_max*1])\n",
    "ax.set_ylim([-x_max*1, x_max*1])\n",
    "ax.set_zlim([-z_max*1, z_max*1])\n",
    "plt.show()"
   ]
  },
  {
   "cell_type": "markdown",
   "id": "33cc71ad",
   "metadata": {},
   "source": [
    "## Cartesian Workspace Animation"
   ]
  },
  {
   "cell_type": "code",
   "execution_count": 50,
   "id": "3197d73d",
   "metadata": {},
   "outputs": [
    {
     "data": {
      "application/javascript": [
       "/* Put everything inside the global mpl namespace */\n",
       "/* global mpl */\n",
       "window.mpl = {};\n",
       "\n",
       "mpl.get_websocket_type = function () {\n",
       "    if (typeof WebSocket !== 'undefined') {\n",
       "        return WebSocket;\n",
       "    } else if (typeof MozWebSocket !== 'undefined') {\n",
       "        return MozWebSocket;\n",
       "    } else {\n",
       "        alert(\n",
       "            'Your browser does not have WebSocket support. ' +\n",
       "                'Please try Chrome, Safari or Firefox ≥ 6. ' +\n",
       "                'Firefox 4 and 5 are also supported but you ' +\n",
       "                'have to enable WebSockets in about:config.'\n",
       "        );\n",
       "    }\n",
       "};\n",
       "\n",
       "mpl.figure = function (figure_id, websocket, ondownload, parent_element) {\n",
       "    this.id = figure_id;\n",
       "\n",
       "    this.ws = websocket;\n",
       "\n",
       "    this.supports_binary = this.ws.binaryType !== undefined;\n",
       "\n",
       "    if (!this.supports_binary) {\n",
       "        var warnings = document.getElementById('mpl-warnings');\n",
       "        if (warnings) {\n",
       "            warnings.style.display = 'block';\n",
       "            warnings.textContent =\n",
       "                'This browser does not support binary websocket messages. ' +\n",
       "                'Performance may be slow.';\n",
       "        }\n",
       "    }\n",
       "\n",
       "    this.imageObj = new Image();\n",
       "\n",
       "    this.context = undefined;\n",
       "    this.message = undefined;\n",
       "    this.canvas = undefined;\n",
       "    this.rubberband_canvas = undefined;\n",
       "    this.rubberband_context = undefined;\n",
       "    this.format_dropdown = undefined;\n",
       "\n",
       "    this.image_mode = 'full';\n",
       "\n",
       "    this.root = document.createElement('div');\n",
       "    this.root.setAttribute('style', 'display: inline-block');\n",
       "    this._root_extra_style(this.root);\n",
       "\n",
       "    parent_element.appendChild(this.root);\n",
       "\n",
       "    this._init_header(this);\n",
       "    this._init_canvas(this);\n",
       "    this._init_toolbar(this);\n",
       "\n",
       "    var fig = this;\n",
       "\n",
       "    this.waiting = false;\n",
       "\n",
       "    this.ws.onopen = function () {\n",
       "        fig.send_message('supports_binary', { value: fig.supports_binary });\n",
       "        fig.send_message('send_image_mode', {});\n",
       "        if (fig.ratio !== 1) {\n",
       "            fig.send_message('set_device_pixel_ratio', {\n",
       "                device_pixel_ratio: fig.ratio,\n",
       "            });\n",
       "        }\n",
       "        fig.send_message('refresh', {});\n",
       "    };\n",
       "\n",
       "    this.imageObj.onload = function () {\n",
       "        if (fig.image_mode === 'full') {\n",
       "            // Full images could contain transparency (where diff images\n",
       "            // almost always do), so we need to clear the canvas so that\n",
       "            // there is no ghosting.\n",
       "            fig.context.clearRect(0, 0, fig.canvas.width, fig.canvas.height);\n",
       "        }\n",
       "        fig.context.drawImage(fig.imageObj, 0, 0);\n",
       "    };\n",
       "\n",
       "    this.imageObj.onunload = function () {\n",
       "        fig.ws.close();\n",
       "    };\n",
       "\n",
       "    this.ws.onmessage = this._make_on_message_function(this);\n",
       "\n",
       "    this.ondownload = ondownload;\n",
       "};\n",
       "\n",
       "mpl.figure.prototype._init_header = function () {\n",
       "    var titlebar = document.createElement('div');\n",
       "    titlebar.classList =\n",
       "        'ui-dialog-titlebar ui-widget-header ui-corner-all ui-helper-clearfix';\n",
       "    var titletext = document.createElement('div');\n",
       "    titletext.classList = 'ui-dialog-title';\n",
       "    titletext.setAttribute(\n",
       "        'style',\n",
       "        'width: 100%; text-align: center; padding: 3px;'\n",
       "    );\n",
       "    titlebar.appendChild(titletext);\n",
       "    this.root.appendChild(titlebar);\n",
       "    this.header = titletext;\n",
       "};\n",
       "\n",
       "mpl.figure.prototype._canvas_extra_style = function (_canvas_div) {};\n",
       "\n",
       "mpl.figure.prototype._root_extra_style = function (_canvas_div) {};\n",
       "\n",
       "mpl.figure.prototype._init_canvas = function () {\n",
       "    var fig = this;\n",
       "\n",
       "    var canvas_div = (this.canvas_div = document.createElement('div'));\n",
       "    canvas_div.setAttribute(\n",
       "        'style',\n",
       "        'border: 1px solid #ddd;' +\n",
       "            'box-sizing: content-box;' +\n",
       "            'clear: both;' +\n",
       "            'min-height: 1px;' +\n",
       "            'min-width: 1px;' +\n",
       "            'outline: 0;' +\n",
       "            'overflow: hidden;' +\n",
       "            'position: relative;' +\n",
       "            'resize: both;'\n",
       "    );\n",
       "\n",
       "    function on_keyboard_event_closure(name) {\n",
       "        return function (event) {\n",
       "            return fig.key_event(event, name);\n",
       "        };\n",
       "    }\n",
       "\n",
       "    canvas_div.addEventListener(\n",
       "        'keydown',\n",
       "        on_keyboard_event_closure('key_press')\n",
       "    );\n",
       "    canvas_div.addEventListener(\n",
       "        'keyup',\n",
       "        on_keyboard_event_closure('key_release')\n",
       "    );\n",
       "\n",
       "    this._canvas_extra_style(canvas_div);\n",
       "    this.root.appendChild(canvas_div);\n",
       "\n",
       "    var canvas = (this.canvas = document.createElement('canvas'));\n",
       "    canvas.classList.add('mpl-canvas');\n",
       "    canvas.setAttribute('style', 'box-sizing: content-box;');\n",
       "\n",
       "    this.context = canvas.getContext('2d');\n",
       "\n",
       "    var backingStore =\n",
       "        this.context.backingStorePixelRatio ||\n",
       "        this.context.webkitBackingStorePixelRatio ||\n",
       "        this.context.mozBackingStorePixelRatio ||\n",
       "        this.context.msBackingStorePixelRatio ||\n",
       "        this.context.oBackingStorePixelRatio ||\n",
       "        this.context.backingStorePixelRatio ||\n",
       "        1;\n",
       "\n",
       "    this.ratio = (window.devicePixelRatio || 1) / backingStore;\n",
       "\n",
       "    var rubberband_canvas = (this.rubberband_canvas = document.createElement(\n",
       "        'canvas'\n",
       "    ));\n",
       "    rubberband_canvas.setAttribute(\n",
       "        'style',\n",
       "        'box-sizing: content-box; position: absolute; left: 0; top: 0; z-index: 1;'\n",
       "    );\n",
       "\n",
       "    // Apply a ponyfill if ResizeObserver is not implemented by browser.\n",
       "    if (this.ResizeObserver === undefined) {\n",
       "        if (window.ResizeObserver !== undefined) {\n",
       "            this.ResizeObserver = window.ResizeObserver;\n",
       "        } else {\n",
       "            var obs = _JSXTOOLS_RESIZE_OBSERVER({});\n",
       "            this.ResizeObserver = obs.ResizeObserver;\n",
       "        }\n",
       "    }\n",
       "\n",
       "    this.resizeObserverInstance = new this.ResizeObserver(function (entries) {\n",
       "        var nentries = entries.length;\n",
       "        for (var i = 0; i < nentries; i++) {\n",
       "            var entry = entries[i];\n",
       "            var width, height;\n",
       "            if (entry.contentBoxSize) {\n",
       "                if (entry.contentBoxSize instanceof Array) {\n",
       "                    // Chrome 84 implements new version of spec.\n",
       "                    width = entry.contentBoxSize[0].inlineSize;\n",
       "                    height = entry.contentBoxSize[0].blockSize;\n",
       "                } else {\n",
       "                    // Firefox implements old version of spec.\n",
       "                    width = entry.contentBoxSize.inlineSize;\n",
       "                    height = entry.contentBoxSize.blockSize;\n",
       "                }\n",
       "            } else {\n",
       "                // Chrome <84 implements even older version of spec.\n",
       "                width = entry.contentRect.width;\n",
       "                height = entry.contentRect.height;\n",
       "            }\n",
       "\n",
       "            // Keep the size of the canvas and rubber band canvas in sync with\n",
       "            // the canvas container.\n",
       "            if (entry.devicePixelContentBoxSize) {\n",
       "                // Chrome 84 implements new version of spec.\n",
       "                canvas.setAttribute(\n",
       "                    'width',\n",
       "                    entry.devicePixelContentBoxSize[0].inlineSize\n",
       "                );\n",
       "                canvas.setAttribute(\n",
       "                    'height',\n",
       "                    entry.devicePixelContentBoxSize[0].blockSize\n",
       "                );\n",
       "            } else {\n",
       "                canvas.setAttribute('width', width * fig.ratio);\n",
       "                canvas.setAttribute('height', height * fig.ratio);\n",
       "            }\n",
       "            canvas.setAttribute(\n",
       "                'style',\n",
       "                'width: ' + width + 'px; height: ' + height + 'px;'\n",
       "            );\n",
       "\n",
       "            rubberband_canvas.setAttribute('width', width);\n",
       "            rubberband_canvas.setAttribute('height', height);\n",
       "\n",
       "            // And update the size in Python. We ignore the initial 0/0 size\n",
       "            // that occurs as the element is placed into the DOM, which should\n",
       "            // otherwise not happen due to the minimum size styling.\n",
       "            if (fig.ws.readyState == 1 && width != 0 && height != 0) {\n",
       "                fig.request_resize(width, height);\n",
       "            }\n",
       "        }\n",
       "    });\n",
       "    this.resizeObserverInstance.observe(canvas_div);\n",
       "\n",
       "    function on_mouse_event_closure(name) {\n",
       "        return function (event) {\n",
       "            return fig.mouse_event(event, name);\n",
       "        };\n",
       "    }\n",
       "\n",
       "    rubberband_canvas.addEventListener(\n",
       "        'mousedown',\n",
       "        on_mouse_event_closure('button_press')\n",
       "    );\n",
       "    rubberband_canvas.addEventListener(\n",
       "        'mouseup',\n",
       "        on_mouse_event_closure('button_release')\n",
       "    );\n",
       "    rubberband_canvas.addEventListener(\n",
       "        'dblclick',\n",
       "        on_mouse_event_closure('dblclick')\n",
       "    );\n",
       "    // Throttle sequential mouse events to 1 every 20ms.\n",
       "    rubberband_canvas.addEventListener(\n",
       "        'mousemove',\n",
       "        on_mouse_event_closure('motion_notify')\n",
       "    );\n",
       "\n",
       "    rubberband_canvas.addEventListener(\n",
       "        'mouseenter',\n",
       "        on_mouse_event_closure('figure_enter')\n",
       "    );\n",
       "    rubberband_canvas.addEventListener(\n",
       "        'mouseleave',\n",
       "        on_mouse_event_closure('figure_leave')\n",
       "    );\n",
       "\n",
       "    canvas_div.addEventListener('wheel', function (event) {\n",
       "        if (event.deltaY < 0) {\n",
       "            event.step = 1;\n",
       "        } else {\n",
       "            event.step = -1;\n",
       "        }\n",
       "        on_mouse_event_closure('scroll')(event);\n",
       "    });\n",
       "\n",
       "    canvas_div.appendChild(canvas);\n",
       "    canvas_div.appendChild(rubberband_canvas);\n",
       "\n",
       "    this.rubberband_context = rubberband_canvas.getContext('2d');\n",
       "    this.rubberband_context.strokeStyle = '#000000';\n",
       "\n",
       "    this._resize_canvas = function (width, height, forward) {\n",
       "        if (forward) {\n",
       "            canvas_div.style.width = width + 'px';\n",
       "            canvas_div.style.height = height + 'px';\n",
       "        }\n",
       "    };\n",
       "\n",
       "    // Disable right mouse context menu.\n",
       "    this.rubberband_canvas.addEventListener('contextmenu', function (_e) {\n",
       "        event.preventDefault();\n",
       "        return false;\n",
       "    });\n",
       "\n",
       "    function set_focus() {\n",
       "        canvas.focus();\n",
       "        canvas_div.focus();\n",
       "    }\n",
       "\n",
       "    window.setTimeout(set_focus, 100);\n",
       "};\n",
       "\n",
       "mpl.figure.prototype._init_toolbar = function () {\n",
       "    var fig = this;\n",
       "\n",
       "    var toolbar = document.createElement('div');\n",
       "    toolbar.classList = 'mpl-toolbar';\n",
       "    this.root.appendChild(toolbar);\n",
       "\n",
       "    function on_click_closure(name) {\n",
       "        return function (_event) {\n",
       "            return fig.toolbar_button_onclick(name);\n",
       "        };\n",
       "    }\n",
       "\n",
       "    function on_mouseover_closure(tooltip) {\n",
       "        return function (event) {\n",
       "            if (!event.currentTarget.disabled) {\n",
       "                return fig.toolbar_button_onmouseover(tooltip);\n",
       "            }\n",
       "        };\n",
       "    }\n",
       "\n",
       "    fig.buttons = {};\n",
       "    var buttonGroup = document.createElement('div');\n",
       "    buttonGroup.classList = 'mpl-button-group';\n",
       "    for (var toolbar_ind in mpl.toolbar_items) {\n",
       "        var name = mpl.toolbar_items[toolbar_ind][0];\n",
       "        var tooltip = mpl.toolbar_items[toolbar_ind][1];\n",
       "        var image = mpl.toolbar_items[toolbar_ind][2];\n",
       "        var method_name = mpl.toolbar_items[toolbar_ind][3];\n",
       "\n",
       "        if (!name) {\n",
       "            /* Instead of a spacer, we start a new button group. */\n",
       "            if (buttonGroup.hasChildNodes()) {\n",
       "                toolbar.appendChild(buttonGroup);\n",
       "            }\n",
       "            buttonGroup = document.createElement('div');\n",
       "            buttonGroup.classList = 'mpl-button-group';\n",
       "            continue;\n",
       "        }\n",
       "\n",
       "        var button = (fig.buttons[name] = document.createElement('button'));\n",
       "        button.classList = 'mpl-widget';\n",
       "        button.setAttribute('role', 'button');\n",
       "        button.setAttribute('aria-disabled', 'false');\n",
       "        button.addEventListener('click', on_click_closure(method_name));\n",
       "        button.addEventListener('mouseover', on_mouseover_closure(tooltip));\n",
       "\n",
       "        var icon_img = document.createElement('img');\n",
       "        icon_img.src = '_images/' + image + '.png';\n",
       "        icon_img.srcset = '_images/' + image + '_large.png 2x';\n",
       "        icon_img.alt = tooltip;\n",
       "        button.appendChild(icon_img);\n",
       "\n",
       "        buttonGroup.appendChild(button);\n",
       "    }\n",
       "\n",
       "    if (buttonGroup.hasChildNodes()) {\n",
       "        toolbar.appendChild(buttonGroup);\n",
       "    }\n",
       "\n",
       "    var fmt_picker = document.createElement('select');\n",
       "    fmt_picker.classList = 'mpl-widget';\n",
       "    toolbar.appendChild(fmt_picker);\n",
       "    this.format_dropdown = fmt_picker;\n",
       "\n",
       "    for (var ind in mpl.extensions) {\n",
       "        var fmt = mpl.extensions[ind];\n",
       "        var option = document.createElement('option');\n",
       "        option.selected = fmt === mpl.default_extension;\n",
       "        option.innerHTML = fmt;\n",
       "        fmt_picker.appendChild(option);\n",
       "    }\n",
       "\n",
       "    var status_bar = document.createElement('span');\n",
       "    status_bar.classList = 'mpl-message';\n",
       "    toolbar.appendChild(status_bar);\n",
       "    this.message = status_bar;\n",
       "};\n",
       "\n",
       "mpl.figure.prototype.request_resize = function (x_pixels, y_pixels) {\n",
       "    // Request matplotlib to resize the figure. Matplotlib will then trigger a resize in the client,\n",
       "    // which will in turn request a refresh of the image.\n",
       "    this.send_message('resize', { width: x_pixels, height: y_pixels });\n",
       "};\n",
       "\n",
       "mpl.figure.prototype.send_message = function (type, properties) {\n",
       "    properties['type'] = type;\n",
       "    properties['figure_id'] = this.id;\n",
       "    this.ws.send(JSON.stringify(properties));\n",
       "};\n",
       "\n",
       "mpl.figure.prototype.send_draw_message = function () {\n",
       "    if (!this.waiting) {\n",
       "        this.waiting = true;\n",
       "        this.ws.send(JSON.stringify({ type: 'draw', figure_id: this.id }));\n",
       "    }\n",
       "};\n",
       "\n",
       "mpl.figure.prototype.handle_save = function (fig, _msg) {\n",
       "    var format_dropdown = fig.format_dropdown;\n",
       "    var format = format_dropdown.options[format_dropdown.selectedIndex].value;\n",
       "    fig.ondownload(fig, format);\n",
       "};\n",
       "\n",
       "mpl.figure.prototype.handle_resize = function (fig, msg) {\n",
       "    var size = msg['size'];\n",
       "    if (size[0] !== fig.canvas.width || size[1] !== fig.canvas.height) {\n",
       "        fig._resize_canvas(size[0], size[1], msg['forward']);\n",
       "        fig.send_message('refresh', {});\n",
       "    }\n",
       "};\n",
       "\n",
       "mpl.figure.prototype.handle_rubberband = function (fig, msg) {\n",
       "    var x0 = msg['x0'] / fig.ratio;\n",
       "    var y0 = (fig.canvas.height - msg['y0']) / fig.ratio;\n",
       "    var x1 = msg['x1'] / fig.ratio;\n",
       "    var y1 = (fig.canvas.height - msg['y1']) / fig.ratio;\n",
       "    x0 = Math.floor(x0) + 0.5;\n",
       "    y0 = Math.floor(y0) + 0.5;\n",
       "    x1 = Math.floor(x1) + 0.5;\n",
       "    y1 = Math.floor(y1) + 0.5;\n",
       "    var min_x = Math.min(x0, x1);\n",
       "    var min_y = Math.min(y0, y1);\n",
       "    var width = Math.abs(x1 - x0);\n",
       "    var height = Math.abs(y1 - y0);\n",
       "\n",
       "    fig.rubberband_context.clearRect(\n",
       "        0,\n",
       "        0,\n",
       "        fig.canvas.width / fig.ratio,\n",
       "        fig.canvas.height / fig.ratio\n",
       "    );\n",
       "\n",
       "    fig.rubberband_context.strokeRect(min_x, min_y, width, height);\n",
       "};\n",
       "\n",
       "mpl.figure.prototype.handle_figure_label = function (fig, msg) {\n",
       "    // Updates the figure title.\n",
       "    fig.header.textContent = msg['label'];\n",
       "};\n",
       "\n",
       "mpl.figure.prototype.handle_cursor = function (fig, msg) {\n",
       "    fig.rubberband_canvas.style.cursor = msg['cursor'];\n",
       "};\n",
       "\n",
       "mpl.figure.prototype.handle_message = function (fig, msg) {\n",
       "    fig.message.textContent = msg['message'];\n",
       "};\n",
       "\n",
       "mpl.figure.prototype.handle_draw = function (fig, _msg) {\n",
       "    // Request the server to send over a new figure.\n",
       "    fig.send_draw_message();\n",
       "};\n",
       "\n",
       "mpl.figure.prototype.handle_image_mode = function (fig, msg) {\n",
       "    fig.image_mode = msg['mode'];\n",
       "};\n",
       "\n",
       "mpl.figure.prototype.handle_history_buttons = function (fig, msg) {\n",
       "    for (var key in msg) {\n",
       "        if (!(key in fig.buttons)) {\n",
       "            continue;\n",
       "        }\n",
       "        fig.buttons[key].disabled = !msg[key];\n",
       "        fig.buttons[key].setAttribute('aria-disabled', !msg[key]);\n",
       "    }\n",
       "};\n",
       "\n",
       "mpl.figure.prototype.handle_navigate_mode = function (fig, msg) {\n",
       "    if (msg['mode'] === 'PAN') {\n",
       "        fig.buttons['Pan'].classList.add('active');\n",
       "        fig.buttons['Zoom'].classList.remove('active');\n",
       "    } else if (msg['mode'] === 'ZOOM') {\n",
       "        fig.buttons['Pan'].classList.remove('active');\n",
       "        fig.buttons['Zoom'].classList.add('active');\n",
       "    } else {\n",
       "        fig.buttons['Pan'].classList.remove('active');\n",
       "        fig.buttons['Zoom'].classList.remove('active');\n",
       "    }\n",
       "};\n",
       "\n",
       "mpl.figure.prototype.updated_canvas_event = function () {\n",
       "    // Called whenever the canvas gets updated.\n",
       "    this.send_message('ack', {});\n",
       "};\n",
       "\n",
       "// A function to construct a web socket function for onmessage handling.\n",
       "// Called in the figure constructor.\n",
       "mpl.figure.prototype._make_on_message_function = function (fig) {\n",
       "    return function socket_on_message(evt) {\n",
       "        if (evt.data instanceof Blob) {\n",
       "            var img = evt.data;\n",
       "            if (img.type !== 'image/png') {\n",
       "                /* FIXME: We get \"Resource interpreted as Image but\n",
       "                 * transferred with MIME type text/plain:\" errors on\n",
       "                 * Chrome.  But how to set the MIME type?  It doesn't seem\n",
       "                 * to be part of the websocket stream */\n",
       "                img.type = 'image/png';\n",
       "            }\n",
       "\n",
       "            /* Free the memory for the previous frames */\n",
       "            if (fig.imageObj.src) {\n",
       "                (window.URL || window.webkitURL).revokeObjectURL(\n",
       "                    fig.imageObj.src\n",
       "                );\n",
       "            }\n",
       "\n",
       "            fig.imageObj.src = (window.URL || window.webkitURL).createObjectURL(\n",
       "                img\n",
       "            );\n",
       "            fig.updated_canvas_event();\n",
       "            fig.waiting = false;\n",
       "            return;\n",
       "        } else if (\n",
       "            typeof evt.data === 'string' &&\n",
       "            evt.data.slice(0, 21) === 'data:image/png;base64'\n",
       "        ) {\n",
       "            fig.imageObj.src = evt.data;\n",
       "            fig.updated_canvas_event();\n",
       "            fig.waiting = false;\n",
       "            return;\n",
       "        }\n",
       "\n",
       "        var msg = JSON.parse(evt.data);\n",
       "        var msg_type = msg['type'];\n",
       "\n",
       "        // Call the  \"handle_{type}\" callback, which takes\n",
       "        // the figure and JSON message as its only arguments.\n",
       "        try {\n",
       "            var callback = fig['handle_' + msg_type];\n",
       "        } catch (e) {\n",
       "            console.log(\n",
       "                \"No handler for the '\" + msg_type + \"' message type: \",\n",
       "                msg\n",
       "            );\n",
       "            return;\n",
       "        }\n",
       "\n",
       "        if (callback) {\n",
       "            try {\n",
       "                // console.log(\"Handling '\" + msg_type + \"' message: \", msg);\n",
       "                callback(fig, msg);\n",
       "            } catch (e) {\n",
       "                console.log(\n",
       "                    \"Exception inside the 'handler_\" + msg_type + \"' callback:\",\n",
       "                    e,\n",
       "                    e.stack,\n",
       "                    msg\n",
       "                );\n",
       "            }\n",
       "        }\n",
       "    };\n",
       "};\n",
       "\n",
       "// from https://stackoverflow.com/questions/1114465/getting-mouse-location-in-canvas\n",
       "mpl.findpos = function (e) {\n",
       "    //this section is from http://www.quirksmode.org/js/events_properties.html\n",
       "    var targ;\n",
       "    if (!e) {\n",
       "        e = window.event;\n",
       "    }\n",
       "    if (e.target) {\n",
       "        targ = e.target;\n",
       "    } else if (e.srcElement) {\n",
       "        targ = e.srcElement;\n",
       "    }\n",
       "    if (targ.nodeType === 3) {\n",
       "        // defeat Safari bug\n",
       "        targ = targ.parentNode;\n",
       "    }\n",
       "\n",
       "    // pageX,Y are the mouse positions relative to the document\n",
       "    var boundingRect = targ.getBoundingClientRect();\n",
       "    var x = e.pageX - (boundingRect.left + document.body.scrollLeft);\n",
       "    var y = e.pageY - (boundingRect.top + document.body.scrollTop);\n",
       "\n",
       "    return { x: x, y: y };\n",
       "};\n",
       "\n",
       "/*\n",
       " * return a copy of an object with only non-object keys\n",
       " * we need this to avoid circular references\n",
       " * https://stackoverflow.com/a/24161582/3208463\n",
       " */\n",
       "function simpleKeys(original) {\n",
       "    return Object.keys(original).reduce(function (obj, key) {\n",
       "        if (typeof original[key] !== 'object') {\n",
       "            obj[key] = original[key];\n",
       "        }\n",
       "        return obj;\n",
       "    }, {});\n",
       "}\n",
       "\n",
       "mpl.figure.prototype.mouse_event = function (event, name) {\n",
       "    var canvas_pos = mpl.findpos(event);\n",
       "\n",
       "    if (name === 'button_press') {\n",
       "        this.canvas.focus();\n",
       "        this.canvas_div.focus();\n",
       "    }\n",
       "\n",
       "    var x = canvas_pos.x * this.ratio;\n",
       "    var y = canvas_pos.y * this.ratio;\n",
       "\n",
       "    this.send_message(name, {\n",
       "        x: x,\n",
       "        y: y,\n",
       "        button: event.button,\n",
       "        step: event.step,\n",
       "        guiEvent: simpleKeys(event),\n",
       "    });\n",
       "\n",
       "    /* This prevents the web browser from automatically changing to\n",
       "     * the text insertion cursor when the button is pressed.  We want\n",
       "     * to control all of the cursor setting manually through the\n",
       "     * 'cursor' event from matplotlib */\n",
       "    event.preventDefault();\n",
       "    return false;\n",
       "};\n",
       "\n",
       "mpl.figure.prototype._key_event_extra = function (_event, _name) {\n",
       "    // Handle any extra behaviour associated with a key event\n",
       "};\n",
       "\n",
       "mpl.figure.prototype.key_event = function (event, name) {\n",
       "    // Prevent repeat events\n",
       "    if (name === 'key_press') {\n",
       "        if (event.key === this._key) {\n",
       "            return;\n",
       "        } else {\n",
       "            this._key = event.key;\n",
       "        }\n",
       "    }\n",
       "    if (name === 'key_release') {\n",
       "        this._key = null;\n",
       "    }\n",
       "\n",
       "    var value = '';\n",
       "    if (event.ctrlKey && event.key !== 'Control') {\n",
       "        value += 'ctrl+';\n",
       "    }\n",
       "    else if (event.altKey && event.key !== 'Alt') {\n",
       "        value += 'alt+';\n",
       "    }\n",
       "    else if (event.shiftKey && event.key !== 'Shift') {\n",
       "        value += 'shift+';\n",
       "    }\n",
       "\n",
       "    value += 'k' + event.key;\n",
       "\n",
       "    this._key_event_extra(event, name);\n",
       "\n",
       "    this.send_message(name, { key: value, guiEvent: simpleKeys(event) });\n",
       "    return false;\n",
       "};\n",
       "\n",
       "mpl.figure.prototype.toolbar_button_onclick = function (name) {\n",
       "    if (name === 'download') {\n",
       "        this.handle_save(this, null);\n",
       "    } else {\n",
       "        this.send_message('toolbar_button', { name: name });\n",
       "    }\n",
       "};\n",
       "\n",
       "mpl.figure.prototype.toolbar_button_onmouseover = function (tooltip) {\n",
       "    this.message.textContent = tooltip;\n",
       "};\n",
       "\n",
       "///////////////// REMAINING CONTENT GENERATED BY embed_js.py /////////////////\n",
       "// prettier-ignore\n",
       "var _JSXTOOLS_RESIZE_OBSERVER=function(A){var t,i=new WeakMap,n=new WeakMap,a=new WeakMap,r=new WeakMap,o=new Set;function s(e){if(!(this instanceof s))throw new TypeError(\"Constructor requires 'new' operator\");i.set(this,e)}function h(){throw new TypeError(\"Function is not a constructor\")}function c(e,t,i,n){e=0 in arguments?Number(arguments[0]):0,t=1 in arguments?Number(arguments[1]):0,i=2 in arguments?Number(arguments[2]):0,n=3 in arguments?Number(arguments[3]):0,this.right=(this.x=this.left=e)+(this.width=i),this.bottom=(this.y=this.top=t)+(this.height=n),Object.freeze(this)}function d(){t=requestAnimationFrame(d);var s=new WeakMap,p=new Set;o.forEach((function(t){r.get(t).forEach((function(i){var r=t instanceof window.SVGElement,o=a.get(t),d=r?0:parseFloat(o.paddingTop),f=r?0:parseFloat(o.paddingRight),l=r?0:parseFloat(o.paddingBottom),u=r?0:parseFloat(o.paddingLeft),g=r?0:parseFloat(o.borderTopWidth),m=r?0:parseFloat(o.borderRightWidth),w=r?0:parseFloat(o.borderBottomWidth),b=u+f,F=d+l,v=(r?0:parseFloat(o.borderLeftWidth))+m,W=g+w,y=r?0:t.offsetHeight-W-t.clientHeight,E=r?0:t.offsetWidth-v-t.clientWidth,R=b+v,z=F+W,M=r?t.width:parseFloat(o.width)-R-E,O=r?t.height:parseFloat(o.height)-z-y;if(n.has(t)){var k=n.get(t);if(k[0]===M&&k[1]===O)return}n.set(t,[M,O]);var S=Object.create(h.prototype);S.target=t,S.contentRect=new c(u,d,M,O),s.has(i)||(s.set(i,[]),p.add(i)),s.get(i).push(S)}))})),p.forEach((function(e){i.get(e).call(e,s.get(e),e)}))}return s.prototype.observe=function(i){if(i instanceof window.Element){r.has(i)||(r.set(i,new Set),o.add(i),a.set(i,window.getComputedStyle(i)));var n=r.get(i);n.has(this)||n.add(this),cancelAnimationFrame(t),t=requestAnimationFrame(d)}},s.prototype.unobserve=function(i){if(i instanceof window.Element&&r.has(i)){var n=r.get(i);n.has(this)&&(n.delete(this),n.size||(r.delete(i),o.delete(i))),n.size||r.delete(i),o.size||cancelAnimationFrame(t)}},A.DOMRectReadOnly=c,A.ResizeObserver=s,A.ResizeObserverEntry=h,A}; // eslint-disable-line\n",
       "mpl.toolbar_items = [[\"Home\", \"Reset original view\", \"fa fa-home icon-home\", \"home\"], [\"Back\", \"Back to previous view\", \"fa fa-arrow-left icon-arrow-left\", \"back\"], [\"Forward\", \"Forward to next view\", \"fa fa-arrow-right icon-arrow-right\", \"forward\"], [\"\", \"\", \"\", \"\"], [\"Pan\", \"Left button pans, Right button zooms\\nx/y fixes axis, CTRL fixes aspect\", \"fa fa-arrows icon-move\", \"pan\"], [\"Zoom\", \"Zoom to rectangle\\nx/y fixes axis\", \"fa fa-square-o icon-check-empty\", \"zoom\"], [\"\", \"\", \"\", \"\"], [\"Download\", \"Download plot\", \"fa fa-floppy-o icon-save\", \"download\"]];\n",
       "\n",
       "mpl.extensions = [\"eps\", \"jpeg\", \"pgf\", \"pdf\", \"png\", \"ps\", \"raw\", \"svg\", \"tif\"];\n",
       "\n",
       "mpl.default_extension = \"png\";/* global mpl */\n",
       "\n",
       "var comm_websocket_adapter = function (comm) {\n",
       "    // Create a \"websocket\"-like object which calls the given IPython comm\n",
       "    // object with the appropriate methods. Currently this is a non binary\n",
       "    // socket, so there is still some room for performance tuning.\n",
       "    var ws = {};\n",
       "\n",
       "    ws.binaryType = comm.kernel.ws.binaryType;\n",
       "    ws.readyState = comm.kernel.ws.readyState;\n",
       "    function updateReadyState(_event) {\n",
       "        if (comm.kernel.ws) {\n",
       "            ws.readyState = comm.kernel.ws.readyState;\n",
       "        } else {\n",
       "            ws.readyState = 3; // Closed state.\n",
       "        }\n",
       "    }\n",
       "    comm.kernel.ws.addEventListener('open', updateReadyState);\n",
       "    comm.kernel.ws.addEventListener('close', updateReadyState);\n",
       "    comm.kernel.ws.addEventListener('error', updateReadyState);\n",
       "\n",
       "    ws.close = function () {\n",
       "        comm.close();\n",
       "    };\n",
       "    ws.send = function (m) {\n",
       "        //console.log('sending', m);\n",
       "        comm.send(m);\n",
       "    };\n",
       "    // Register the callback with on_msg.\n",
       "    comm.on_msg(function (msg) {\n",
       "        //console.log('receiving', msg['content']['data'], msg);\n",
       "        var data = msg['content']['data'];\n",
       "        if (data['blob'] !== undefined) {\n",
       "            data = {\n",
       "                data: new Blob(msg['buffers'], { type: data['blob'] }),\n",
       "            };\n",
       "        }\n",
       "        // Pass the mpl event to the overridden (by mpl) onmessage function.\n",
       "        ws.onmessage(data);\n",
       "    });\n",
       "    return ws;\n",
       "};\n",
       "\n",
       "mpl.mpl_figure_comm = function (comm, msg) {\n",
       "    // This is the function which gets called when the mpl process\n",
       "    // starts-up an IPython Comm through the \"matplotlib\" channel.\n",
       "\n",
       "    var id = msg.content.data.id;\n",
       "    // Get hold of the div created by the display call when the Comm\n",
       "    // socket was opened in Python.\n",
       "    var element = document.getElementById(id);\n",
       "    var ws_proxy = comm_websocket_adapter(comm);\n",
       "\n",
       "    function ondownload(figure, _format) {\n",
       "        window.open(figure.canvas.toDataURL());\n",
       "    }\n",
       "\n",
       "    var fig = new mpl.figure(id, ws_proxy, ondownload, element);\n",
       "\n",
       "    // Call onopen now - mpl needs it, as it is assuming we've passed it a real\n",
       "    // web socket which is closed, not our websocket->open comm proxy.\n",
       "    ws_proxy.onopen();\n",
       "\n",
       "    fig.parent_element = element;\n",
       "    fig.cell_info = mpl.find_output_cell(\"<div id='\" + id + \"'></div>\");\n",
       "    if (!fig.cell_info) {\n",
       "        console.error('Failed to find cell for figure', id, fig);\n",
       "        return;\n",
       "    }\n",
       "    fig.cell_info[0].output_area.element.on(\n",
       "        'cleared',\n",
       "        { fig: fig },\n",
       "        fig._remove_fig_handler\n",
       "    );\n",
       "};\n",
       "\n",
       "mpl.figure.prototype.handle_close = function (fig, msg) {\n",
       "    var width = fig.canvas.width / fig.ratio;\n",
       "    fig.cell_info[0].output_area.element.off(\n",
       "        'cleared',\n",
       "        fig._remove_fig_handler\n",
       "    );\n",
       "    fig.resizeObserverInstance.unobserve(fig.canvas_div);\n",
       "\n",
       "    // Update the output cell to use the data from the current canvas.\n",
       "    fig.push_to_output();\n",
       "    var dataURL = fig.canvas.toDataURL();\n",
       "    // Re-enable the keyboard manager in IPython - without this line, in FF,\n",
       "    // the notebook keyboard shortcuts fail.\n",
       "    IPython.keyboard_manager.enable();\n",
       "    fig.parent_element.innerHTML =\n",
       "        '<img src=\"' + dataURL + '\" width=\"' + width + '\">';\n",
       "    fig.close_ws(fig, msg);\n",
       "};\n",
       "\n",
       "mpl.figure.prototype.close_ws = function (fig, msg) {\n",
       "    fig.send_message('closing', msg);\n",
       "    // fig.ws.close()\n",
       "};\n",
       "\n",
       "mpl.figure.prototype.push_to_output = function (_remove_interactive) {\n",
       "    // Turn the data on the canvas into data in the output cell.\n",
       "    var width = this.canvas.width / this.ratio;\n",
       "    var dataURL = this.canvas.toDataURL();\n",
       "    this.cell_info[1]['text/html'] =\n",
       "        '<img src=\"' + dataURL + '\" width=\"' + width + '\">';\n",
       "};\n",
       "\n",
       "mpl.figure.prototype.updated_canvas_event = function () {\n",
       "    // Tell IPython that the notebook contents must change.\n",
       "    IPython.notebook.set_dirty(true);\n",
       "    this.send_message('ack', {});\n",
       "    var fig = this;\n",
       "    // Wait a second, then push the new image to the DOM so\n",
       "    // that it is saved nicely (might be nice to debounce this).\n",
       "    setTimeout(function () {\n",
       "        fig.push_to_output();\n",
       "    }, 1000);\n",
       "};\n",
       "\n",
       "mpl.figure.prototype._init_toolbar = function () {\n",
       "    var fig = this;\n",
       "\n",
       "    var toolbar = document.createElement('div');\n",
       "    toolbar.classList = 'btn-toolbar';\n",
       "    this.root.appendChild(toolbar);\n",
       "\n",
       "    function on_click_closure(name) {\n",
       "        return function (_event) {\n",
       "            return fig.toolbar_button_onclick(name);\n",
       "        };\n",
       "    }\n",
       "\n",
       "    function on_mouseover_closure(tooltip) {\n",
       "        return function (event) {\n",
       "            if (!event.currentTarget.disabled) {\n",
       "                return fig.toolbar_button_onmouseover(tooltip);\n",
       "            }\n",
       "        };\n",
       "    }\n",
       "\n",
       "    fig.buttons = {};\n",
       "    var buttonGroup = document.createElement('div');\n",
       "    buttonGroup.classList = 'btn-group';\n",
       "    var button;\n",
       "    for (var toolbar_ind in mpl.toolbar_items) {\n",
       "        var name = mpl.toolbar_items[toolbar_ind][0];\n",
       "        var tooltip = mpl.toolbar_items[toolbar_ind][1];\n",
       "        var image = mpl.toolbar_items[toolbar_ind][2];\n",
       "        var method_name = mpl.toolbar_items[toolbar_ind][3];\n",
       "\n",
       "        if (!name) {\n",
       "            /* Instead of a spacer, we start a new button group. */\n",
       "            if (buttonGroup.hasChildNodes()) {\n",
       "                toolbar.appendChild(buttonGroup);\n",
       "            }\n",
       "            buttonGroup = document.createElement('div');\n",
       "            buttonGroup.classList = 'btn-group';\n",
       "            continue;\n",
       "        }\n",
       "\n",
       "        button = fig.buttons[name] = document.createElement('button');\n",
       "        button.classList = 'btn btn-default';\n",
       "        button.href = '#';\n",
       "        button.title = name;\n",
       "        button.innerHTML = '<i class=\"fa ' + image + ' fa-lg\"></i>';\n",
       "        button.addEventListener('click', on_click_closure(method_name));\n",
       "        button.addEventListener('mouseover', on_mouseover_closure(tooltip));\n",
       "        buttonGroup.appendChild(button);\n",
       "    }\n",
       "\n",
       "    if (buttonGroup.hasChildNodes()) {\n",
       "        toolbar.appendChild(buttonGroup);\n",
       "    }\n",
       "\n",
       "    // Add the status bar.\n",
       "    var status_bar = document.createElement('span');\n",
       "    status_bar.classList = 'mpl-message pull-right';\n",
       "    toolbar.appendChild(status_bar);\n",
       "    this.message = status_bar;\n",
       "\n",
       "    // Add the close button to the window.\n",
       "    var buttongrp = document.createElement('div');\n",
       "    buttongrp.classList = 'btn-group inline pull-right';\n",
       "    button = document.createElement('button');\n",
       "    button.classList = 'btn btn-mini btn-primary';\n",
       "    button.href = '#';\n",
       "    button.title = 'Stop Interaction';\n",
       "    button.innerHTML = '<i class=\"fa fa-power-off icon-remove icon-large\"></i>';\n",
       "    button.addEventListener('click', function (_evt) {\n",
       "        fig.handle_close(fig, {});\n",
       "    });\n",
       "    button.addEventListener(\n",
       "        'mouseover',\n",
       "        on_mouseover_closure('Stop Interaction')\n",
       "    );\n",
       "    buttongrp.appendChild(button);\n",
       "    var titlebar = this.root.querySelector('.ui-dialog-titlebar');\n",
       "    titlebar.insertBefore(buttongrp, titlebar.firstChild);\n",
       "};\n",
       "\n",
       "mpl.figure.prototype._remove_fig_handler = function (event) {\n",
       "    var fig = event.data.fig;\n",
       "    if (event.target !== this) {\n",
       "        // Ignore bubbled events from children.\n",
       "        return;\n",
       "    }\n",
       "    fig.close_ws(fig, {});\n",
       "};\n",
       "\n",
       "mpl.figure.prototype._root_extra_style = function (el) {\n",
       "    el.style.boxSizing = 'content-box'; // override notebook setting of border-box.\n",
       "};\n",
       "\n",
       "mpl.figure.prototype._canvas_extra_style = function (el) {\n",
       "    // this is important to make the div 'focusable\n",
       "    el.setAttribute('tabindex', 0);\n",
       "    // reach out to IPython and tell the keyboard manager to turn it's self\n",
       "    // off when our div gets focus\n",
       "\n",
       "    // location in version 3\n",
       "    if (IPython.notebook.keyboard_manager) {\n",
       "        IPython.notebook.keyboard_manager.register_events(el);\n",
       "    } else {\n",
       "        // location in version 2\n",
       "        IPython.keyboard_manager.register_events(el);\n",
       "    }\n",
       "};\n",
       "\n",
       "mpl.figure.prototype._key_event_extra = function (event, _name) {\n",
       "    // Check for shift+enter\n",
       "    if (event.shiftKey && event.which === 13) {\n",
       "        this.canvas_div.blur();\n",
       "        // select the cell after this one\n",
       "        var index = IPython.notebook.find_cell_index(this.cell_info[0]);\n",
       "        IPython.notebook.select(index + 1);\n",
       "    }\n",
       "};\n",
       "\n",
       "mpl.figure.prototype.handle_save = function (fig, _msg) {\n",
       "    fig.ondownload(fig, null);\n",
       "};\n",
       "\n",
       "mpl.find_output_cell = function (html_output) {\n",
       "    // Return the cell and output element which can be found *uniquely* in the notebook.\n",
       "    // Note - this is a bit hacky, but it is done because the \"notebook_saving.Notebook\"\n",
       "    // IPython event is triggered only after the cells have been serialised, which for\n",
       "    // our purposes (turning an active figure into a static one), is too late.\n",
       "    var cells = IPython.notebook.get_cells();\n",
       "    var ncells = cells.length;\n",
       "    for (var i = 0; i < ncells; i++) {\n",
       "        var cell = cells[i];\n",
       "        if (cell.cell_type === 'code') {\n",
       "            for (var j = 0; j < cell.output_area.outputs.length; j++) {\n",
       "                var data = cell.output_area.outputs[j];\n",
       "                if (data.data) {\n",
       "                    // IPython >= 3 moved mimebundle to data attribute of output\n",
       "                    data = data.data;\n",
       "                }\n",
       "                if (data['text/html'] === html_output) {\n",
       "                    return [cell, data, j];\n",
       "                }\n",
       "            }\n",
       "        }\n",
       "    }\n",
       "};\n",
       "\n",
       "// Register the function which deals with the matplotlib target/channel.\n",
       "// The kernel may be null if the page has been refreshed.\n",
       "if (IPython.notebook.kernel !== null) {\n",
       "    IPython.notebook.kernel.comm_manager.register_target(\n",
       "        'matplotlib',\n",
       "        mpl.mpl_figure_comm\n",
       "    );\n",
       "}\n"
      ],
      "text/plain": [
       "<IPython.core.display.Javascript object>"
      ]
     },
     "metadata": {},
     "output_type": "display_data"
    },
    {
     "data": {
      "text/html": [
       "<img src=\"data:image/png;base64,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\" width=\"800.0000211927631\">"
      ],
      "text/plain": [
       "<IPython.core.display.HTML object>"
      ]
     },
     "metadata": {},
     "output_type": "display_data"
    }
   ],
   "source": [
    "%matplotlib notebook\n",
    "\n",
    "# Assign Variables\n",
    "d_theta = 30\n",
    "theta2_range = np.arange(-30, 90 + d_theta, d_theta)\n",
    "# theta2_range = [0]\n",
    "theta3_range = np.arange(-60, 60 + d_theta, d_theta)\n",
    "# theta3_range = [0]\n",
    "theta4_range = np.arange(0, 360 + d_theta*2, d_theta*2)\n",
    "# theta4_range = [0]\n",
    "d1_range = np.arange(20, 40 + 10, 10)\n",
    "# d1_range = [40]\n",
    "\n",
    "plt.ion()\n",
    "\n",
    "fig = plt.figure(figsize=[8, 6])\n",
    "ax = fig.add_subplot(projection='3d')\n",
    "ax.set_xlabel('x')\n",
    "ax.set_ylabel('y')\n",
    "ax.set_zlabel('z')\n",
    "x_max = l2_val + l3_val + l4_val\n",
    "z_max = d1_range[-1] + l0_val + le_val\n",
    "ax.set_xlim([-x_max*1, x_max*1])\n",
    "ax.set_ylim([-x_max*1, x_max*1])\n",
    "ax.set_zlim([-z_max*1, z_max*1])\n",
    "\n",
    "# lines = ax.scatter([0], [0], [0], s=10, c='r', marker='.')  \n",
    "line1, = ax.plot([0], [0], [0], 'r.')\n",
    "line2, = ax.plot([0], [0], [0], 'b-')\n",
    "line3, = ax.plot([0], [0], [0], 'bx')\n",
    "\n",
    "end_memory = []\n",
    "\n",
    "for d1_val in d1_range:\n",
    "    for theta2_val in theta2_range:\n",
    "        theta2_val = theta2_val * np.pi / 180\n",
    "        for theta3_val in theta3_range:\n",
    "            theta3_val = theta3_val * np.pi / 180\n",
    "            for theta4_val in theta4_range:\n",
    "                theta4_val = theta4_val * np.pi / 180\n",
    "                values = {l0: l0_val, l2: l2_val, l3: l3_val, l4: l4_val, le: le_val, \n",
    "                          theta2: theta2_val, theta3: theta3_val, theta4: theta4_val, \n",
    "                          d1: d1_val}\n",
    "                end_pos = P0e.subs(values)\n",
    "                \n",
    "                if len(end_memory) < 20:\n",
    "                    end_memory.append(end_pos[:3])\n",
    "                else:\n",
    "                    end_memory = end_memory[1:] + [end_pos[:3]]\n",
    "                    \n",
    "                line1.set_xdata([i[0] for i in end_memory])\n",
    "                line1.set_ydata([i[1] for i in end_memory])\n",
    "                line1.set_3d_properties([i[2] for i in end_memory])\n",
    "    \n",
    "                Pii_pos = Matrix([0, 0, 0, 1])\n",
    "                P01_pos = (T01 * Pii_pos).subs(values)\n",
    "                P02_pos = (T01 * T12 * Pii_pos).subs(values)\n",
    "                P03_pos = (T01 * T12 * T23 * Pii_pos).subs(values)\n",
    "                P04_pos = (T01 * T12 * T23 * T34 * Pii_pos).subs(values)\n",
    "\n",
    "\n",
    "                plot_links_moving(line2, line3, [Pii_pos, P01_pos, P02_pos, P03_pos, P04_pos, end_pos])\n",
    "                fig.suptitle('$d_1: %d, \\\\theta_2: %.1f^o, \\\\theta_3: %.1f^o, \\\n",
    "                             \\\\theta_4: %.1f^o$' % (d1_val, theta2_val/pi*180, theta3_val/pi*180, theta4_val/pi*180))\n",
    "                fig.canvas.draw()\n",
    "                fig.canvas.flush_events()\n",
    "#                 time.sleep(0.1)\n"
   ]
  },
  {
   "cell_type": "markdown",
   "id": "bade0c24",
   "metadata": {},
   "source": [
    "## Inverse Kinematics"
   ]
  },
  {
   "cell_type": "markdown",
   "id": "d5dbaa79",
   "metadata": {},
   "source": [
    "To prove the correctness of inverse kinematics equation. \n",
    "\n",
    "First making a $^0_eT$ from $[\\theta_2, \\theta_3, \\theta_4, d_1]$. Taking $r_{ii}, X, Y, Z$ from $^0_eT$. These values are used in inverse kinematics equations to find $[\\theta_2, \\theta_3, \\theta_4, d_1]$.\n",
    "\n",
    "If the equations are correct, the resulted $[\\theta_2, \\theta_3, \\theta_4, d_1]$ found should be equal to the values set at the beginning."
   ]
  },
  {
   "cell_type": "code",
   "execution_count": 7,
   "id": "d3b3215e",
   "metadata": {},
   "outputs": [
    {
     "data": {
      "text/latex": [
       "$\\displaystyle ^0Target_{e}$"
      ],
      "text/plain": [
       "^0Target_e"
      ]
     },
     "metadata": {},
     "output_type": "display_data"
    },
    {
     "data": {
      "text/latex": [
       "$\\displaystyle \\left[\\begin{matrix}r_{11} & r_{12} & r_{13} & X\\\\r_{21} & r_{22} & r_{23} & Y\\\\r_{31} & r_{32} & r_{33} & Z\\\\0 & 0 & 0 & 1\\end{matrix}\\right]$"
      ],
      "text/plain": [
       "Matrix([\n",
       "[r_{11}, r_{12}, r_{13}, X],\n",
       "[r_{21}, r_{22}, r_{23}, Y],\n",
       "[r_{31}, r_{32}, r_{33}, Z],\n",
       "[     0,      0,      0, 1]])"
      ]
     },
     "metadata": {},
     "output_type": "display_data"
    },
    {
     "data": {
      "text/latex": [
       "$\\displaystyle \\left[\\begin{matrix}-0.615661475325659 & -0.788010753606722 & 0 & -18.153015574023\\\\-0.788010753606722 & 0.615661475325659 & 0 & 2.36403226082017\\\\0 & 0 & -1.0 & 10.0\\\\0 & 0 & 0 & 1\\end{matrix}\\right]$"
      ],
      "text/plain": [
       "Matrix([\n",
       "[-0.615661475325659, -0.788010753606722,    0, -18.153015574023],\n",
       "[-0.788010753606722,  0.615661475325659,    0, 2.36403226082017],\n",
       "[                 0,                  0, -1.0,             10.0],\n",
       "[                 0,                  0,    0,                1]])"
      ]
     },
     "metadata": {},
     "output_type": "display_data"
    }
   ],
   "source": [
    "r11 = symbols('r_{11}')\n",
    "r12 = symbols('r_{12}')\n",
    "r13 = symbols('r_{13}')\n",
    "r21 = symbols('r_{21}')\n",
    "r22 = symbols('r_{22}')\n",
    "r23 = symbols('r_{23}')\n",
    "r31 = symbols('r_{31}')\n",
    "r32 = symbols('r_{32}')\n",
    "r33 = symbols('r_{33}')\n",
    "X = symbols('X')\n",
    "Y = symbols('Y')\n",
    "Z = symbols('Z')\n",
    "\n",
    "theta2_val = 180/180*np.pi\n",
    "theta3_val = -90/180*np.pi\n",
    "theta4_val = -52/180*np.pi\n",
    "d1_val = 25\n",
    "\n",
    "# Or make random values:\n",
    "# theta2_val = np.random.rand()*360/180*np.pi\n",
    "# theta3_val = 36/180*np.pi\n",
    "# theta4_val = -52/180*np.pi\n",
    "# d1_val = 25\n",
    "\n",
    "values = {l0: l0_val, l2: l2_val, l3: l3_val, l4: l4_val, le: le_val, \n",
    "          theta2: theta2_val, theta3: theta3_val, theta4: theta4_val, \n",
    "          d1: d1_val}\n",
    "T0e_target = T0e.subs(values)\n",
    "# convert infinitely small non-zero float to zero\n",
    "T0e_target = np.array(T0e_target)\n",
    "T0e_target[np.abs(T0e_target) < 1e-7] = 0\n",
    "\n",
    "symprint('Target', 0, 'e')\n",
    "display(Matrix([[r11, r12, r13, X],\n",
    "                [r21, r22, r23, Y],\n",
    "                [r31, r32, r33, Z],\n",
    "                [0, 0, 0, 1]]))\n",
    "matprint(Matrix(T0e_target), alias)"
   ]
  },
  {
   "cell_type": "markdown",
   "id": "6ca0aba6",
   "metadata": {},
   "source": [
    "Read $r_{ii}, X, Y, Z$ values from $^0_eTarget$, or overwrite them"
   ]
  },
  {
   "cell_type": "code",
   "execution_count": 10,
   "id": "fa5031b3",
   "metadata": {},
   "outputs": [
    {
     "data": {
      "text/latex": [
       "$\\displaystyle d_1=Z - l_0 - l_3*r_{33} - l_4*r_{33} + l_e*r_{31}=25.0000000000000$"
      ],
      "text/plain": [
       "<IPython.core.display.Math object>"
      ]
     },
     "metadata": {},
     "output_type": "display_data"
    },
    {
     "data": {
      "text/latex": [
       "$\\displaystyle \\theta_2=atan2((Y + l_e*r_{21} - r_{23}*(l_3 + l_4))/l_2, (X + l_e*r_{11} - r_{13}*(l_3 + l_4))/l_2)=3.1415926536$"
      ],
      "text/plain": [
       "<IPython.core.display.Math object>"
      ]
     },
     "metadata": {},
     "output_type": "display_data"
    },
    {
     "name": "stdout",
     "output_type": "stream",
     "text": [
      "Case 2: theta2 != +-90 deg\n"
     ]
    },
    {
     "data": {
      "text/latex": [
       "$\\displaystyle \\theta_3=atan2(r_{33}, r_{13}/c\\theta_2)$"
      ],
      "text/plain": [
       "<IPython.core.display.Math object>"
      ]
     },
     "metadata": {},
     "output_type": "display_data"
    },
    {
     "data": {
      "text/latex": [
       "$\\displaystyle \\theta_3=-1.5707963267948966$"
      ],
      "text/plain": [
       "<IPython.core.display.Math object>"
      ]
     },
     "metadata": {},
     "output_type": "display_data"
    },
    {
     "name": "stdout",
     "output_type": "stream",
     "text": [
      "Case 2: theta3 = -90 deg\n"
     ]
    },
    {
     "data": {
      "text/latex": [
       "$\\displaystyle \\theta_4=\\theta_2 + atan2(-r_{12}, r_{11})$"
      ],
      "text/plain": [
       "<IPython.core.display.Math object>"
      ]
     },
     "metadata": {},
     "output_type": "display_data"
    },
    {
     "data": {
      "text/latex": [
       "$\\displaystyle \\theta_4=-0.9075712110276255$"
      ],
      "text/plain": [
       "<IPython.core.display.Math object>"
      ]
     },
     "metadata": {},
     "output_type": "display_data"
    },
    {
     "name": "stdout",
     "output_type": "stream",
     "text": [
      "\n",
      "True values:\n",
      "25\n",
      "3.141592653589793\n",
      "-1.5707963267948966\n",
      "-0.9075712110370513\n"
     ]
    }
   ],
   "source": [
    "r11_val = T0e_target[0, 0]\n",
    "r12_val = T0e_target[0, 1]\n",
    "r13_val = T0e_target[0, 2]\n",
    "r21_val = T0e_target[1, 0]\n",
    "r22_val = T0e_target[1, 1]\n",
    "r23_val = T0e_target[1, 2]\n",
    "r31_val = T0e_target[2, 0]\n",
    "r32_val = T0e_target[2, 1]\n",
    "r33_val = T0e_target[2, 2]\n",
    "X_val = T0e_target[0, 3]\n",
    "Y_val = T0e_target[1, 3]\n",
    "Z_val = T0e_target[2, 3]\n",
    "\n",
    "target_vals = {l0: l0_val, l2: l2_val, l3: l3_val, l4: l4_val, le: le_val, \n",
    "               r11: r11_val, r12: r12_val, r13: r13_val, \n",
    "               r21: r21_val, r22: r22_val, r23: r23_val, \n",
    "               r31: r31_val, r32: r32_val, r33: r33_val, \n",
    "               X: X_val, Y: Y_val, Z: Z_val}\n",
    "\n",
    "d1_inv =le*r31 - l4*r33 + Z - l0 - l3*r33\n",
    "d1_ans = d1_inv.subs(target_vals)\n",
    "eqnprint(d1, alias, d1_inv, d1_ans)\n",
    "\n",
    "theta2_inv = atan2((le*r21 - r23*(l3+l4) + Y)/l2, (le*r11 - r13*(l3+l4) + X)/l2)\n",
    "theta2_ans = round(theta2_inv.subs(target_vals), 10)  # round applied due to float precision\n",
    "eqnprint(theta2, alias, theta2_inv, theta2_ans)\n",
    "\n",
    "if round(sin(theta2_ans), 7) != 0:\n",
    "    print('Case 1: theta2 != 0 & +- 180 deg')\n",
    "    theta3_inv = atan2(r33, r23/sin(theta2_ans))\n",
    "    eqnprint(theta3, alias, atan2(r33, r23/sin(theta2)))\n",
    "else:\n",
    "    print('Case 2: theta2 != +-90 deg')\n",
    "    theta3_inv = atan2(r33, r13/cos(theta2_ans))\n",
    "    eqnprint(theta3, alias, atan2(r33, r13/cos(theta2)))\n",
    "    \n",
    "theta3_ans = float(theta3_inv.subs(target_vals))\n",
    "# theta3 range from -180 to 180 deg\n",
    "if theta3_ans > np.pi:\n",
    "    theta3_ans -= 2*np.pi \n",
    "eqnprint(theta3, alias, None, theta3_ans)\n",
    "\n",
    "if theta3_ans == np.pi/2:\n",
    "    print('Case 1: theta3 = 90 deg')\n",
    "    theta4_inv = atan2(r12, -r11) - theta2_ans\n",
    "    eqnprint(theta4, alias, atan2(r12, -r11) - theta2)\n",
    "elif theta3_ans == -np.pi/2:\n",
    "    print('Case 2: theta3 = -90 deg')\n",
    "    theta4_inv = atan2(-r12, r11) + theta2_ans\n",
    "    eqnprint(theta4, alias, atan2(-r12, r11) + theta2)\n",
    "else:\n",
    "    print('Case 3: theta3 != +-90 deg')\n",
    "    theta4_inv = atan2(-r32, r31)\n",
    "    eqnprint(theta4, alias, atan2(-r32, r31) - theta2)\n",
    "\n",
    "theta4_ans = float(theta4_inv.subs(target_vals))\n",
    "# theta4 range from -180 to 180 deg\n",
    "if theta4_ans > np.pi:\n",
    "    theta4_ans -= 2*np.pi \n",
    "eqnprint(theta4, alias, None, theta4_ans)\n",
    "    \n",
    "print('\\nTrue values:')\n",
    "print(d1_val)\n",
    "print(theta2_val)\n",
    "print(theta3_val)\n",
    "print(theta4_val)"
   ]
  },
  {
   "cell_type": "code",
   "execution_count": null,
   "id": "27cef240",
   "metadata": {},
   "outputs": [],
   "source": []
  }
 ],
 "metadata": {
  "kernelspec": {
   "display_name": "Python 3 (ipykernel)",
   "language": "python",
   "name": "python3"
  },
  "language_info": {
   "codemirror_mode": {
    "name": "ipython",
    "version": 3
   },
   "file_extension": ".py",
   "mimetype": "text/x-python",
   "name": "python",
   "nbconvert_exporter": "python",
   "pygments_lexer": "ipython3",
   "version": "3.9.13"
  }
 },
 "nbformat": 4,
 "nbformat_minor": 5
}
