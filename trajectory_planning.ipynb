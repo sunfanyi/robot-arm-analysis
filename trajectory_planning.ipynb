{
 "cells": [
  {
   "cell_type": "markdown",
   "id": "da88052c",
   "metadata": {},
   "source": [
    "# 4 Degree of Freedom Robot Arm"
   ]
  },
  {
   "cell_type": "code",
   "execution_count": 1,
   "id": "0b4ac73f",
   "metadata": {},
   "outputs": [],
   "source": [
    "import time\n",
    "import numpy as np\n",
    "from sympy import *\n",
    "import matplotlib.pyplot as plt\n",
    "from mpl_toolkits import mplot3d\n",
    "from IPython.display import display, Math\n",
    "\n",
    "from tools import *"
   ]
  },
  {
   "cell_type": "markdown",
   "id": "d3d0a3da",
   "metadata": {},
   "source": [
    "## Variables and settings"
   ]
  },
  {
   "cell_type": "code",
   "execution_count": 2,
   "id": "2cfee88e",
   "metadata": {},
   "outputs": [],
   "source": [
    "# Constants\n",
    "l0 = symbols('l_0')\n",
    "l2 = symbols('l_2')\n",
    "l3 = symbols('l_3')\n",
    "l4 = symbols('l_4')\n",
    "le = symbols('l_e')\n",
    "l0_val = 5\n",
    "l2_val = 20\n",
    "l3_val = 15\n",
    "l4_val = 5\n",
    "le_val = 3\n",
    "\n",
    "# Variables\n",
    "theta2 = symbols(r\"\\theta_2\")\n",
    "theta3 = symbols(r\"\\theta_3\")\n",
    "theta4 = symbols(r\"\\theta_4\")\n",
    "d1 = symbols('d_1')\n",
    "\n",
    "alias = {}\n",
    "\n",
    "# display cos(theta) as c\\theta, sin(theta) as s\\theta\n",
    "alias.update({sin(theta2): symbols(r\"s\\theta_2\"),\n",
    "              cos(theta2): symbols(r\"c\\theta_2\"),\n",
    "              sin(theta3): symbols(r\"s\\theta_3\"),\n",
    "              cos(theta3): symbols(r\"c\\theta_3\"),\n",
    "              sin(theta4): symbols(r\"s\\theta_4\"),\n",
    "              cos(theta4): symbols(r\"c\\theta_4\")})"
   ]
  },
  {
   "cell_type": "markdown",
   "id": "2a7b579c",
   "metadata": {},
   "source": [
    "## Transformation Metrics (see forward_kinematics.py)"
   ]
  },
  {
   "cell_type": "code",
   "execution_count": 3,
   "id": "7659acfa",
   "metadata": {},
   "outputs": [],
   "source": [
    "R01, T01 = get_trans_mat(0, 0, l0+d1, 0)\n",
    "R12, T12 = get_trans_mat(0, 0, 0, theta2)\n",
    "R23, T23 = get_trans_mat(l2, 90, 0, theta3+pi/2)\n",
    "R34, T34 = get_trans_mat(0, 90, l3, theta4)\n",
    "R4e, T4e = get_trans_mat(-le, 0, l4, 0)\n",
    "\n",
    "T04 = T01 * T12 * T23 * T34\n",
    "T0e = T04 * T4e"
   ]
  },
  {
   "cell_type": "markdown",
   "id": "dfdd9f62",
   "metadata": {},
   "source": [
    "## Inverse Kinematics to find $\\theta$ values from the position metrices"
   ]
  },
  {
   "cell_type": "code",
   "execution_count": 4,
   "id": "8921ef69",
   "metadata": {},
   "outputs": [],
   "source": [
    "def get_random_trans_mat():\n",
    "    \"\"\"\n",
    "    Obtain random position metrices by applying forward kinematics using\n",
    "    randomly assigned theta2, theta3, theta4 & d1 values.\n",
    "    Random assignment is for proving concepts and is practically useless.\n",
    "    \"\"\"\n",
    "    theta2_val = (np.random.rand()*360-180)/180*np.pi\n",
    "    theta3_val = (np.random.rand()*300-150)/180*np.pi\n",
    "    theta4_val = (np.random.rand()*360-180)/180*np.pi\n",
    "    d1_val = np.random.rand() * 40\n",
    "\n",
    "    values = {l0: l0_val, l2: l2_val, l3: l3_val, l4: l4_val, le: le_val, \n",
    "              theta2: theta2_val, theta3: theta3_val, theta4: theta4_val, \n",
    "              d1: d1_val}\n",
    "    T0e_target = T0e.subs(values)\n",
    "    # convert infinitely small non-zero float to zero\n",
    "    T0e_target = np.array(T0e_target, dtype=np.float32)\n",
    "    T0e_target[np.abs(T0e_target) < 1e-7] = 0\n",
    "    \n",
    "    return T0e_target"
   ]
  },
  {
   "cell_type": "code",
   "execution_count": 5,
   "id": "f9567a10",
   "metadata": {},
   "outputs": [],
   "source": [
    "def solve_inverse_kinematics(vals_target, show_ans=False):\n",
    "    # ========================= d1 ==============================\n",
    "    d1_inv =le*r31 - l4*r33 + Z - l0 - l3*r33\n",
    "    d1_ans = float(d1_inv.subs(vals_target))\n",
    "    if show_ans:\n",
    "        eqnprint(d1, alias, None, d1_ans)\n",
    "\n",
    "    # ========================= theta2 ==========================\n",
    "    theta2_inv = atan2((le*r21 - r23*(l3+l4) + Y)/l2, (le*r11 - r13*(l3+l4) + X)/l2)\n",
    "    theta2_ans = float(theta2_inv.subs(vals_target))\n",
    "    if show_ans:\n",
    "        eqnprint(theta2, alias, None, theta2_ans)\n",
    "\n",
    "    # ========================= theta3 ==========================\n",
    "    if sin(theta2_ans) != 0:\n",
    "        theta3_inv = atan2(r33, r23/sin(theta2_ans))\n",
    "    else:\n",
    "        theta3_inv = atan2(r33, r13/cos(theta2_ans))\n",
    "\n",
    "    theta3_ans = float(theta3_inv.subs(vals_target))\n",
    "    # theta3 range from -180 to 180 deg\n",
    "    if theta3_ans > np.pi:\n",
    "        theta3_ans -= 2*np.pi \n",
    "    if show_ans:\n",
    "        eqnprint(theta3, alias, None, theta3_ans)\n",
    "\n",
    "    # ========================= theta4 ==========================\n",
    "    if theta3_ans == np.pi/2:\n",
    "        theta4_inv = atan2(r12, -r11) - theta2_ans\n",
    "    elif theta3_ans == -np.pi/2:\n",
    "        theta4_inv = atan2(-r12, r11) + theta2_ans\n",
    "    else:\n",
    "        theta4_inv = atan2(-r32/cos(theta3_ans), r31/cos(theta3_ans))\n",
    "\n",
    "    theta4_ans = float(theta4_inv.subs(vals_target))\n",
    "    # theta4 range from -180 to 180 deg\n",
    "    if theta4_ans > np.pi:\n",
    "        theta4_ans -= 2*np.pi \n",
    "    if show_ans:\n",
    "        eqnprint(theta4, alias, None, theta4_ans)\n",
    "    \n",
    "    return d1_ans, theta2_ans, theta3_ans, theta4_ans\n"
   ]
  },
  {
   "cell_type": "code",
   "execution_count": 71,
   "id": "20937a2c",
   "metadata": {},
   "outputs": [],
   "source": [
    "r11 = symbols('r_{11}')\n",
    "r12 = symbols('r_{12}')\n",
    "r13 = symbols('r_{13}')\n",
    "r21 = symbols('r_{21}')\n",
    "r22 = symbols('r_{22}')\n",
    "r23 = symbols('r_{23}')\n",
    "r31 = symbols('r_{31}')\n",
    "r32 = symbols('r_{32}')\n",
    "r33 = symbols('r_{33}')\n",
    "X = symbols('X')\n",
    "Y = symbols('Y')\n",
    "Z = symbols('Z')\n",
    "empty_vals = {r11: None, r12: None, r13: None, \n",
    "              r21: None, r22: None, r23: None, \n",
    "              r31: None, r32: None, r33: None, \n",
    "              X: None, Y: None, Z: None}"
   ]
  },
  {
   "cell_type": "code",
   "execution_count": 72,
   "id": "0875df60",
   "metadata": {},
   "outputs": [
    {
     "name": "stdout",
     "output_type": "stream",
     "text": [
      "======> Start Position:\n"
     ]
    },
    {
     "data": {
      "text/latex": [
       "$\\displaystyle ^0P_{start}$"
      ],
      "text/plain": [
       "^0P_start"
      ]
     },
     "metadata": {},
     "output_type": "display_data"
    },
    {
     "data": {
      "text/latex": [
       "$\\displaystyle \\left[\\begin{matrix}-0.809362 & -0.501842 & 0.305103 & 20.6394\\\\0.58716 & -0.703135 & 0.401054 & 22.1771\\\\0.0132634 & 0.503742 & 0.863752 & 24.6897\\\\0 & 0 & 0 & 1.0\\end{matrix}\\right]$"
      ],
      "text/plain": [
       "Matrix([\n",
       "[-0.809362, -0.501842, 0.305103, 20.6394],\n",
       "[  0.58716, -0.703135, 0.401054, 22.1771],\n",
       "[0.0132634,  0.503742, 0.863752, 24.6897],\n",
       "[        0,         0,        0,     1.0]])"
      ]
     },
     "metadata": {},
     "output_type": "display_data"
    },
    {
     "data": {
      "text/latex": [
       "$\\displaystyle d_1=2.454395294189453$"
      ],
      "text/plain": [
       "<IPython.core.display.Math object>"
      ]
     },
     "metadata": {},
     "output_type": "display_data"
    },
    {
     "data": {
      "text/latex": [
       "$\\displaystyle \\theta_2=0.9204481840133667$"
      ],
      "text/plain": [
       "<IPython.core.display.Math object>"
      ]
     },
     "metadata": {},
     "output_type": "display_data"
    },
    {
     "data": {
      "text/latex": [
       "$\\displaystyle \\theta_3=1.042669153206519$"
      ],
      "text/plain": [
       "<IPython.core.display.Math object>"
      ]
     },
     "metadata": {},
     "output_type": "display_data"
    },
    {
     "data": {
      "text/latex": [
       "$\\displaystyle \\theta_4=-1.544472706208504$"
      ],
      "text/plain": [
       "<IPython.core.display.Math object>"
      ]
     },
     "metadata": {},
     "output_type": "display_data"
    },
    {
     "name": "stdout",
     "output_type": "stream",
     "text": [
      "======> End Position:\n"
     ]
    },
    {
     "data": {
      "text/latex": [
       "$\\displaystyle ^0P_{start}$"
      ],
      "text/plain": [
       "^0P_start"
      ]
     },
     "metadata": {},
     "output_type": "display_data"
    },
    {
     "data": {
      "text/latex": [
       "$\\displaystyle \\left[\\begin{matrix}0.420581 & -0.461156 & -0.781311 & 3.11203\\\\-0.738483 & -0.674272 & 0.00045114 & 2.21292\\\\-0.527024 & 0.576795 & -0.624142 & 4.85987\\\\0 & 0 & 0 & 1.0\\end{matrix}\\right]$"
      ],
      "text/plain": [
       "Matrix([\n",
       "[ 0.420581, -0.461156,  -0.781311, 3.11203],\n",
       "[-0.738483, -0.674272, 0.00045114, 2.21292],\n",
       "[-0.527024,  0.576795,  -0.624142, 4.85987],\n",
       "[        0,         0,          0,     1.0]])"
      ]
     },
     "metadata": {},
     "output_type": "display_data"
    },
    {
     "data": {
      "text/latex": [
       "$\\displaystyle d_1=10.761634826660156$"
      ],
      "text/plain": [
       "<IPython.core.display.Math object>"
      ]
     },
     "metadata": {},
     "output_type": "display_data"
    },
    {
     "data": {
      "text/latex": [
       "$\\displaystyle \\theta_2=-0.0005774201126769185$"
      ],
      "text/plain": [
       "<IPython.core.display.Math object>"
      ]
     },
     "metadata": {},
     "output_type": "display_data"
    },
    {
     "data": {
      "text/latex": [
       "$\\displaystyle \\theta_3=-2.4675552453827727$"
      ],
      "text/plain": [
       "<IPython.core.display.Math object>"
      ]
     },
     "metadata": {},
     "output_type": "display_data"
    },
    {
     "data": {
      "text/latex": [
       "$\\displaystyle \\theta_4=0.8304572449618683$"
      ],
      "text/plain": [
       "<IPython.core.display.Math object>"
      ]
     },
     "metadata": {},
     "output_type": "display_data"
    }
   ],
   "source": [
    "num_via_points = 10\n",
    "\n",
    "# + 2 because start and end points:\n",
    "d1_points = np.ndarray(num_via_points + 2)\n",
    "theta2_points = np.ndarray(num_via_points + 2)\n",
    "theta3_points = np.ndarray(num_via_points + 2)\n",
    "theta4_points = np.ndarray(num_via_points + 2)\n",
    "\n",
    "# XYZ values for target positions:\n",
    "P_coordinates = np.ndarray([num_via_points + 2, 3])\n",
    "\n",
    "for i in range(num_via_points + 2):\n",
    "    P = get_random_trans_mat()\n",
    "#     print(P[:3, -1])\n",
    "    P_coordinates[i, :] = P[:3, -1]\n",
    "    # get rii, X, Y, Z\n",
    "    vals_target = update_target_vals(P, empty_vals)\n",
    "    vals_target.update({l0: l0_val, l2: l2_val, l3: l3_val, l4: l4_val, le: le_val})\n",
    "    if i == 0:\n",
    "        print('======> Start Position:')\n",
    "        symprint('P', 0, 'start')\n",
    "        matprint(Matrix(P))\n",
    "        show_ans = True\n",
    "    elif i == num_via_points + 1:\n",
    "        print('======> End Position:')\n",
    "        symprint('P', 0, 'start')\n",
    "        matprint(Matrix(P))\n",
    "        show_ans = True\n",
    "    else:\n",
    "        show_ans = False\n",
    "        \n",
    "    # solve theta values\n",
    "    d1_points[i], theta2_points[i], theta3_points[i], theta4_points[i] = solve_inverse_kinematics(vals_target, show_ans=show_ans)"
   ]
  },
  {
   "cell_type": "markdown",
   "id": "1e40e8cf",
   "metadata": {},
   "source": [
    "Now we have arrays for each theta, each array has a length of 12, corresponding to 12 points.\n",
    "\n",
    "Then we need arrays with length 11, corresponding to 11 segments."
   ]
  },
  {
   "cell_type": "code",
   "execution_count": 98,
   "id": "2502f953",
   "metadata": {},
   "outputs": [],
   "source": [
    "def calc_kinematics_parameters(via_points, tf):\n",
    "    a_mins = np.ndarray(num_via_points + 2)  # minimum required accelerations\n",
    "    a_vals = np.ndarray(num_via_points + 2)  # actual acclerations\n",
    "    V_vals = np.ndarray(num_via_points + 1)  # velocity for linear regions\n",
    "    t_blends = np.ndarray(num_via_points + 2)  # time for blend regions\n",
    "    t_linears = np.ndarray(num_via_points + 1)  # time for linear regions\n",
    "\n",
    "#     a_mins[:-1] = 2 * (via_points[1:] - via_points[:-1]) / (tf/2)**2\n",
    "#     a_mins[-1] = a_mins[-2]  # make the last acceleration magnitude = second last \n",
    "\n",
    "    a_mins[0] = 8*(via_points[1]-via_points[0]) / (3*tf[0]**2)\n",
    "    a_mins[-1] = 8*(via_points[-1]-via_points[-2]) / (3*tf[-1]**2)\n",
    "    # for the middle segments:\n",
    "    left = ((via_points[2:]-via_points[1:-1])/tf[1:] - (via_points[1:-1]-via_points[:-2])/tf[:-1]) / tf[:-1]\n",
    "    right = ((via_points[2:]-via_points[1:-1])/tf[1:] - (via_points[1:-1]-via_points[:-2])/tf[:-1]) / tf[1:]\n",
    "    a_mins[1:-1] = np.maximum(np.abs(left), np.abs(right))\n",
    "    a_mins = 2 * a_mins\n",
    "\n",
    "    # Step 1: Find the start and end acceleration:\n",
    "    a_vals[0] = np.sign(via_points[1] - via_points[0]) * a_mins[0]\n",
    "    a_vals[-1] = np.sign(via_points[-2] - via_points[-1]) * a_mins[-1]\n",
    "\n",
    "    # Step 2: Find the start and end blend times (using a_vals[0] and a_vals[-1]):\n",
    "    t_blends[0] = tf[0] - np.sqrt(tf[0]**2 - 2*(via_points[1]-via_points[0])/a_vals[0])\n",
    "    t_blends[-1] = tf[-1] - np.sqrt(tf[-1]**2 + 2*(via_points[-1]-via_points[-2])/a_vals[-1])\n",
    "\n",
    "    # Step3: Find the start and end velocity (using t_blends[0] and t_blends[-1]):\n",
    "    V_vals[0] = (via_points[1]-via_points[0]) / (tf[0]-0.5*t_blends[0])\n",
    "    V_vals[-1] = (via_points[-1]-via_points[-2]) / (tf[-1]-0.5*t_blends[-1])\n",
    "\n",
    "    # Step 4: Find middle via points velocity at linear regions:\n",
    "    V_vals[1:-1] = (via_points[2:-1] - via_points[1:-2]) / tf[1:-1]\n",
    "\n",
    "    # Step 5: Find middle via points blend acceleration (using V_vals[:]):\n",
    "    a_vals[1:-1] = np.sign(V_vals[1:] - V_vals[:-1]) * a_mins[1:-1]\n",
    "\n",
    "    # Step 6: Find middle via points blend times (using V_vals[:] and a_vals[1:-1]):\n",
    "    t_blends[1:-1] = (V_vals[1:] - V_vals[:-1]) / a_vals[1:-1]\n",
    "\n",
    "    # Step 6: Find all times for linear regions (using t_blends[:]):\n",
    "    t_linears[0] = tf[0] - t_blends[0] - 0.5*t_blends[1]\n",
    "    t_linears[-1] = tf[-1] - t_blends[-1] - 0.5*t_blends[-2]\n",
    "    t_linears[1:-1] = tf[1:-1] - 0.5*t_blends[2:-1] - 0.5*t_blends[1:-2]\n",
    "\n",
    "    print('via_points:', via_points)\n",
    "    print('a_vals:', a_vals)\n",
    "    print('V_vals:', V_vals)\n",
    "    print('t_blends:', t_blends)\n",
    "    print('t_linears:', t_linears)\n",
    "    \n",
    "    return a_vals, V_vals, t_blends, t_linears"
   ]
  },
  {
   "cell_type": "code",
   "execution_count": 100,
   "id": "092e5d10",
   "metadata": {},
   "outputs": [
    {
     "name": "stdout",
     "output_type": "stream",
     "text": [
      "tf: [2.49274937 2.21749814 3.83017457 2.1847995  2.35921422 0.49408688\n",
      " 3.12493674 2.01553064 2.91241853 2.2702057  0.76881142]\n"
     ]
    },
    {
     "data": {
      "text/latex": [
       "$\\displaystyle d_{1}$"
      ],
      "text/plain": [
       "d_1"
      ]
     },
     "metadata": {},
     "output_type": "display_data"
    },
    {
     "name": "stdout",
     "output_type": "stream",
     "text": [
      "via_points: [ 2.45439529 11.15728951 21.84122086 32.05021667  8.18365479 25.60723495\n",
      " 15.72808266  6.62366533 38.63332748  6.33697891 22.45641136 10.76163483]\n",
      "a_vals: [   7.46973511    1.1965991    -1.94146612  -12.43988446   16.76057319\n",
      " -110.83111281   69.14287996   18.65015424  -26.76286915   16.024639\n",
      "  -58.04266104 -105.52394182]\n",
      "V_vals: [  3.89963467   4.81801142   2.66541267 -10.92391402   7.38533195\n",
      " -19.99476747  -2.91347252  15.88150612 -11.08918525   7.10042815\n",
      " -14.00301441]\n",
      "t_blends: [ 0.52205796  0.76748909  1.10874907  1.09239975  1.09239975  0.24704344\n",
      "  0.24704344  1.00776532  1.00776532  1.13510285  0.36358503 -0.13269988]\n",
      "t_linears: [1.58694687 1.27937906 2.72960016 1.09239975 1.68949263 0.24704344\n",
      " 2.49753236 1.00776532 1.84098444 1.52086176 0.71971878]\n"
     ]
    },
    {
     "data": {
      "text/latex": [
       "$\\displaystyle \\theta_{2}$"
      ],
      "text/plain": [
       "\\theta_2"
      ]
     },
     "metadata": {},
     "output_type": "display_data"
    },
    {
     "name": "stdout",
     "output_type": "stream",
     "text": [
      "via_points: [ 9.20448184e-01 -2.09263841e+00 -4.85104263e-01  2.69974610e+00\n",
      " -1.49877453e+00  2.45919100e+00  2.23891393e+00 -2.25440994e+00\n",
      " -1.26082420e+00  1.35598159e+00 -2.34842387e+00 -5.77420113e-04]\n",
      "a_vals: [  2.58614642   1.74401205   0.0961302   -2.5203336    3.29490986\n",
      "  -8.59561061  -4.01575589   1.91597939   0.40240955  -2.22909143\n",
      "  12.18924152 -21.18501465]\n",
      "V_vals: [-1.11271112  0.72493145  0.83151572 -1.92169608  1.67766263 -0.44582659\n",
      " -1.43789275  0.49296484  0.89849923 -1.63174881  3.41105482]\n",
      "t_blends: [-0.43025836  1.05368686  1.10874907  1.09239975  1.09239975  0.24704344\n",
      "  0.24704344  1.00776532  1.00776532  1.13510285  0.41370939  0.16101263]\n",
      "t_linears: [2.39616431 1.13628018 2.72960016 1.09239975 1.68949263 0.24704344\n",
      " 2.49753236 1.00776532 1.84098444 1.49579958 0.4009441 ]\n"
     ]
    },
    {
     "data": {
      "text/latex": [
       "$\\displaystyle \\theta_{3}$"
      ],
      "text/plain": [
       "\\theta_3"
      ]
     },
     "metadata": {},
     "output_type": "display_data"
    },
    {
     "name": "stdout",
     "output_type": "stream",
     "text": [
      "via_points: [ 1.04266915 -1.97587741 -0.51314202  1.13083832  1.94155231 -0.80454792\n",
      " -0.38044918 -0.07266384 -1.18864785  0.80667861 -1.88811097 -2.46755525]\n",
      "a_vals: [ 2.59083274  1.68709393 -0.20781535 -0.05322953 -1.40521778  8.18616298\n",
      " -3.07579595 -0.6471603   1.22925663 -1.649308    1.12728809 -5.22842344]\n",
      "V_vals: [-1.11472745  0.6596332   0.42921812  0.3710702  -1.16398935  0.85834852\n",
      "  0.0984933  -0.55369241  0.6851098  -1.18702441 -0.69381116]\n",
      "t_blends: [-0.43025836  1.05172606  1.10874907  1.09239975  1.09239975  0.24704344\n",
      "  0.24704344  1.00776532  1.00776532  1.13510285  0.43752192 -0.13269988]\n",
      "t_linears: [2.39714471 1.13726057 2.72960016 1.09239975 1.68949263 0.24704344\n",
      " 2.49753236 1.00776532 1.84098444 1.48389332 0.68275034]\n"
     ]
    },
    {
     "data": {
      "text/latex": [
       "$\\displaystyle \\theta_{4}$"
      ],
      "text/plain": [
       "\\theta_4"
      ]
     },
     "metadata": {},
     "output_type": "display_data"
    },
    {
     "name": "stdout",
     "output_type": "stream",
     "text": [
      "via_points: [-1.54447271  1.61581543  2.75413863  1.3668786   2.35099178 -2.52621635\n",
      " -2.20830616 -2.5279115   1.98895404  2.63637923  0.12837219  0.83045724]\n",
      "a_vals: [ 2.7124902  -0.68045645 -0.78965486  0.74389321 -2.30477745 10.97269234\n",
      " -3.01851978  2.32524992 -2.00317701 -1.16909841  5.24955059 -6.33503189]\n",
      "V_vals: [ 1.4160771   0.51333671 -0.36219238  0.45043638 -2.06730194  0.64342973\n",
      " -0.10227578  2.24103045  0.22229813 -1.10474881  1.02002011]\n",
      "t_blends: [0.52205796 1.32666886 1.10874907 1.09239975 1.09239975 0.24704344\n",
      " 0.24704344 1.00776532 1.00776532 1.13510285 0.40475254 0.16101263]\n",
      "t_linears: [1.30735698 0.99978917 2.72960016 1.09239975 1.68949263 0.24704344\n",
      " 2.49753236 1.00776532 1.84098444 1.50027801 0.40542252]\n"
     ]
    }
   ],
   "source": [
    "# calculate distance between two points position\n",
    "dist = np.sqrt(np.sum((P_coordinates[1:] - P_coordinates[:-1])**2, axis=1))\n",
    "# time between two points depending on the distance\n",
    "tf = dist/20\n",
    "print('tf:', tf)\n",
    "\n",
    "display(d1)\n",
    "a_vals_d1, V_vals_d1, b_blends_d1, t_linears_d1 = calc_kinematics_parameters(d1_points, tf)\n",
    "\n",
    "display(theta2)\n",
    "a_vals_theta2, V_vals_theta2, b_blends_theta2, t_linears_theta2 = calc_kinematics_parameters(theta2_points, tf)\n",
    "\n",
    "display(theta3)\n",
    "a_vals_theta3, V_vals_theta3, b_blends_theta3, t_linears_theta3 = calc_kinematics_parameters(theta3_points, tf)\n",
    "\n",
    "display(theta4)\n",
    "a_vals_theta4, V_vals_theta4, b_blends_theta4, t_linears_theta4 = calc_kinematics_parameters(theta4_points, tf)"
   ]
  },
  {
   "cell_type": "code",
   "execution_count": 101,
   "id": "e031dbf9",
   "metadata": {},
   "outputs": [
    {
     "data": {
      "image/png": "[encoded data removed]",
      "text/plain": [
       "<Figure size 640x480 with 1 Axes>"
      ]
     },
     "metadata": {},
     "output_type": "display_data"
    },
    {
     "data": {
      "image/png": "[encoded data removed]",
      "text/plain": [
       "<Figure size 640x480 with 1 Axes>"
      ]
     },
     "metadata": {},
     "output_type": "display_data"
    },
    {
     "data": {
      "image/png": "[encoded data removed]",
      "text/plain": [
       "<Figure size 640x480 with 1 Axes>"
      ]
     },
     "metadata": {},
     "output_type": "display_data"
    }
   ],
   "source": [
    "def plot_trajectory(via_points, tf, a_vals, V_vals, t_blends, t_linears):\n",
    "    # for the whole trajectory\n",
    "    time_history = []\n",
    "    disp_history = []\n",
    "    velo_history = []\n",
    "    acc_history = []\n",
    "    disp_ideal_history = []\n",
    "    t_start = 0\n",
    "\n",
    "    # initialise starting values\n",
    "    disp_last = via_points[0]\n",
    "    velo_last = 0\n",
    "\n",
    "    # Need plots for each segment:\n",
    "    for i in range(num_via_points + 1):\n",
    "        t_local = np.linspace(0, tf[i], 1000)\n",
    "        tb_left = t_blends[i] if i == 0 else t_blends[i]/2\n",
    "        tb_right = t_blends[i+1] if i == num_via_points else t_blends[i+1]/2\n",
    "        disp, velo, acc, disp_ideal = calc_parabolic_traj_via_points(t_local, disp_last, velo_last, \n",
    "                                                         V_vals[i], a_vals[i],\n",
    "                                                         a_vals[i+1], tb_left, tb_right)\n",
    "        # use last points as the initial points for the next segment\n",
    "        disp_last = disp[-1]\n",
    "        velo_last = velo[-1]\n",
    "\n",
    "        time_history.extend((t_local + t_start).tolist())\n",
    "\n",
    "        disp_history.extend(disp.tolist())\n",
    "        velo_history.extend(velo.tolist())\n",
    "        acc_history.extend(acc.tolist())\n",
    "        disp_ideal_history.extend(disp_ideal.tolist())\n",
    "\n",
    "        plt.plot(t_start, via_points[i], 'rx')\n",
    "        t_start += tf[i]\n",
    "\n",
    "    plt.plot(t_start, via_points[-1], 'rx')\n",
    "    plt.plot(time_history, disp_ideal_history, 'b--')\n",
    "    plt.plot(time_history, disp_history)\n",
    "    plt.show()\n",
    "\n",
    "    plt.plot(time_history, velo_history)\n",
    "    plt.show()\n",
    "\n",
    "    plt.plot(time_history, acc_history)\n",
    "    plt.show()\n",
    "\n",
    "\n",
    "# plot_trajectory(d1_points, tf, a_vals_d1, V_vals_d1, b_blends_d1, t_linears_d1)\n",
    "plot_trajectory(theta2_points, tf, a_vals_theta2, V_vals_theta2, b_blends_theta2, t_linears_theta2)\n",
    "# plot_trajectory(theta3_points, tf, a_vals_theta3, V_vals_theta3, b_blends_theta3, t_linears_theta3)\n",
    "# plot_trajectory(theta4_points, tf, a_vals_theta4, V_vals_theta4, b_blends_theta4, t_linears_theta4)\n",
    "\n",
    "\n"
   ]
  },
  {
   "cell_type": "code",
   "execution_count": null,
   "id": "da2bdb87",
   "metadata": {},
   "outputs": [],
   "source": []
  },
  {
   "cell_type": "code",
   "execution_count": 10,
   "id": "252a304f",
   "metadata": {},
   "outputs": [
    {
     "name": "stdout",
     "output_type": "stream",
     "text": [
      "V_vals [-2.35282689 -8.27344727  2.09064758  0.26474162  6.90298444  3.22087546\n",
      " -6.46304951 19.61393556  2.02371307 -9.11448948  6.37359633]\n"
     ]
    }
   ],
   "source": [
    "\n",
    "print('V_vals', V_vals)"
   ]
  },
  {
   "cell_type": "code",
   "execution_count": null,
   "id": "34ed6f8a",
   "metadata": {},
   "outputs": [],
   "source": []
  }
 ],
 "metadata": {
  "kernelspec": {
   "display_name": "Python 3 (ipykernel)",
   "language": "python",
   "name": "python3"
  },
  "language_info": {
   "codemirror_mode": {
    "name": "ipython",
    "version": 3
   },
   "file_extension": ".py",
   "mimetype": "text/x-python",
   "name": "python",
   "nbconvert_exporter": "python",
   "pygments_lexer": "ipython3",
   "version": "3.9.13"
  }
 },
 "nbformat": 4,
 "nbformat_minor": 5
}
