{
 "cells": [
  {
   "cell_type": "markdown",
   "id": "ec072e63",
   "metadata": {},
   "source": [
    "# 4 Degree of Freedom Robot Arm"
   ]
  },
  {
   "cell_type": "code",
   "execution_count": 1,
   "id": "e99ae4e8",
   "metadata": {},
   "outputs": [],
   "source": [
    "import time\n",
    "import numpy as np\n",
    "from sympy import *\n",
    "import matplotlib.pyplot as plt\n",
    "from mpl_toolkits import mplot3d\n",
    "from IPython.display import display, Math\n",
    "\n",
    "from tools import *"
   ]
  },
  {
   "cell_type": "markdown",
   "id": "a607a658",
   "metadata": {},
   "source": [
    "## Variables and settings"
   ]
  },
  {
   "cell_type": "code",
   "execution_count": 2,
   "id": "bd86995f",
   "metadata": {},
   "outputs": [],
   "source": [
    "# Constants\n",
    "l0 = symbols('l_0')\n",
    "l2 = symbols('l_2')\n",
    "l3 = symbols('l_3')\n",
    "l4 = symbols('l_4')\n",
    "le = symbols('l_e')\n",
    "l0_val = 5\n",
    "l2_val = 20\n",
    "l3_val = 15\n",
    "l4_val = 5\n",
    "le_val = 3\n",
    "\n",
    "# Variables\n",
    "theta2 = symbols(r\"\\theta_2\")\n",
    "theta3 = symbols(r\"\\theta_3\")\n",
    "theta4 = symbols(r\"\\theta_4\")\n",
    "d1 = symbols('d_1')\n",
    "\n",
    "alias = {}\n",
    "\n",
    "# display cos(theta) as c\\theta, sin(theta) as s\\theta\n",
    "alias.update({sin(theta2): symbols(r\"s\\theta_2\"),\n",
    "              cos(theta2): symbols(r\"c\\theta_2\"),\n",
    "              sin(theta3): symbols(r\"s\\theta_3\"),\n",
    "              cos(theta3): symbols(r\"c\\theta_3\"),\n",
    "              sin(theta4): symbols(r\"s\\theta_4\"),\n",
    "              cos(theta4): symbols(r\"c\\theta_4\")})"
   ]
  },
  {
   "cell_type": "markdown",
   "id": "6216276e",
   "metadata": {},
   "source": [
    "## Transformation Metrics (see forward_kinematics.py)"
   ]
  },
  {
   "cell_type": "code",
   "execution_count": 3,
   "id": "3343e98a",
   "metadata": {},
   "outputs": [],
   "source": [
    "R01, T01 = get_trans_mat(0, 0, l0+d1, 0)\n",
    "R12, T12 = get_trans_mat(0, 0, 0, theta2)\n",
    "R23, T23 = get_trans_mat(l2, 90, 0, theta3+pi/2)\n",
    "R34, T34 = get_trans_mat(0, 90, l3, theta4)\n",
    "R4e, T4e = get_trans_mat(-le, 0, l4, 0)\n",
    "\n",
    "T04 = T01 * T12 * T23 * T34\n",
    "T0e = T04 * T4e"
   ]
  },
  {
   "cell_type": "markdown",
   "id": "caff3ec5",
   "metadata": {},
   "source": [
    "## Inverse Kinematics to find $\\theta$ values from the position metrices"
   ]
  },
  {
   "cell_type": "code",
   "execution_count": 4,
   "id": "eec37cc3",
   "metadata": {},
   "outputs": [],
   "source": [
    "def get_random_trans_mat():\n",
    "    \"\"\"\n",
    "    Obtain random position metrices by applying forward kinematics using\n",
    "    randomly assigned theta2, theta3, theta4 & d1 values.\n",
    "    Random assignment is for proving concepts and is practically useless.\n",
    "    \"\"\"\n",
    "    theta2_val = (np.random.rand()*360-180)/180*np.pi\n",
    "    theta3_val = (np.random.rand()*300-150)/180*np.pi\n",
    "    theta4_val = (np.random.rand()*360-180)/180*np.pi\n",
    "    d1_val = np.random.rand() * 40\n",
    "\n",
    "    values = {l0: l0_val, l2: l2_val, l3: l3_val, l4: l4_val, le: le_val, \n",
    "              theta2: theta2_val, theta3: theta3_val, theta4: theta4_val, \n",
    "              d1: d1_val}\n",
    "    T0e_target = T0e.subs(values)\n",
    "    # convert infinitely small non-zero float to zero\n",
    "    T0e_target = np.array(T0e_target, dtype=np.float32)\n",
    "    T0e_target[np.abs(T0e_target) < 1e-7] = 0\n",
    "    \n",
    "    return T0e_target"
   ]
  },
  {
   "cell_type": "code",
   "execution_count": 5,
   "id": "3860359c",
   "metadata": {},
   "outputs": [],
   "source": [
    "def solve_inverse_kinematics(vals_target, show_ans=False):\n",
    "    # ========================= d1 ==============================\n",
    "    d1_inv =le*r31 - l4*r33 + Z - l0 - l3*r33\n",
    "    d1_ans = float(d1_inv.subs(vals_target))\n",
    "    if show_ans:\n",
    "        eqnprint(d1, alias, None, d1_ans)\n",
    "\n",
    "    # ========================= theta2 ==========================\n",
    "    theta2_inv = atan2((le*r21 - r23*(l3+l4) + Y)/l2, (le*r11 - r13*(l3+l4) + X)/l2)\n",
    "    theta2_ans = float(theta2_inv.subs(vals_target))\n",
    "    if show_ans:\n",
    "        eqnprint(theta2, alias, None, theta2_ans)\n",
    "\n",
    "    # ========================= theta3 ==========================\n",
    "    if sin(theta2_ans) != 0:\n",
    "        theta3_inv = atan2(r33, r23/sin(theta2_ans))\n",
    "    else:\n",
    "        theta3_inv = atan2(r33, r13/cos(theta2_ans))\n",
    "\n",
    "    theta3_ans = float(theta3_inv.subs(vals_target))\n",
    "    # theta3 range from -180 to 180 deg\n",
    "    if theta3_ans > np.pi:\n",
    "        theta3_ans -= 2*np.pi \n",
    "    if show_ans:\n",
    "        eqnprint(theta3, alias, None, theta3_ans)\n",
    "\n",
    "    # ========================= theta4 ==========================\n",
    "    if theta3_ans == np.pi/2:\n",
    "        theta4_inv = atan2(r12, -r11) - theta2_ans\n",
    "    elif theta3_ans == -np.pi/2:\n",
    "        theta4_inv = atan2(-r12, r11) + theta2_ans\n",
    "    else:\n",
    "        theta4_inv = atan2(-r32/cos(theta3_ans), r31/cos(theta3_ans))\n",
    "\n",
    "    theta4_ans = float(theta4_inv.subs(vals_target))\n",
    "    # theta4 range from -180 to 180 deg\n",
    "    if theta4_ans > np.pi:\n",
    "        theta4_ans -= 2*np.pi \n",
    "    if show_ans:\n",
    "        eqnprint(theta4, alias, None, theta4_ans)\n",
    "    \n",
    "    return d1_ans, theta2_ans, theta3_ans, theta4_ans\n"
   ]
  },
  {
   "cell_type": "code",
   "execution_count": 6,
   "id": "e7211d21",
   "metadata": {},
   "outputs": [],
   "source": [
    "r11 = symbols('r_{11}')\n",
    "r12 = symbols('r_{12}')\n",
    "r13 = symbols('r_{13}')\n",
    "r21 = symbols('r_{21}')\n",
    "r22 = symbols('r_{22}')\n",
    "r23 = symbols('r_{23}')\n",
    "r31 = symbols('r_{31}')\n",
    "r32 = symbols('r_{32}')\n",
    "r33 = symbols('r_{33}')\n",
    "X = symbols('X')\n",
    "Y = symbols('Y')\n",
    "Z = symbols('Z')\n",
    "empty_vals = {r11: None, r12: None, r13: None, \n",
    "              r21: None, r22: None, r23: None, \n",
    "              r31: None, r32: None, r33: None, \n",
    "              X: None, Y: None, Z: None}"
   ]
  },
  {
   "cell_type": "code",
   "execution_count": 33,
   "id": "f702575d",
   "metadata": {},
   "outputs": [
    {
     "name": "stdout",
     "output_type": "stream",
     "text": [
      "======> Start Position:\n"
     ]
    },
    {
     "data": {
      "text/latex": [
       "$\\displaystyle ^0P_{start}$"
      ],
      "text/plain": [
       "^0P_start"
      ]
     },
     "metadata": {},
     "output_type": "display_data"
    },
    {
     "data": {
      "text/latex": [
       "$\\displaystyle \\left[\\begin{matrix}0.843135 & -0.522406 & 0.127335 & -6.63047\\\\0.451075 & 0.81608 & 0.36131 & -12.9899\\\\-0.292667 & -0.247196 & 0.92371 & 40.1803\\\\0 & 0 & 0 & 1.0\\end{matrix}\\right]$"
      ],
      "text/plain": [
       "Matrix([\n",
       "[ 0.843135, -0.522406, 0.127335, -6.63047],\n",
       "[ 0.451075,   0.81608,  0.36131, -12.9899],\n",
       "[-0.292667, -0.247196,  0.92371,  40.1803],\n",
       "[        0,         0,        0,      1.0]])"
      ]
     },
     "metadata": {},
     "output_type": "display_data"
    },
    {
     "data": {
      "text/latex": [
       "$\\displaystyle d_1=15.828144073486328$"
      ],
      "text/plain": [
       "<IPython.core.display.Math object>"
      ]
     },
     "metadata": {},
     "output_type": "display_data"
    },
    {
     "data": {
      "text/latex": [
       "$\\displaystyle \\theta_2=-1.9096314032846176$"
      ],
      "text/plain": [
       "<IPython.core.display.Math object>"
      ]
     },
     "metadata": {},
     "output_type": "display_data"
    },
    {
     "data": {
      "text/latex": [
       "$\\displaystyle \\theta_3=1.963937839701909$"
      ],
      "text/plain": [
       "<IPython.core.display.Math object>"
      ]
     },
     "metadata": {},
     "output_type": "display_data"
    },
    {
     "data": {
      "text/latex": [
       "$\\displaystyle \\theta_4=-0.7013695300659748$"
      ],
      "text/plain": [
       "<IPython.core.display.Math object>"
      ]
     },
     "metadata": {},
     "output_type": "display_data"
    },
    {
     "name": "stdout",
     "output_type": "stream",
     "text": [
      "======> End Position:\n"
     ]
    },
    {
     "data": {
      "text/latex": [
       "$\\displaystyle ^0P_{start}$"
      ],
      "text/plain": [
       "^0P_start"
      ]
     },
     "metadata": {},
     "output_type": "display_data"
    },
    {
     "data": {
      "text/latex": [
       "$\\displaystyle \\left[\\begin{matrix}-0.133582 & -0.982215 & 0.131943 & -0.57361\\\\0.695713 & 0.00187531 & 0.718318 & -7.39169\\\\-0.70579 & 0.187749 & 0.683089 & 31.2029\\\\0 & 0 & 0 & 1.0\\end{matrix}\\right]$"
      ],
      "text/plain": [
       "Matrix([\n",
       "[-0.133582,  -0.982215, 0.131943, -0.57361],\n",
       "[ 0.695713, 0.00187531, 0.718318, -7.39169],\n",
       "[ -0.70579,   0.187749, 0.683089,  31.2029],\n",
       "[        0,          0,        0,      1.0]])"
      ]
     },
     "metadata": {},
     "output_type": "display_data"
    },
    {
     "data": {
      "text/latex": [
       "$\\displaystyle d_1=10.423772811889648$"
      ],
      "text/plain": [
       "<IPython.core.display.Math object>"
      ]
     },
     "metadata": {},
     "output_type": "display_data"
    },
    {
     "data": {
      "text/latex": [
       "$\\displaystyle \\theta_2=-1.7524544318490707$"
      ],
      "text/plain": [
       "<IPython.core.display.Math object>"
      ]
     },
     "metadata": {},
     "output_type": "display_data"
    },
    {
     "data": {
      "text/latex": [
       "$\\displaystyle \\theta_3=2.389608657121881$"
      ],
      "text/plain": [
       "<IPython.core.display.Math object>"
      ]
     },
     "metadata": {},
     "output_type": "display_data"
    },
    {
     "data": {
      "text/latex": [
       "$\\displaystyle \\theta_4=0.25999113237953886$"
      ],
      "text/plain": [
       "<IPython.core.display.Math object>"
      ]
     },
     "metadata": {},
     "output_type": "display_data"
    }
   ],
   "source": [
    "num_via_points = 10\n",
    "\n",
    "# + 2 because start and end points:\n",
    "d1_points = np.ndarray(num_via_points + 2)\n",
    "theta2_points = np.ndarray(num_via_points + 2)\n",
    "theta3_points = np.ndarray(num_via_points + 2)\n",
    "theta4_points = np.ndarray(num_via_points + 2)\n",
    "\n",
    "# XYZ values for target positions:\n",
    "P_coordinates = np.ndarray([num_via_points + 2, 3])\n",
    "\n",
    "for i in range(num_via_points + 2):\n",
    "    P = get_random_trans_mat()\n",
    "#     print(P[:3, -1])\n",
    "    P_coordinates[i, :] = P[:3, -1]\n",
    "    # get rii, X, Y, Z\n",
    "    vals_target = update_target_vals(P, empty_vals)\n",
    "    vals_target.update({l0: l0_val, l2: l2_val, l3: l3_val, l4: l4_val, le: le_val})\n",
    "    if i == 0:\n",
    "        print('======> Start Position:')\n",
    "        symprint('P', 0, 'start')\n",
    "        matprint(Matrix(P))\n",
    "        show_ans = True\n",
    "    elif i == num_via_points + 1:\n",
    "        print('======> End Position:')\n",
    "        symprint('P', 0, 'start')\n",
    "        matprint(Matrix(P))\n",
    "        show_ans = True\n",
    "    else:\n",
    "        show_ans = False\n",
    "        \n",
    "    # solve theta values\n",
    "    d1_points[i], theta2_points[i], theta3_points[i], theta4_points[i] = solve_inverse_kinematics(vals_target, show_ans=show_ans)"
   ]
  },
  {
   "cell_type": "markdown",
   "id": "b25bc39c",
   "metadata": {},
   "source": [
    "Now we have arrays for each theta, each array has a length of 12, corresponding to 12 points.\n",
    "\n",
    "Then we need arrays with length 11, corresponding to 11 segments."
   ]
  },
  {
   "cell_type": "code",
   "execution_count": 34,
   "id": "b22e284e",
   "metadata": {},
   "outputs": [
    {
     "name": "stdout",
     "output_type": "stream",
     "text": [
      "tf [1.64514475 1.59194673 1.3127388  3.12558531 3.01768119 1.20725671\n",
      " 2.5875257  1.18582799 1.31214058 2.72153569 1.98568569]\n",
      "via_points [15.82814407 38.29624939 17.91276169 33.99390411 13.61974907 34.27577209\n",
      " 15.20810318 35.65044403 14.82740974 19.12819099 38.48338318 10.42377281]\n",
      "a_mins [  66.4122518   -64.34449863   74.65351147  -16.68425729   18.14637925\n",
      " -104.66183272   24.4259391  -118.46514854   19.98373258   20.9054445\n",
      "  -56.9312358   -56.9312358 ]\n",
      "a_vals [  66.4122518   -64.34449863   74.65351147  -16.68425729   18.14637925\n",
      " -104.66183272   24.4259391  -118.46514854   19.98373258   20.9054445\n",
      "  -56.9312358    56.9312358 ]\n",
      "V_vals [ 14.63776527 -12.80412676  12.25007016  -6.51850869   6.84499843\n",
      " -15.79421245   7.90034313 -17.5599112    3.2776833    7.11186417\n",
      " -15.14549856]\n",
      "t_blends [0.2204076  0.42648389 0.33560641 1.12492744 0.73642829 0.21630818\n",
      " 0.9700571  0.21491768 1.04272785 0.18340585 0.39095169 0.26603144]\n",
      "t_linears [1.2114952  1.21090158 0.58247188 2.19490745 2.54131296 0.61407407\n",
      " 1.99503831 0.55700523 0.69907373 2.43435692 1.52417841]\n"
     ]
    }
   ],
   "source": [
    "# calculate distance between two points position\n",
    "dist = np.sqrt(np.sum((P_coordinates[1:] - P_coordinates[:-1])**2, axis=1))\n",
    "# time between two points depending on the distance\n",
    "tf = dist/20\n",
    "\n",
    "via_points = d1_points\n",
    "\n",
    "a_mins = np.ndarray(num_via_points + 2)  # minimum required accelerations\n",
    "a_vals = np.ndarray(num_via_points + 2)  # actual acclerations\n",
    "V_vals = np.ndarray(num_via_points + 1)  # velocity for linear regions\n",
    "t_blends = np.ndarray(num_via_points + 2)  # time for blend regions\n",
    "t_linears = np.ndarray(num_via_points + 1)  # time for linear regions\n",
    "\n",
    "a_mins[:-1] = 2 * (via_points[1:] - via_points[:-1]) / (tf/2)**2\n",
    "a_mins[-1] = a_mins[-2]  # make the last acceleration magnitude = second last \n",
    "\n",
    "\n",
    "# Step 1: Find the start and end acceleration:\n",
    "a_vals[0] = np.sign(via_points[1] - via_points[0]) * np.abs(a_mins[0])\n",
    "a_vals[-1] = np.sign(via_points[-2] - via_points[-1]) * np.abs(a_mins[-1])\n",
    "\n",
    "# Step 2: Find the start and end blend times (using a_vals[0] and a_vals[-1]):\n",
    "t_blends[0] = tf[0] - np.sqrt(tf[0]**2 - 2*(via_points[1]-via_points[0])/a_vals[0])\n",
    "t_blends[-1] = tf[-1] - np.sqrt(tf[-1]**2 + 2*(via_points[-1]-via_points[-2])/a_vals[-1])\n",
    "\n",
    "# Step3: Find the start and end velocity (using t_blends[0] and t_blends[-1]):\n",
    "V_vals[0] = (via_points[1]-via_points[0]) / (tf[0]-0.5*t_blends[0])\n",
    "V_vals[-1] = (via_points[-1]-via_points[-2]) / (tf[-1]-0.5*t_blends[-1])\n",
    "\n",
    "# Step 4: Find middle via points velocity at linear regions:\n",
    "V_vals[1:-1] = (via_points[2:-1] - via_points[1:-2]) / tf[1:-1]\n",
    "\n",
    "# Step 5: Find middle via points blend acceleration (using V_vals[:]):\n",
    "a_vals[1:-1] = np.sign(V_vals[1:] - V_vals[:-1]) * np.abs(a_mins[1:-1])\n",
    "\n",
    "# Step 6: Find middle via points blend times (using V_vals[:] and a_vals[1:-1]):\n",
    "t_blends[1:-1] = (V_vals[1:] - V_vals[:-1]) / a_vals[1:-1]\n",
    "\n",
    "# Step 6: Find all times for linear regions (using t_blends[:]):\n",
    "t_linears[0] = tf[0] - t_blends[0] - 0.5*t_blends[1]\n",
    "t_linears[-1] = tf[-1] - t_blends[-1] - 0.5*t_blends[-2]\n",
    "t_linears[1:-1] = tf[1:-1] - 0.5*t_blends[2:-1] - 0.5*t_blends[1:-2]\n",
    "\n",
    "print('tf', tf)\n",
    "print('via_points', via_points)\n",
    "print('a_mins', a_mins)\n",
    "print('a_vals', a_vals)\n",
    "print('V_vals', V_vals)\n",
    "print('t_blends', t_blends)\n",
    "print('t_linears', t_linears)"
   ]
  },
  {
   "cell_type": "code",
   "execution_count": 35,
   "id": "b2b30530",
   "metadata": {},
   "outputs": [
    {
     "data": {
      "image/png": "[encoded data removed]",
      "text/plain": [
       "<Figure size 640x480 with 1 Axes>"
      ]
     },
     "metadata": {},
     "output_type": "display_data"
    },
    {
     "data": {
      "image/png": "[encoded data removed]",
      "text/plain": [
       "<Figure size 640x480 with 1 Axes>"
      ]
     },
     "metadata": {},
     "output_type": "display_data"
    },
    {
     "data": {
      "image/png": "[encoded data removed]",
      "text/plain": [
       "<Figure size 640x480 with 1 Axes>"
      ]
     },
     "metadata": {},
     "output_type": "display_data"
    }
   ],
   "source": [
    "# Need plots for each segment:\n",
    "time_history = []\n",
    "disp_history = []\n",
    "velo_history = []\n",
    "acc_history = []\n",
    "t_start = 0\n",
    "\n",
    "# initialise starting values\n",
    "disp_last = via_points[0]\n",
    "velo_last = 0\n",
    "for i in range(num_via_points + 1):\n",
    "    t_local = np.linspace(0, tf[i], 1000)\n",
    "    tb_left = t_blends[i] if i == 0 else t_blends[i]/2\n",
    "    tb_right = t_blends[i+1] if i == num_via_points else t_blends[i+1]/2\n",
    "    disp, velo, acc = calc_parabolic_traj_via_points(t_local, disp_last, velo_last, \n",
    "                                                                       V_vals[i], a_vals[i],\n",
    "                                                                       a_vals[i+1], tb_left, tb_right)\n",
    "    # use last points as the initial points for the next segment\n",
    "    disp_last = disp[-1]\n",
    "    velo_last = velo[-1]\n",
    "    \n",
    "    time_history.extend((t_local + t_start).tolist())\n",
    "    \n",
    "    disp_history.extend(disp.tolist())\n",
    "    velo_history.extend(velo.tolist())\n",
    "    acc_history.extend(acc.tolist())\n",
    "    \n",
    "    plt.plot(t_start, via_points[i], 'rx')\n",
    "    t_start += tf[i]\n",
    "    \n",
    "plt.plot(t_start, via_points[-1], 'rx')\n",
    "plt.plot(time_history, disp_history)\n",
    "plt.show()\n",
    "\n",
    "plt.plot(time_history, velo_history)\n",
    "plt.show()\n",
    "\n",
    "plt.plot(time_history, acc_history)\n",
    "plt.show()\n",
    "\n"
   ]
  },
  {
   "cell_type": "code",
   "execution_count": null,
   "id": "7db2ec2d",
   "metadata": {},
   "outputs": [],
   "source": []
  },
  {
   "cell_type": "code",
   "execution_count": 10,
   "id": "4c8acea8",
   "metadata": {},
   "outputs": [
    {
     "name": "stdout",
     "output_type": "stream",
     "text": [
      "V_vals [-2.35282689 -8.27344727  2.09064758  0.26474162  6.90298444  3.22087546\n",
      " -6.46304951 19.61393556  2.02371307 -9.11448948  6.37359633]\n"
     ]
    }
   ],
   "source": [
    "\n",
    "print('V_vals', V_vals)"
   ]
  },
  {
   "cell_type": "code",
   "execution_count": null,
   "id": "a6a80bdf",
   "metadata": {},
   "outputs": [],
   "source": []
  }
 ],
 "metadata": {
  "kernelspec": {
   "display_name": "Python 3 (ipykernel)",
   "language": "python",
   "name": "python3"
  },
  "language_info": {
   "codemirror_mode": {
    "name": "ipython",
    "version": 3
   },
   "file_extension": ".py",
   "mimetype": "text/x-python",
   "name": "python",
   "nbconvert_exporter": "python",
   "pygments_lexer": "ipython3",
   "version": "3.9.13"
  }
 },
 "nbformat": 4,
 "nbformat_minor": 5
}
